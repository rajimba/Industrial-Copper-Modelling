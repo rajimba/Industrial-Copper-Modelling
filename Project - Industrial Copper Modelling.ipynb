{
 "cells": [
  {
   "cell_type": "code",
   "execution_count": 535,
   "id": "84a0be6f-676d-4e32-aada-81eab2974b25",
   "metadata": {},
   "outputs": [
    {
     "name": "stdout",
     "output_type": "stream",
     "text": [
      "Defaulting to user installation because normal site-packages is not writeable\n",
      "Requirement already satisfied: xgboost in c:\\users\\rajij\\appdata\\roaming\\python\\python311\\site-packages (2.1.1)\n",
      "Requirement already satisfied: scikit-learn in c:\\programdata\\anaconda3\\lib\\site-packages (1.2.2)\n",
      "Requirement already satisfied: numpy in c:\\programdata\\anaconda3\\lib\\site-packages (from xgboost) (1.26.4)\n",
      "Requirement already satisfied: scipy in c:\\programdata\\anaconda3\\lib\\site-packages (from xgboost) (1.11.4)\n",
      "Requirement already satisfied: joblib>=1.1.1 in c:\\programdata\\anaconda3\\lib\\site-packages (from scikit-learn) (1.2.0)\n",
      "Requirement already satisfied: threadpoolctl>=2.0.0 in c:\\programdata\\anaconda3\\lib\\site-packages (from scikit-learn) (2.2.0)\n"
     ]
    }
   ],
   "source": [
    "import pandas as pd\n",
    "import seaborn as sns\n",
    "import numpy as np\n",
    "import matplotlib.pyplot as plt\n",
    "import sklearn\n",
    "from sklearn.ensemble import IsolationForest\n",
    "from sklearn.model_selection import train_test_split\n",
    "from sklearn.linear_model import LinearRegression\n",
    "from sklearn.metrics import mean_squared_error, r2_score\n",
    "import math\n",
    "#Accessing performance using Cross Validation\n",
    "from sklearn.model_selection import cross_validate\n",
    "from sklearn.preprocessing import OrdinalEncoder\n",
    "from sklearn.preprocessing import StandardScaler\n",
    "from sklearn.linear_model import Lasso, Ridge\n",
    "from sklearn.tree import DecisionTreeRegressor\n",
    "from sklearn.ensemble import RandomForestRegressor\n",
    "from sklearn.ensemble import GradientBoostingRegressor\n",
    "from sklearn.linear_model import LogisticRegression\n",
    "from sklearn.neighbors import KNeighborsClassifier\n",
    "from sklearn.metrics import accuracy_score, precision_score, recall_score, f1_score, confusion_matrix, roc_auc_score\n",
    "from sklearn.tree import DecisionTreeClassifier\n",
    "from sklearn.ensemble import ExtraTreesClassifier\n",
    "from sklearn.ensemble import GradientBoostingClassifier\n",
    "!pip install xgboost scikit-learn\n",
    "from xgboost import XGBClassifier\n",
    "from sklearn.ensemble import RandomForestClassifier\n",
    "from sklearn.model_selection import GridSearchCV\n",
    "from sklearn.model_selection import RandomizedSearchCV"
   ]
  },
  {
   "cell_type": "code",
   "execution_count": 536,
   "id": "90891f4e-9304-4491-b45a-4c2a597bd193",
   "metadata": {},
   "outputs": [
    {
     "name": "stderr",
     "output_type": "stream",
     "text": [
      "C:\\Users\\rajij\\AppData\\Local\\Temp\\ipykernel_13280\\2294043118.py:1: DtypeWarning: Columns (2) have mixed types. Specify dtype option on import or set low_memory=False.\n",
      "  df = pd.read_csv('Copper_Set_Data.csv')\n"
     ]
    }
   ],
   "source": [
    "df = pd.read_csv('Copper_Set_Data.csv')"
   ]
  },
  {
   "cell_type": "code",
   "execution_count": 537,
   "id": "775bd191-ddf5-4839-8076-3c6678d02688",
   "metadata": {},
   "outputs": [
    {
     "data": {
      "text/html": [
       "<div>\n",
       "<style scoped>\n",
       "    .dataframe tbody tr th:only-of-type {\n",
       "        vertical-align: middle;\n",
       "    }\n",
       "\n",
       "    .dataframe tbody tr th {\n",
       "        vertical-align: top;\n",
       "    }\n",
       "\n",
       "    .dataframe thead th {\n",
       "        text-align: right;\n",
       "    }\n",
       "</style>\n",
       "<table border=\"1\" class=\"dataframe\">\n",
       "  <thead>\n",
       "    <tr style=\"text-align: right;\">\n",
       "      <th></th>\n",
       "      <th>id</th>\n",
       "      <th>item_date</th>\n",
       "      <th>quantity tons</th>\n",
       "      <th>customer</th>\n",
       "      <th>country</th>\n",
       "      <th>status</th>\n",
       "      <th>item type</th>\n",
       "      <th>application</th>\n",
       "      <th>thickness</th>\n",
       "      <th>width</th>\n",
       "      <th>material_ref</th>\n",
       "      <th>product_ref</th>\n",
       "      <th>delivery date</th>\n",
       "      <th>selling_price</th>\n",
       "    </tr>\n",
       "  </thead>\n",
       "  <tbody>\n",
       "    <tr>\n",
       "      <th>0</th>\n",
       "      <td>EC06F063-9DF0-440C-8764-0B0C05A4F6AE</td>\n",
       "      <td>20210401.0</td>\n",
       "      <td>54.151139</td>\n",
       "      <td>30156308.0</td>\n",
       "      <td>28.0</td>\n",
       "      <td>Won</td>\n",
       "      <td>W</td>\n",
       "      <td>10.0</td>\n",
       "      <td>2.00</td>\n",
       "      <td>1500.0</td>\n",
       "      <td>DEQ1 S460MC</td>\n",
       "      <td>1670798778</td>\n",
       "      <td>20210701.0</td>\n",
       "      <td>854.00</td>\n",
       "    </tr>\n",
       "    <tr>\n",
       "      <th>1</th>\n",
       "      <td>4E5F4B3D-DDDF-499D-AFDE-A3227EC49425</td>\n",
       "      <td>20210401.0</td>\n",
       "      <td>768.024839</td>\n",
       "      <td>30202938.0</td>\n",
       "      <td>25.0</td>\n",
       "      <td>Won</td>\n",
       "      <td>W</td>\n",
       "      <td>41.0</td>\n",
       "      <td>0.80</td>\n",
       "      <td>1210.0</td>\n",
       "      <td>0000000000000000000000000000000000104991</td>\n",
       "      <td>1668701718</td>\n",
       "      <td>20210401.0</td>\n",
       "      <td>1047.00</td>\n",
       "    </tr>\n",
       "    <tr>\n",
       "      <th>2</th>\n",
       "      <td>E140FF1B-2407-4C02-A0DD-780A093B1158</td>\n",
       "      <td>20210401.0</td>\n",
       "      <td>386.127949</td>\n",
       "      <td>30153963.0</td>\n",
       "      <td>30.0</td>\n",
       "      <td>Won</td>\n",
       "      <td>WI</td>\n",
       "      <td>28.0</td>\n",
       "      <td>0.38</td>\n",
       "      <td>952.0</td>\n",
       "      <td>S0380700</td>\n",
       "      <td>628377</td>\n",
       "      <td>20210101.0</td>\n",
       "      <td>644.33</td>\n",
       "    </tr>\n",
       "    <tr>\n",
       "      <th>3</th>\n",
       "      <td>F8D507A0-9C62-4EFE-831E-33E1DA53BB50</td>\n",
       "      <td>20210401.0</td>\n",
       "      <td>202.411065</td>\n",
       "      <td>30349574.0</td>\n",
       "      <td>32.0</td>\n",
       "      <td>Won</td>\n",
       "      <td>S</td>\n",
       "      <td>59.0</td>\n",
       "      <td>2.30</td>\n",
       "      <td>1317.0</td>\n",
       "      <td>DX51D+ZM310MAO 2.3X1317</td>\n",
       "      <td>1668701718</td>\n",
       "      <td>20210101.0</td>\n",
       "      <td>768.00</td>\n",
       "    </tr>\n",
       "    <tr>\n",
       "      <th>4</th>\n",
       "      <td>4E1C4E78-152B-430A-8094-ADD889C9D0AD</td>\n",
       "      <td>20210401.0</td>\n",
       "      <td>785.526262</td>\n",
       "      <td>30211560.0</td>\n",
       "      <td>28.0</td>\n",
       "      <td>Won</td>\n",
       "      <td>W</td>\n",
       "      <td>10.0</td>\n",
       "      <td>4.00</td>\n",
       "      <td>2000.0</td>\n",
       "      <td>2_S275JR+AR-CL1</td>\n",
       "      <td>640665</td>\n",
       "      <td>20210301.0</td>\n",
       "      <td>577.00</td>\n",
       "    </tr>\n",
       "  </tbody>\n",
       "</table>\n",
       "</div>"
      ],
      "text/plain": [
       "                                     id   item_date quantity tons    customer  \\\n",
       "0  EC06F063-9DF0-440C-8764-0B0C05A4F6AE  20210401.0     54.151139  30156308.0   \n",
       "1  4E5F4B3D-DDDF-499D-AFDE-A3227EC49425  20210401.0    768.024839  30202938.0   \n",
       "2  E140FF1B-2407-4C02-A0DD-780A093B1158  20210401.0    386.127949  30153963.0   \n",
       "3  F8D507A0-9C62-4EFE-831E-33E1DA53BB50  20210401.0    202.411065  30349574.0   \n",
       "4  4E1C4E78-152B-430A-8094-ADD889C9D0AD  20210401.0    785.526262  30211560.0   \n",
       "\n",
       "   country status item type  application  thickness   width  \\\n",
       "0     28.0    Won         W         10.0       2.00  1500.0   \n",
       "1     25.0    Won         W         41.0       0.80  1210.0   \n",
       "2     30.0    Won        WI         28.0       0.38   952.0   \n",
       "3     32.0    Won         S         59.0       2.30  1317.0   \n",
       "4     28.0    Won         W         10.0       4.00  2000.0   \n",
       "\n",
       "                               material_ref  product_ref  delivery date  \\\n",
       "0                               DEQ1 S460MC   1670798778     20210701.0   \n",
       "1  0000000000000000000000000000000000104991   1668701718     20210401.0   \n",
       "2                                  S0380700       628377     20210101.0   \n",
       "3                   DX51D+ZM310MAO 2.3X1317   1668701718     20210101.0   \n",
       "4                           2_S275JR+AR-CL1       640665     20210301.0   \n",
       "\n",
       "   selling_price  \n",
       "0         854.00  \n",
       "1        1047.00  \n",
       "2         644.33  \n",
       "3         768.00  \n",
       "4         577.00  "
      ]
     },
     "execution_count": 537,
     "metadata": {},
     "output_type": "execute_result"
    }
   ],
   "source": [
    "df.head()"
   ]
  },
  {
   "cell_type": "code",
   "execution_count": 538,
   "id": "34680dd0-93ae-4d98-b68f-d63dcfaea1f9",
   "metadata": {},
   "outputs": [],
   "source": [
    "##Understanding the Data"
   ]
  },
  {
   "cell_type": "code",
   "execution_count": 539,
   "id": "8ddcabf1-7a9c-442b-90b3-8ddb3fce811c",
   "metadata": {},
   "outputs": [
    {
     "data": {
      "text/plain": [
       "(181673, 14)"
      ]
     },
     "execution_count": 539,
     "metadata": {},
     "output_type": "execute_result"
    }
   ],
   "source": [
    "df.shape"
   ]
  },
  {
   "cell_type": "code",
   "execution_count": 540,
   "id": "576c27c8-567e-4fc2-a581-40547f039483",
   "metadata": {},
   "outputs": [
    {
     "data": {
      "text/plain": [
       "id                   2\n",
       "item_date            1\n",
       "quantity tons        0\n",
       "customer             1\n",
       "country             28\n",
       "status               2\n",
       "item type            0\n",
       "application         24\n",
       "thickness            1\n",
       "width                0\n",
       "material_ref     77919\n",
       "product_ref          0\n",
       "delivery date        1\n",
       "selling_price        1\n",
       "dtype: int64"
      ]
     },
     "execution_count": 540,
     "metadata": {},
     "output_type": "execute_result"
    }
   ],
   "source": [
    "df.isnull().sum()"
   ]
  },
  {
   "cell_type": "code",
   "execution_count": 541,
   "id": "5feb9042-1a49-4c2c-a294-6cf33120c417",
   "metadata": {},
   "outputs": [
    {
     "data": {
      "text/plain": [
       "17"
      ]
     },
     "execution_count": 541,
     "metadata": {},
     "output_type": "execute_result"
    }
   ],
   "source": [
    "df['country'].nunique()"
   ]
  },
  {
   "cell_type": "code",
   "execution_count": 542,
   "id": "e47db3a3-47e2-47c6-9426-9eb6d58639ac",
   "metadata": {},
   "outputs": [
    {
     "data": {
      "text/plain": [
       "country\n",
       "78.0     32084\n",
       "26.0     27516\n",
       "25.0     23362\n",
       "27.0     21511\n",
       "32.0     18658\n",
       "28.0     15824\n",
       "84.0     12776\n",
       "77.0      9714\n",
       "30.0      8702\n",
       "39.0      3731\n",
       "79.0      2742\n",
       "38.0      1712\n",
       "40.0      1683\n",
       "80.0       819\n",
       "113.0      714\n",
       "89.0        92\n",
       "107.0        5\n",
       "Name: count, dtype: int64"
      ]
     },
     "execution_count": 542,
     "metadata": {},
     "output_type": "execute_result"
    }
   ],
   "source": [
    "df['country'].value_counts()"
   ]
  },
  {
   "cell_type": "code",
   "execution_count": 543,
   "id": "34d9bf5c-082e-44fa-9151-f7bc59dc736f",
   "metadata": {},
   "outputs": [
    {
     "data": {
      "text/plain": [
       "9"
      ]
     },
     "execution_count": 543,
     "metadata": {},
     "output_type": "execute_result"
    }
   ],
   "source": [
    "df['status'].nunique()"
   ]
  },
  {
   "cell_type": "code",
   "execution_count": 544,
   "id": "2ba5aa0e-cd17-44df-bc2a-1b2bdead27ad",
   "metadata": {},
   "outputs": [
    {
     "data": {
      "text/plain": [
       "status\n",
       "Won                116010\n",
       "Lost                34438\n",
       "Not lost for AM     19573\n",
       "Revised              4276\n",
       "To be approved       4170\n",
       "Draft                3140\n",
       "Offered                53\n",
       "Offerable              10\n",
       "Wonderful               1\n",
       "Name: count, dtype: int64"
      ]
     },
     "execution_count": 544,
     "metadata": {},
     "output_type": "execute_result"
    }
   ],
   "source": [
    "df['status'].value_counts()"
   ]
  },
  {
   "cell_type": "code",
   "execution_count": 545,
   "id": "14755b5f-f611-4557-9038-9e71f3ac9c60",
   "metadata": {},
   "outputs": [
    {
     "data": {
      "text/html": [
       "<div>\n",
       "<style scoped>\n",
       "    .dataframe tbody tr th:only-of-type {\n",
       "        vertical-align: middle;\n",
       "    }\n",
       "\n",
       "    .dataframe tbody tr th {\n",
       "        vertical-align: top;\n",
       "    }\n",
       "\n",
       "    .dataframe thead th {\n",
       "        text-align: right;\n",
       "    }\n",
       "</style>\n",
       "<table border=\"1\" class=\"dataframe\">\n",
       "  <thead>\n",
       "    <tr style=\"text-align: right;\">\n",
       "      <th></th>\n",
       "      <th>id</th>\n",
       "      <th>item_date</th>\n",
       "      <th>quantity tons</th>\n",
       "      <th>customer</th>\n",
       "      <th>country</th>\n",
       "      <th>status</th>\n",
       "      <th>item type</th>\n",
       "      <th>application</th>\n",
       "      <th>thickness</th>\n",
       "      <th>width</th>\n",
       "      <th>material_ref</th>\n",
       "      <th>product_ref</th>\n",
       "      <th>delivery date</th>\n",
       "      <th>selling_price</th>\n",
       "    </tr>\n",
       "  </thead>\n",
       "  <tbody>\n",
       "    <tr>\n",
       "      <th>171</th>\n",
       "      <td>C0BF3187-C4B3-4C63-ABDB-FCB0642A69C0</td>\n",
       "      <td>20210401.0</td>\n",
       "      <td>8.718789</td>\n",
       "      <td>30223403.0</td>\n",
       "      <td>78.0</td>\n",
       "      <td>Lost</td>\n",
       "      <td>W</td>\n",
       "      <td>10.0</td>\n",
       "      <td>1.00</td>\n",
       "      <td>1500.0</td>\n",
       "      <td>NaN</td>\n",
       "      <td>1668701718</td>\n",
       "      <td>20210701.0</td>\n",
       "      <td>1253.0</td>\n",
       "    </tr>\n",
       "    <tr>\n",
       "      <th>174</th>\n",
       "      <td>66D8E20C-AF4A-47D7-8FDD-51DEA6EA1F05</td>\n",
       "      <td>20210401.0</td>\n",
       "      <td>39.553513</td>\n",
       "      <td>30165992.0</td>\n",
       "      <td>77.0</td>\n",
       "      <td>Lost</td>\n",
       "      <td>S</td>\n",
       "      <td>10.0</td>\n",
       "      <td>1.00</td>\n",
       "      <td>1500.0</td>\n",
       "      <td>FZPA004640</td>\n",
       "      <td>164141591</td>\n",
       "      <td>20210801.0</td>\n",
       "      <td>1225.0</td>\n",
       "    </tr>\n",
       "    <tr>\n",
       "      <th>175</th>\n",
       "      <td>4532B5EF-0446-4880-BC8E-242E89AB8DD6</td>\n",
       "      <td>20210401.0</td>\n",
       "      <td>11.454558</td>\n",
       "      <td>30223403.0</td>\n",
       "      <td>78.0</td>\n",
       "      <td>Lost</td>\n",
       "      <td>W</td>\n",
       "      <td>10.0</td>\n",
       "      <td>4.00</td>\n",
       "      <td>1500.0</td>\n",
       "      <td>NaN</td>\n",
       "      <td>1668701718</td>\n",
       "      <td>20210701.0</td>\n",
       "      <td>1186.0</td>\n",
       "    </tr>\n",
       "    <tr>\n",
       "      <th>176</th>\n",
       "      <td>EE0BA8DE-38E9-4101-ADF9-B7B5B19A3525</td>\n",
       "      <td>20210401.0</td>\n",
       "      <td>37.655526</td>\n",
       "      <td>30165992.0</td>\n",
       "      <td>77.0</td>\n",
       "      <td>Lost</td>\n",
       "      <td>S</td>\n",
       "      <td>10.0</td>\n",
       "      <td>0.80</td>\n",
       "      <td>1250.0</td>\n",
       "      <td>FZPA004640</td>\n",
       "      <td>164141591</td>\n",
       "      <td>20210801.0</td>\n",
       "      <td>1249.0</td>\n",
       "    </tr>\n",
       "    <tr>\n",
       "      <th>179</th>\n",
       "      <td>1CDD04C3-6310-431F-B10A-F1C6B4F529DD</td>\n",
       "      <td>20210401.0</td>\n",
       "      <td>10.291602</td>\n",
       "      <td>30223403.0</td>\n",
       "      <td>78.0</td>\n",
       "      <td>Lost</td>\n",
       "      <td>W</td>\n",
       "      <td>10.0</td>\n",
       "      <td>0.80</td>\n",
       "      <td>1500.0</td>\n",
       "      <td>NaN</td>\n",
       "      <td>1668701718</td>\n",
       "      <td>20210701.0</td>\n",
       "      <td>1284.0</td>\n",
       "    </tr>\n",
       "    <tr>\n",
       "      <th>...</th>\n",
       "      <td>...</td>\n",
       "      <td>...</td>\n",
       "      <td>...</td>\n",
       "      <td>...</td>\n",
       "      <td>...</td>\n",
       "      <td>...</td>\n",
       "      <td>...</td>\n",
       "      <td>...</td>\n",
       "      <td>...</td>\n",
       "      <td>...</td>\n",
       "      <td>...</td>\n",
       "      <td>...</td>\n",
       "      <td>...</td>\n",
       "      <td>...</td>\n",
       "    </tr>\n",
       "    <tr>\n",
       "      <th>181527</th>\n",
       "      <td>A30A09D6-6527-4BE3-B2EC-B795F94A70DD</td>\n",
       "      <td>20200702.0</td>\n",
       "      <td>63.85952061</td>\n",
       "      <td>30161559.0</td>\n",
       "      <td>30.0</td>\n",
       "      <td>Lost</td>\n",
       "      <td>S</td>\n",
       "      <td>10.0</td>\n",
       "      <td>5.85</td>\n",
       "      <td>1525.0</td>\n",
       "      <td>NaN</td>\n",
       "      <td>640665</td>\n",
       "      <td>20200801.0</td>\n",
       "      <td>457.0</td>\n",
       "    </tr>\n",
       "    <tr>\n",
       "      <th>181529</th>\n",
       "      <td>BD9B7299-6FD2-4A9F-B336-5F677794A03F</td>\n",
       "      <td>20200702.0</td>\n",
       "      <td>56.02856191</td>\n",
       "      <td>30161559.0</td>\n",
       "      <td>30.0</td>\n",
       "      <td>Lost</td>\n",
       "      <td>S</td>\n",
       "      <td>10.0</td>\n",
       "      <td>7.85</td>\n",
       "      <td>1500.0</td>\n",
       "      <td>NaN</td>\n",
       "      <td>640665</td>\n",
       "      <td>20200801.0</td>\n",
       "      <td>458.0</td>\n",
       "    </tr>\n",
       "    <tr>\n",
       "      <th>181531</th>\n",
       "      <td>BF93A919-5970-428F-9467-7A2D0573C5C6</td>\n",
       "      <td>20200702.0</td>\n",
       "      <td>206.2241104</td>\n",
       "      <td>30161559.0</td>\n",
       "      <td>30.0</td>\n",
       "      <td>Lost</td>\n",
       "      <td>S</td>\n",
       "      <td>10.0</td>\n",
       "      <td>3.85</td>\n",
       "      <td>1830.0</td>\n",
       "      <td>NaN</td>\n",
       "      <td>640665</td>\n",
       "      <td>20200801.0</td>\n",
       "      <td>460.0</td>\n",
       "    </tr>\n",
       "    <tr>\n",
       "      <th>181533</th>\n",
       "      <td>FA54AED7-360E-4DED-96AA-F69D127267B8</td>\n",
       "      <td>20200702.0</td>\n",
       "      <td>102.9938488</td>\n",
       "      <td>30198408.0</td>\n",
       "      <td>25.0</td>\n",
       "      <td>Lost</td>\n",
       "      <td>S</td>\n",
       "      <td>10.0</td>\n",
       "      <td>1.40</td>\n",
       "      <td>1150.0</td>\n",
       "      <td>NaN</td>\n",
       "      <td>1668701718</td>\n",
       "      <td>20200701.0</td>\n",
       "      <td>725.0</td>\n",
       "    </tr>\n",
       "    <tr>\n",
       "      <th>181535</th>\n",
       "      <td>2D65F26A-E56A-4FF4-B586-6E361980EE0A</td>\n",
       "      <td>20200702.0</td>\n",
       "      <td>106.0722618</td>\n",
       "      <td>30198408.0</td>\n",
       "      <td>25.0</td>\n",
       "      <td>Lost</td>\n",
       "      <td>S</td>\n",
       "      <td>10.0</td>\n",
       "      <td>1.40</td>\n",
       "      <td>1146.0</td>\n",
       "      <td>NaN</td>\n",
       "      <td>1668701718</td>\n",
       "      <td>20200701.0</td>\n",
       "      <td>727.0</td>\n",
       "    </tr>\n",
       "  </tbody>\n",
       "</table>\n",
       "<p>34438 rows × 14 columns</p>\n",
       "</div>"
      ],
      "text/plain": [
       "                                          id   item_date quantity tons  \\\n",
       "171     C0BF3187-C4B3-4C63-ABDB-FCB0642A69C0  20210401.0      8.718789   \n",
       "174     66D8E20C-AF4A-47D7-8FDD-51DEA6EA1F05  20210401.0     39.553513   \n",
       "175     4532B5EF-0446-4880-BC8E-242E89AB8DD6  20210401.0     11.454558   \n",
       "176     EE0BA8DE-38E9-4101-ADF9-B7B5B19A3525  20210401.0     37.655526   \n",
       "179     1CDD04C3-6310-431F-B10A-F1C6B4F529DD  20210401.0     10.291602   \n",
       "...                                      ...         ...           ...   \n",
       "181527  A30A09D6-6527-4BE3-B2EC-B795F94A70DD  20200702.0   63.85952061   \n",
       "181529  BD9B7299-6FD2-4A9F-B336-5F677794A03F  20200702.0   56.02856191   \n",
       "181531  BF93A919-5970-428F-9467-7A2D0573C5C6  20200702.0   206.2241104   \n",
       "181533  FA54AED7-360E-4DED-96AA-F69D127267B8  20200702.0   102.9938488   \n",
       "181535  2D65F26A-E56A-4FF4-B586-6E361980EE0A  20200702.0   106.0722618   \n",
       "\n",
       "          customer  country status item type  application  thickness   width  \\\n",
       "171     30223403.0     78.0   Lost         W         10.0       1.00  1500.0   \n",
       "174     30165992.0     77.0   Lost         S         10.0       1.00  1500.0   \n",
       "175     30223403.0     78.0   Lost         W         10.0       4.00  1500.0   \n",
       "176     30165992.0     77.0   Lost         S         10.0       0.80  1250.0   \n",
       "179     30223403.0     78.0   Lost         W         10.0       0.80  1500.0   \n",
       "...            ...      ...    ...       ...          ...        ...     ...   \n",
       "181527  30161559.0     30.0   Lost         S         10.0       5.85  1525.0   \n",
       "181529  30161559.0     30.0   Lost         S         10.0       7.85  1500.0   \n",
       "181531  30161559.0     30.0   Lost         S         10.0       3.85  1830.0   \n",
       "181533  30198408.0     25.0   Lost         S         10.0       1.40  1150.0   \n",
       "181535  30198408.0     25.0   Lost         S         10.0       1.40  1146.0   \n",
       "\n",
       "       material_ref  product_ref  delivery date  selling_price  \n",
       "171             NaN   1668701718     20210701.0         1253.0  \n",
       "174      FZPA004640    164141591     20210801.0         1225.0  \n",
       "175             NaN   1668701718     20210701.0         1186.0  \n",
       "176      FZPA004640    164141591     20210801.0         1249.0  \n",
       "179             NaN   1668701718     20210701.0         1284.0  \n",
       "...             ...          ...            ...            ...  \n",
       "181527          NaN       640665     20200801.0          457.0  \n",
       "181529          NaN       640665     20200801.0          458.0  \n",
       "181531          NaN       640665     20200801.0          460.0  \n",
       "181533          NaN   1668701718     20200701.0          725.0  \n",
       "181535          NaN   1668701718     20200701.0          727.0  \n",
       "\n",
       "[34438 rows x 14 columns]"
      ]
     },
     "execution_count": 545,
     "metadata": {},
     "output_type": "execute_result"
    }
   ],
   "source": [
    "filtered_df = df[df['status'] == 'Lost']\n",
    "filtered_df\n"
   ]
  },
  {
   "cell_type": "code",
   "execution_count": 546,
   "id": "6c434cb1-e1f2-4753-bc92-71863ffc2983",
   "metadata": {},
   "outputs": [
    {
     "data": {
      "text/plain": [
       "7"
      ]
     },
     "execution_count": 546,
     "metadata": {},
     "output_type": "execute_result"
    }
   ],
   "source": [
    "df['item type'].nunique()"
   ]
  },
  {
   "cell_type": "code",
   "execution_count": 547,
   "id": "a2f2d469-8e5f-4a85-b1b6-474a2582a7be",
   "metadata": {},
   "outputs": [
    {
     "data": {
      "text/plain": [
       "item type\n",
       "W         105615\n",
       "S          69236\n",
       "PL          5660\n",
       "Others       610\n",
       "WI           524\n",
       "IPL           27\n",
       "SLAWR          1\n",
       "Name: count, dtype: int64"
      ]
     },
     "execution_count": 547,
     "metadata": {},
     "output_type": "execute_result"
    }
   ],
   "source": [
    "df['item type'].value_counts()"
   ]
  },
  {
   "cell_type": "code",
   "execution_count": 548,
   "id": "bdab7c65-ae5d-402d-b871-024c46e2a839",
   "metadata": {},
   "outputs": [
    {
     "data": {
      "text/plain": [
       "30"
      ]
     },
     "execution_count": 548,
     "metadata": {},
     "output_type": "execute_result"
    }
   ],
   "source": [
    "df['application'].nunique()"
   ]
  },
  {
   "cell_type": "code",
   "execution_count": 549,
   "id": "cbed590a-c5f9-487f-8c1d-4bd0448c51f2",
   "metadata": {},
   "outputs": [
    {
     "data": {
      "text/plain": [
       "application\n",
       "10.0    77544\n",
       "41.0    46261\n",
       "15.0    20772\n",
       "59.0     8927\n",
       "42.0     5858\n",
       "56.0     4846\n",
       "29.0     1937\n",
       "27.0     1784\n",
       "26.0     1650\n",
       "28.0     1591\n",
       "40.0     1576\n",
       "25.0     1498\n",
       "79.0     1422\n",
       "22.0     1023\n",
       "20.0      768\n",
       "66.0      718\n",
       "3.0       657\n",
       "38.0      511\n",
       "58.0      447\n",
       "4.0       286\n",
       "39.0      267\n",
       "65.0      247\n",
       "67.0      221\n",
       "68.0      181\n",
       "99.0      146\n",
       "19.0      143\n",
       "69.0      122\n",
       "5.0       110\n",
       "70.0      102\n",
       "2.0        34\n",
       "Name: count, dtype: int64"
      ]
     },
     "execution_count": 549,
     "metadata": {},
     "output_type": "execute_result"
    }
   ],
   "source": [
    "df['application'].value_counts()"
   ]
  },
  {
   "cell_type": "code",
   "execution_count": 550,
   "id": "83ea5b31-9bbf-4dab-a042-858976de46cf",
   "metadata": {},
   "outputs": [
    {
     "data": {
      "text/plain": [
       "16563"
      ]
     },
     "execution_count": 550,
     "metadata": {},
     "output_type": "execute_result"
    }
   ],
   "source": [
    "df['material_ref'].nunique()"
   ]
  },
  {
   "cell_type": "code",
   "execution_count": 551,
   "id": "96f00c7f-c1e9-4f91-a890-ac00e91e976a",
   "metadata": {},
   "outputs": [
    {
     "data": {
      "text/plain": [
       "33"
      ]
     },
     "execution_count": 551,
     "metadata": {},
     "output_type": "execute_result"
    }
   ],
   "source": [
    "df['product_ref'].nunique()"
   ]
  },
  {
   "cell_type": "code",
   "execution_count": 552,
   "id": "712243fc-31cb-44bd-8d02-0edb865fb16f",
   "metadata": {},
   "outputs": [
    {
     "data": {
      "text/plain": [
       "product_ref\n",
       "611993        45727\n",
       "164141591     28785\n",
       "640665        27375\n",
       "1670798778    18916\n",
       "628377        18574\n",
       "1668701718    15284\n",
       "640405         9715\n",
       "1671863738     5162\n",
       "1332077137     4561\n",
       "1693867550     1825\n",
       "1668701376     1216\n",
       "1671876026      823\n",
       "628117          775\n",
       "164337175       653\n",
       "1668701698      374\n",
       "1693867563      293\n",
       "1282007633      281\n",
       "1721130331      257\n",
       "1665572374      202\n",
       "628112          177\n",
       "611728          148\n",
       "1690738206      147\n",
       "1722207579      125\n",
       "640400           83\n",
       "1668701725       56\n",
       "164336407        49\n",
       "611733           45\n",
       "1690738219       19\n",
       "1665584320       12\n",
       "1665572032       10\n",
       "1665584642        2\n",
       "929423819         1\n",
       "1665584662        1\n",
       "Name: count, dtype: int64"
      ]
     },
     "execution_count": 552,
     "metadata": {},
     "output_type": "execute_result"
    }
   ],
   "source": [
    "df['product_ref'].value_counts()"
   ]
  },
  {
   "cell_type": "code",
   "execution_count": 553,
   "id": "4dba00d4-26e4-4b94-b623-093a80586837",
   "metadata": {},
   "outputs": [
    {
     "data": {
      "text/plain": [
       "1169"
      ]
     },
     "execution_count": 553,
     "metadata": {},
     "output_type": "execute_result"
    }
   ],
   "source": [
    "df['customer'].nunique()"
   ]
  },
  {
   "cell_type": "code",
   "execution_count": 554,
   "id": "3f3bde2f-c84e-40e0-8941-d2607f90a992",
   "metadata": {},
   "outputs": [
    {
     "data": {
      "text/plain": [
       "Index(['W', 'S', 'PL', 'Others', 'WI', 'IPL', 'SLAWR'], dtype='object', name='item type')"
      ]
     },
     "execution_count": 554,
     "metadata": {},
     "output_type": "execute_result"
    }
   ],
   "source": [
    "df['item type'].value_counts().index"
   ]
  },
  {
   "cell_type": "code",
   "execution_count": 555,
   "id": "37437f77-8e14-4ce9-b515-92f638150c08",
   "metadata": {},
   "outputs": [
    {
     "data": {
      "image/png": "[encoded data removed]",
      "text/plain": [
       "<Figure size 640x480 with 1 Axes>"
      ]
     },
     "metadata": {},
     "output_type": "display_data"
    }
   ],
   "source": [
    "#Data distribution before processing using boxplot and barplot\n",
    "sns.barplot(x= df['item type'].value_counts().index, y=df['item type'].value_counts())\n",
    "plt.show()"
   ]
  },
  {
   "cell_type": "code",
   "execution_count": 556,
   "id": "be176ded-18b0-4aa0-8148-6ca59fe7d2d3",
   "metadata": {},
   "outputs": [
    {
     "name": "stderr",
     "output_type": "stream",
     "text": [
      "C:\\ProgramData\\anaconda3\\Lib\\site-packages\\seaborn\\_oldcore.py:1119: FutureWarning: use_inf_as_na option is deprecated and will be removed in a future version. Convert inf values to NaN before operating instead.\n",
      "  with pd.option_context('mode.use_inf_as_na', True):\n"
     ]
    },
    {
     "data": {
      "image/png": "[encoded data removed]",
      "text/plain": [
       "<Figure size 500x500 with 1 Axes>"
      ]
     },
     "metadata": {},
     "output_type": "display_data"
    }
   ],
   "source": [
    "sns.displot(df['status'])\n",
    "plt.xticks(rotation=90)\n",
    "plt.show()"
   ]
  },
  {
   "cell_type": "code",
   "execution_count": 557,
   "id": "c4e62270-8711-46d6-9113-b1db0f0151b6",
   "metadata": {},
   "outputs": [
    {
     "data": {
      "image/png": "[encoded data removed]",
      "text/plain": [
       "<Figure size 640x480 with 1 Axes>"
      ]
     },
     "metadata": {},
     "output_type": "display_data"
    }
   ],
   "source": [
    "sns.boxplot(df['country'])\n",
    "plt.show()"
   ]
  },
  {
   "cell_type": "code",
   "execution_count": 558,
   "id": "5af88ad5-eb86-49fd-b2b0-14ae77101a77",
   "metadata": {},
   "outputs": [
    {
     "data": {
      "image/png": "[encoded data removed]",
      "text/plain": [
       "<Figure size 640x480 with 1 Axes>"
      ]
     },
     "metadata": {},
     "output_type": "display_data"
    }
   ],
   "source": [
    "sns.boxplot(df['selling_price'])\n",
    "plt.show()"
   ]
  },
  {
   "cell_type": "code",
   "execution_count": 559,
   "id": "0bd8cfe8-3d8a-4a23-8dd7-55fbfde471be",
   "metadata": {},
   "outputs": [
    {
     "name": "stderr",
     "output_type": "stream",
     "text": [
      "C:\\ProgramData\\anaconda3\\Lib\\site-packages\\seaborn\\_oldcore.py:1119: FutureWarning: use_inf_as_na option is deprecated and will be removed in a future version. Convert inf values to NaN before operating instead.\n",
      "  with pd.option_context('mode.use_inf_as_na', True):\n"
     ]
    },
    {
     "data": {
      "image/png": "[encoded data removed]",
      "text/plain": [
       "<Figure size 500x500 with 1 Axes>"
      ]
     },
     "metadata": {},
     "output_type": "display_data"
    }
   ],
   "source": [
    "sns.displot(df['application'], kind='kde')\n",
    "plt.show()"
   ]
  },
  {
   "cell_type": "code",
   "execution_count": 560,
   "id": "c449f180-1a80-4cfa-a3ed-38d0f2ea7021",
   "metadata": {},
   "outputs": [
    {
     "data": {
      "image/png": "[encoded data removed]",
      "text/plain": [
       "<Figure size 640x480 with 1 Axes>"
      ]
     },
     "metadata": {},
     "output_type": "display_data"
    }
   ],
   "source": [
    "sns.boxplot(df['application'])\n",
    "plt.show()"
   ]
  },
  {
   "cell_type": "code",
   "execution_count": 561,
   "id": "171dd03f-0957-498b-ba97-2f6e54bee115",
   "metadata": {},
   "outputs": [
    {
     "data": {
      "text/plain": [
       "quantity tons\n",
       "54.15113862    1\n",
       "75.11072642    1\n",
       "32.43164392    1\n",
       "31.92534499    1\n",
       "132.3113848    1\n",
       "              ..\n",
       "13.86959008    1\n",
       "2.738535634    1\n",
       "233.2640131    1\n",
       "11.94017945    1\n",
       "406.6865384    1\n",
       "Name: count, Length: 181673, dtype: int64"
      ]
     },
     "execution_count": 561,
     "metadata": {},
     "output_type": "execute_result"
    }
   ],
   "source": [
    "df['quantity tons'].value_counts()"
   ]
  },
  {
   "cell_type": "code",
   "execution_count": 562,
   "id": "2bd8fb99-b96e-462c-9905-cf017b4ab0ca",
   "metadata": {},
   "outputs": [
    {
     "data": {
      "text/plain": [
       "(181673,)"
      ]
     },
     "execution_count": 562,
     "metadata": {},
     "output_type": "execute_result"
    }
   ],
   "source": [
    "df['material_ref'].shape"
   ]
  },
  {
   "cell_type": "code",
   "execution_count": 563,
   "id": "71aed6f1-5484-42c9-8151-9cc10473883f",
   "metadata": {},
   "outputs": [
    {
     "data": {
      "image/png": "[encoded data removed]",
      "text/plain": [
       "<Figure size 640x480 with 1 Axes>"
      ]
     },
     "metadata": {},
     "output_type": "display_data"
    }
   ],
   "source": [
    "df['quantity tons'] = pd.to_numeric(df['quantity tons'], errors='coerce')\n",
    "sns.boxplot(df['quantity tons'])\n",
    "plt.show()"
   ]
  },
  {
   "cell_type": "code",
   "execution_count": 564,
   "id": "b3cc36c4-bd68-42cb-aa0c-c1391e3099bf",
   "metadata": {},
   "outputs": [
    {
     "data": {
      "image/png": "[encoded data removed]",
      "text/plain": [
       "<Figure size 640x480 with 1 Axes>"
      ]
     },
     "metadata": {},
     "output_type": "display_data"
    }
   ],
   "source": [
    "#df['width'] = pd.to_numeric(df['width'], errors='coerce')\n",
    "sns.boxplot(df['width'])\n",
    "plt.show()"
   ]
  },
  {
   "cell_type": "code",
   "execution_count": 565,
   "id": "ac206e76-f0f9-474e-b071-aa6f45d02290",
   "metadata": {},
   "outputs": [],
   "source": [
    "##Data Pre=processing - \n",
    "#removing null values in material_ref\n",
    "#other columns - replacing null values with mode, \n",
    "#Encoding the values, \n",
    "#removing values less than or equal to zero,\n",
    "#data transformation using log funtion"
   ]
  },
  {
   "cell_type": "code",
   "execution_count": 566,
   "id": "304de9b7-4a95-48f4-b354-e882f84130e3",
   "metadata": {},
   "outputs": [],
   "source": [
    "df['material_ref'].fillna('NULL', inplace=True)"
   ]
  },
  {
   "cell_type": "code",
   "execution_count": 567,
   "id": "89799ddb-3427-4aa0-bccc-76ee81f481c5",
   "metadata": {},
   "outputs": [
    {
     "data": {
      "text/plain": [
       "0"
      ]
     },
     "execution_count": 567,
     "metadata": {},
     "output_type": "execute_result"
    }
   ],
   "source": [
    "df['material_ref'].isnull().sum()"
   ]
  },
  {
   "cell_type": "code",
   "execution_count": 568,
   "id": "50ce489a-996f-4db4-8252-dbd80c280f3b",
   "metadata": {},
   "outputs": [
    {
     "data": {
      "text/plain": [
       "0    78.0\n",
       "Name: country, dtype: float64"
      ]
     },
     "execution_count": 568,
     "metadata": {},
     "output_type": "execute_result"
    }
   ],
   "source": [
    "df['country'].mode()"
   ]
  },
  {
   "cell_type": "code",
   "execution_count": 569,
   "id": "7e4faaa5-ca36-49a9-9b2e-6b364b68894b",
   "metadata": {},
   "outputs": [],
   "source": [
    "df['country'].fillna(78.0, inplace=True)"
   ]
  },
  {
   "cell_type": "code",
   "execution_count": 570,
   "id": "820e6537-437e-44e7-9b56-5efd7d9d9f86",
   "metadata": {},
   "outputs": [
    {
     "data": {
      "text/plain": [
       "0"
      ]
     },
     "execution_count": 570,
     "metadata": {},
     "output_type": "execute_result"
    }
   ],
   "source": [
    "df['country'].isnull().sum()"
   ]
  },
  {
   "cell_type": "code",
   "execution_count": 571,
   "id": "e956f77d-d47b-4745-bead-835ce83d656c",
   "metadata": {},
   "outputs": [
    {
     "data": {
      "text/plain": [
       "0    10.0\n",
       "Name: application, dtype: float64"
      ]
     },
     "execution_count": 571,
     "metadata": {},
     "output_type": "execute_result"
    }
   ],
   "source": [
    "df['application'].mode()"
   ]
  },
  {
   "cell_type": "code",
   "execution_count": 572,
   "id": "aeea2668-0d25-4413-8b3d-37d6c572aca5",
   "metadata": {},
   "outputs": [],
   "source": [
    "df['application'].fillna(10.0, inplace=True)"
   ]
  },
  {
   "cell_type": "code",
   "execution_count": 573,
   "id": "7d5af86c-d444-492a-a851-d8bc50e12945",
   "metadata": {},
   "outputs": [
    {
     "data": {
      "text/plain": [
       "0"
      ]
     },
     "execution_count": 573,
     "metadata": {},
     "output_type": "execute_result"
    }
   ],
   "source": [
    "df['application'].isnull().sum()"
   ]
  },
  {
   "cell_type": "code",
   "execution_count": 574,
   "id": "4c05696e-f67b-42ca-b389-1dcc84a16282",
   "metadata": {},
   "outputs": [],
   "source": [
    "df = df.dropna()"
   ]
  },
  {
   "cell_type": "code",
   "execution_count": 575,
   "id": "de8a4227-4ed0-4857-b40d-7544ba340eac",
   "metadata": {},
   "outputs": [
    {
     "data": {
      "text/plain": [
       "id               0\n",
       "item_date        0\n",
       "quantity tons    0\n",
       "customer         0\n",
       "country          0\n",
       "status           0\n",
       "item type        0\n",
       "application      0\n",
       "thickness        0\n",
       "width            0\n",
       "material_ref     0\n",
       "product_ref      0\n",
       "delivery date    0\n",
       "selling_price    0\n",
       "dtype: int64"
      ]
     },
     "execution_count": 575,
     "metadata": {},
     "output_type": "execute_result"
    }
   ],
   "source": [
    "df.isnull().sum()"
   ]
  },
  {
   "cell_type": "code",
   "execution_count": 576,
   "id": "c8dcd89b-927e-402d-bb15-312581846dbb",
   "metadata": {},
   "outputs": [
    {
     "data": {
      "image/png": "[encoded data removed]",
      "text/plain": [
       "<Figure size 640x480 with 1 Axes>"
      ]
     },
     "metadata": {},
     "output_type": "display_data"
    }
   ],
   "source": [
    "sns.boxplot(df['country'])\n",
    "plt.show()"
   ]
  },
  {
   "cell_type": "code",
   "execution_count": 577,
   "id": "e48d0f3f-415a-4d24-9add-2a1332abc415",
   "metadata": {},
   "outputs": [
    {
     "data": {
      "image/png": "[encoded data removed]",
      "text/plain": [
       "<Figure size 640x480 with 1 Axes>"
      ]
     },
     "metadata": {},
     "output_type": "display_data"
    }
   ],
   "source": [
    "sns.boxplot(df['application'])\n",
    "plt.show()"
   ]
  },
  {
   "cell_type": "code",
   "execution_count": 578,
   "id": "41ef45ab-8a4a-4946-a1a3-e7333dee8a4d",
   "metadata": {},
   "outputs": [
    {
     "data": {
      "text/plain": [
       "country\n",
       "78.0     32111\n",
       "26.0     27515\n",
       "25.0     23361\n",
       "27.0     21508\n",
       "32.0     18658\n",
       "28.0     15823\n",
       "84.0     12776\n",
       "77.0      9714\n",
       "30.0      8702\n",
       "39.0      3730\n",
       "79.0      2742\n",
       "38.0      1712\n",
       "40.0      1683\n",
       "80.0       817\n",
       "113.0      714\n",
       "89.0        92\n",
       "107.0        5\n",
       "Name: count, dtype: int64"
      ]
     },
     "execution_count": 578,
     "metadata": {},
     "output_type": "execute_result"
    }
   ],
   "source": [
    "df['country'].value_counts()"
   ]
  },
  {
   "cell_type": "code",
   "execution_count": 579,
   "id": "6a792e11-2779-491e-98e6-7ffe53713ac4",
   "metadata": {},
   "outputs": [
    {
     "data": {
      "text/plain": [
       "item type\n",
       "W         105610\n",
       "S          69231\n",
       "PL          5660\n",
       "Others       610\n",
       "WI           524\n",
       "IPL           27\n",
       "SLAWR          1\n",
       "Name: count, dtype: int64"
      ]
     },
     "execution_count": 579,
     "metadata": {},
     "output_type": "execute_result"
    }
   ],
   "source": [
    "df['item type'].value_counts()"
   ]
  },
  {
   "cell_type": "code",
   "execution_count": 580,
   "id": "0ac6504e-8b30-429b-b670-ade3e5d3b582",
   "metadata": {},
   "outputs": [
    {
     "data": {
      "text/plain": [
       "application\n",
       "10.0    77561\n",
       "41.0    46260\n",
       "15.0    20771\n",
       "59.0     8926\n",
       "42.0     5858\n",
       "56.0     4846\n",
       "29.0     1937\n",
       "27.0     1784\n",
       "26.0     1650\n",
       "28.0     1591\n",
       "40.0     1576\n",
       "25.0     1498\n",
       "79.0     1422\n",
       "22.0     1023\n",
       "20.0      768\n",
       "66.0      718\n",
       "3.0       657\n",
       "38.0      511\n",
       "58.0      447\n",
       "4.0       286\n",
       "39.0      267\n",
       "65.0      247\n",
       "67.0      221\n",
       "68.0      181\n",
       "99.0      146\n",
       "19.0      143\n",
       "69.0      122\n",
       "5.0       110\n",
       "70.0      102\n",
       "2.0        34\n",
       "Name: count, dtype: int64"
      ]
     },
     "execution_count": 580,
     "metadata": {},
     "output_type": "execute_result"
    }
   ],
   "source": [
    "df['application'].value_counts()"
   ]
  },
  {
   "cell_type": "code",
   "execution_count": 581,
   "id": "3dd822e5-f176-4f11-8daa-4560a99479e8",
   "metadata": {},
   "outputs": [],
   "source": [
    "\n",
    "df = df[df['status'].isin(['Won', 'Lost'])]\n"
   ]
  },
  {
   "cell_type": "code",
   "execution_count": 582,
   "id": "cb8ea9f6-78f3-4a0e-a85b-e6b6ee5f8d20",
   "metadata": {},
   "outputs": [
    {
     "data": {
      "text/plain": [
       "status\n",
       "Won     116006\n",
       "Lost     34436\n",
       "Name: count, dtype: int64"
      ]
     },
     "execution_count": 582,
     "metadata": {},
     "output_type": "execute_result"
    }
   ],
   "source": [
    "df['status'].value_counts()"
   ]
  },
  {
   "cell_type": "code",
   "execution_count": 583,
   "id": "8f126ab8-0f71-42f4-8baf-14cba48d0f34",
   "metadata": {},
   "outputs": [
    {
     "data": {
      "text/plain": [
       "(150442, 14)"
      ]
     },
     "execution_count": 583,
     "metadata": {},
     "output_type": "execute_result"
    }
   ],
   "source": [
    "df.shape"
   ]
  },
  {
   "cell_type": "code",
   "execution_count": 584,
   "id": "f17d2fe5-d18b-4310-beae-785fe2e954bc",
   "metadata": {},
   "outputs": [
    {
     "data": {
      "text/plain": [
       "id                object\n",
       "item_date        float64\n",
       "quantity tons    float64\n",
       "customer         float64\n",
       "country          float64\n",
       "status            object\n",
       "item type         object\n",
       "application      float64\n",
       "thickness        float64\n",
       "width            float64\n",
       "material_ref      object\n",
       "product_ref        int64\n",
       "delivery date    float64\n",
       "selling_price    float64\n",
       "dtype: object"
      ]
     },
     "execution_count": 584,
     "metadata": {},
     "output_type": "execute_result"
    }
   ],
   "source": [
    "df.dtypes"
   ]
  },
  {
   "cell_type": "code",
   "execution_count": 585,
   "id": "c9cb3213-e43f-47b8-b1ac-f6709be45758",
   "metadata": {},
   "outputs": [
    {
     "data": {
      "text/plain": [
       "material_ref\n",
       "NULL                             62794\n",
       "DX51D+Z                            851\n",
       "DC01 RED.FLAT KUCHNIA EKO 2.2      776\n",
       "G9010                              623\n",
       "DC01                               600\n",
       "                                 ...  \n",
       "DX51DZ275-1324X0.8                   1\n",
       "DX52DZ100-1242X0.3                   1\n",
       "M5648                                1\n",
       "M5649                                1\n",
       "202006170005.IO.1.1                  1\n",
       "Name: count, Length: 15821, dtype: int64"
      ]
     },
     "execution_count": 585,
     "metadata": {},
     "output_type": "execute_result"
    }
   ],
   "source": [
    "#Cleaning Material_ref column from unwanted info\n",
    "df['material_ref'].value_counts()"
   ]
  },
  {
   "cell_type": "code",
   "execution_count": 586,
   "id": "83594c61-2308-45b8-b171-b6f1ce0aec40",
   "metadata": {},
   "outputs": [],
   "source": [
    "df['material_ref'] = df['material_ref'].replace(to_replace=r'^000000000000000000000000000000000.*', value=np.nan, regex=True)"
   ]
  },
  {
   "cell_type": "code",
   "execution_count": 587,
   "id": "8832348a-2f6c-41cc-8e7e-6ee730e1e077",
   "metadata": {},
   "outputs": [],
   "source": [
    "df['material_ref'] = df['material_ref'].replace(to_replace=r'^000000000000000000000000000000000.*', value=np.nan, regex=True)"
   ]
  },
  {
   "cell_type": "code",
   "execution_count": 588,
   "id": "cd9dac28-5471-4ec8-99f8-0ee1a39ef54f",
   "metadata": {},
   "outputs": [],
   "source": [
    "df['material_ref'] = df['material_ref'].replace(to_replace=r'^0000000000000000000000000000000.*', value=np.nan, regex=True)"
   ]
  },
  {
   "cell_type": "code",
   "execution_count": 589,
   "id": "3479be52-611e-4358-8851-339abd99920a",
   "metadata": {},
   "outputs": [
    {
     "data": {
      "text/plain": [
       "16773"
      ]
     },
     "execution_count": 589,
     "metadata": {},
     "output_type": "execute_result"
    }
   ],
   "source": [
    "df['material_ref'].isnull().sum()"
   ]
  },
  {
   "cell_type": "code",
   "execution_count": 590,
   "id": "d065101c-3de7-4594-bc19-06c6e7b6e6c3",
   "metadata": {},
   "outputs": [],
   "source": [
    "df['material_ref'].fillna('NULL', inplace=True)"
   ]
  },
  {
   "cell_type": "code",
   "execution_count": 591,
   "id": "2505d0f7-ae9d-44f5-9f95-bef57c85f458",
   "metadata": {},
   "outputs": [
    {
     "data": {
      "text/plain": [
       "0"
      ]
     },
     "execution_count": 591,
     "metadata": {},
     "output_type": "execute_result"
    }
   ],
   "source": [
    "df['material_ref'].isnull().sum()"
   ]
  },
  {
   "cell_type": "code",
   "execution_count": 592,
   "id": "be9770be-cc44-41a6-a6b8-ee9db582dd97",
   "metadata": {},
   "outputs": [],
   "source": [
    "df['material_ref'] = df['material_ref'].apply(lambda x: 'others' if x.startswith('000') else x)"
   ]
  },
  {
   "cell_type": "code",
   "execution_count": 593,
   "id": "b864f74f-4aec-4457-88b2-57e6017b9f37",
   "metadata": {},
   "outputs": [
    {
     "data": {
      "text/plain": [
       "material_ref\n",
       "NULL                             79567\n",
       "others                            2855\n",
       "DX51D+Z                            851\n",
       "DC01 RED.FLAT KUCHNIA EKO 2.2      776\n",
       "G9010                              623\n",
       "                                 ...  \n",
       "HRCL_ST-37.2 LOWS 6.01X1265          1\n",
       "HRCL_ST-37.2 LOWS 1.81X1265          1\n",
       "LF 0701478DC04ED                     1\n",
       "ACCESS A SPAIN                       1\n",
       "202006170005.IO.1.1                  1\n",
       "Name: count, Length: 10871, dtype: int64"
      ]
     },
     "execution_count": 593,
     "metadata": {},
     "output_type": "execute_result"
    }
   ],
   "source": [
    "df['material_ref'].value_counts()"
   ]
  },
  {
   "cell_type": "code",
   "execution_count": 594,
   "id": "f778e119-fd4b-4f26-8c0d-6d50b11d2eca",
   "metadata": {},
   "outputs": [
    {
     "data": {
      "text/plain": [
       "['2_S355J2+N-CL1',\n",
       " 'HC220CA',\n",
       " 'A9002',\n",
       " 'CLS05/000478',\n",
       " 'S275JR+AR-CL1',\n",
       " 'G7035',\n",
       " 'DES1 S235JR',\n",
       " 'typical basket',\n",
       " 'G9007',\n",
       " 'NABS3JRGS',\n",
       " '1_S235JR+AR-CL1',\n",
       " 'BOB',\n",
       " 'S235JR+AR DKP CCPU HUIL CVLT',\n",
       " '02570128AFDF73KRA',\n",
       " 'DD11-CL1',\n",
       " 'ELCL-ZX 25/25_DC01_2.2',\n",
       " 'DEQ1 S420MC',\n",
       " 'DX51D+ZM MAE',\n",
       " 'DC01+ZE 025',\n",
       " 'NANS5J3GS',\n",
       " 'NEQ1 P295GH',\n",
       " 'G3000',\n",
       " 'NEQ1 S275JR+N',\n",
       " 'S235JR+AR LARG SUP 1000 1ER',\n",
       " 'S350GD+ZM310',\n",
       " 'S355 MC NOIR CCPU CVLT',\n",
       " 'S235JR+AR-CL1_6X1500_NOCISCVLT',\n",
       " 'S355MC-CAT_A',\n",
       " 'DD11-CAT.A_NON CIS_2.2',\n",
       " 'S235JR-CL1',\n",
       " 'DC01NOL RED.FLAT REGAL EKO 2.2',\n",
       " 'BL_S355J2+N-CL1',\n",
       " 'S250GD+ZM MAE',\n",
       " 'S355MC',\n",
       " 'G8017',\n",
       " 'DC01+ZVI25/25',\n",
       " 'DC01+ZVI 25/25',\n",
       " 'DD13-CAT.A_NON CIS_3.1',\n",
       " 'DC01-1250X1,5 CCPU',\n",
       " 'G02CEZ0000002428LAC-DEC',\n",
       " '2_30MNB5+CR',\n",
       " 'BL_S235JR-CL1',\n",
       " '1Z205060',\n",
       " 'KRA DX51D+Z MAC',\n",
       " '0321RS1100NUOVO',\n",
       " 'S250GD+Z',\n",
       " 'BN001716',\n",
       " 'BN030000',\n",
       " 'BN002137',\n",
       " 'BN001603',\n",
       " 'BN001607',\n",
       " 'BD002646',\n",
       " 'ACIER AU BORE LAC_DKP',\n",
       " 'G5010',\n",
       " 'DX51.GR.FLEX-GRAINE.G30.DF',\n",
       " '84080007932US3ATL',\n",
       " 'HC280 SHELVES RED.FLAT EKO 3.1',\n",
       " 'NASTLAMTDM0,5X1100',\n",
       " 'DX51D+Z A',\n",
       " 'DX51D+ZM310',\n",
       " '450AW1010',\n",
       " 'LANECOSB/000010',\n",
       " 'S235JR+ARCL1SOLCL+-0.18CISCVLT',\n",
       " 'BB006038',\n",
       " 'BB001123',\n",
       " 'S350GD+ZM',\n",
       " 'S235JR+AR EKO',\n",
       " 'BL_S500MC-CAT_A',\n",
       " 'DD11-CAT_A',\n",
       " 'BG007665',\n",
       " 'DX51D+Z MAC',\n",
       " 'P7024',\n",
       " 'BG017700',\n",
       " 'BG018210',\n",
       " 'K DX51D+Z',\n",
       " 'BG017705',\n",
       " 'DD11-CL1_NON CIS_2.2',\n",
       " 'ELCL-ZVI 25/25_DC01_2.2',\n",
       " 'SWI_DX51D+Z MAC',\n",
       " 'WEST_S350GD+Z MAC',\n",
       " 'DD11 CL1',\n",
       " 'G01CFO0000043231LAC-NER',\n",
       " 'G6029',\n",
       " '40350150499F42SID',\n",
       " 'DD11 CL1 _RED. TOL.',\n",
       " '43760145AFHF73KRA',\n",
       " 'ZM310 ZM430 farmy solarne',\n",
       " 'M13770020 NORMALLY OILED',\n",
       " '880AW2017',\n",
       " '769317909JDF45CSA',\n",
       " 'AMSTRONG355MC',\n",
       " '03150128AFDF73KRA',\n",
       " 'S355J2+AR_CL1',\n",
       " 'G3005',\n",
       " 'D716U',\n",
       " 'NES1 DD11-CL1AMFCE',\n",
       " '12122P0025',\n",
       " 'HC180_AMP',\n",
       " '501010500-11160X057',\n",
       " '63460145A2EF42BRE',\n",
       " 'G9010 HDX',\n",
       " 'S355MC DKP 1250 X 5.00 CCPU',\n",
       " 'S235JR+AR LARG SUP1000 CVLT',\n",
       " 'NASTLAM0,6X12509010',\n",
       " 'LADECO1/000004',\n",
       " 'S355K2 2000 X 5 3.1',\n",
       " 'S355JOWP+AR',\n",
       " '02570128AFCF73KRA',\n",
       " 'S220GD+Z_A',\n",
       " '62300007932US3ATL',\n",
       " 'NANS7JRGS',\n",
       " 'FEPA000320015465000',\n",
       " '837801289ALUS3MED',\n",
       " 'OC DX51D+Z',\n",
       " '405029489B2F60HEA',\n",
       " 'S250GD+ZM310',\n",
       " '1S220A275P6FSA',\n",
       " 'DD11',\n",
       " 'G9006/G9006',\n",
       " 'CLS05/000420',\n",
       " '14.10.2020',\n",
       " 'DEQ1 S355MC',\n",
       " '03160128087FI7KRA',\n",
       " 'S220GD+Z275 3.1',\n",
       " 'DC01 EKO 3.1',\n",
       " 'S280GD+Z275 NORMAL G',\n",
       " 'G04CDY0000002427LAC-BUG',\n",
       " 'FZPA001210007771000',\n",
       " 'G9002 HDX',\n",
       " '13690840311F60SAG',\n",
       " '06300150499F42SID',\n",
       " 'NASTLAMBG0,6X1250',\n",
       " 'zapytanie KP',\n",
       " 'Price indication',\n",
       " 'P5003',\n",
       " '03160128AFCF73KRA',\n",
       " 'NASTLAMTDM0,5X1250',\n",
       " '684Z WHITE ETEX B7032',\n",
       " 'S220GD',\n",
       " '13092896AAOF40CSA',\n",
       " 'DC01+ZV',\n",
       " 'S235JR+AR 1995 X 6.00',\n",
       " 'S235JR+AR DKP/HUIL CVLT 3.1',\n",
       " 'S DX51D+Z',\n",
       " 'S235JR+AR-CL1_NON CIS_3.1',\n",
       " '12211Q0016',\n",
       " 'K DX51D+Z MAC',\n",
       " 'S235JR+ARLARSUP12501CHOIX CVLT',\n",
       " 'G3009',\n",
       " 'DX51D+ZM250',\n",
       " 'G3011',\n",
       " 'ACCESS A',\n",
       " '17770379351F35ATL',\n",
       " '33712795351F46CSA',\n",
       " '56332294AD6F42CSA',\n",
       " 'AMSTRONG 355MC',\n",
       " '535631339B2FI7EKO',\n",
       " '73532795037F46',\n",
       " 'P7000',\n",
       " 'S240D',\n",
       " 'ACCESS A AM',\n",
       " '06960725311F35LOR',\n",
       " 'BUS1 S235JR',\n",
       " 'ACCESS STD SPAIN',\n",
       " 'BM001121',\n",
       " 'HRPOS355 2.50',\n",
       " '15230379351F35',\n",
       " 'FARM RAL 9010',\n",
       " 'BP001477',\n",
       " 'FEPA000188',\n",
       " 'PI_DD11-CAT_A',\n",
       " 'S355JR+AR-CL1',\n",
       " 'S420MC',\n",
       " '1180LFSB',\n",
       " 'S220GD GR STD MT G40 B5 AM',\n",
       " 'FZPA001210007231000',\n",
       " '201.031',\n",
       " 'S350GD+Z',\n",
       " '37650725311F46SID',\n",
       " 'S235JRMOD-CL1',\n",
       " 'ZAPYTANIE / GNI',\n",
       " 'DC01+ZVI25/25 EP',\n",
       " 'DD11_CAT A',\n",
       " 'GCHX380LAD 4.00',\n",
       " 'GCS350GD 1.50',\n",
       " 'DEQ1 S275JR',\n",
       " 'SH S235JR+N-CL1',\n",
       " 'DX51D+Z N',\n",
       " 'DLY13931',\n",
       " 'NEQ1 P355NH-CAT_A',\n",
       " '51670128466FI7KRA',\n",
       " '4500267258/K99/191/00020',\n",
       " 'DEQ1 S355J2+N',\n",
       " 'DX51D+Z200 EKO 2.2',\n",
       " '16MO3',\n",
       " 'BEARWARD',\n",
       " 'NASTLAMGAGA61000',\n",
       " 'P8016',\n",
       " 'P265GH+N',\n",
       " '46050382349F46SID',\n",
       " 'C001010700010',\n",
       " '8655_AVI_38MNB5',\n",
       " 'H220D+Z100',\n",
       " 'DEQ1 SA516G60-LOWSI',\n",
       " 'NASS3JRGS',\n",
       " 'DX51D EST MAT MT 68P9',\n",
       " '1_S355J2+N-CL1',\n",
       " 'S350GD+ZM430',\n",
       " 'DC04EK',\n",
       " '580213989NNFI7CSA',\n",
       " 'DC04 GASNICA EKO 3.1',\n",
       " '62671963539US3ATL',\n",
       " '1_DD11-CL1',\n",
       " 'HDCL_ZM',\n",
       " 'HC420LA_RANO',\n",
       " 'A8T040451250',\n",
       " 'DX51D APPL STD MTG30 B5AM',\n",
       " 'PI_AMSTRONG355MC',\n",
       " '1S220A310PFSL',\n",
       " 'DX51D+ZM120',\n",
       " 'ATL_DX51D-YS220+Z140',\n",
       " '46670382067F45SID',\n",
       " 'NASTLAMTDM0,48X1100',\n",
       " '02280382349F46ATL',\n",
       " '40130382349F45SID',\n",
       " 'N7954 NX 0.465X1060 GOOSEWING',\n",
       " 'BL_S355MC-CAT_A',\n",
       " 'NASTLAMBG0,5X1250',\n",
       " 'DX51D+Z275 MAC 1ER CHOIX',\n",
       " 'DC04ED',\n",
       " 'H240D+Z_A',\n",
       " 'DD11 DKP 1500X3.00 CVLT',\n",
       " '599017909JDF35',\n",
       " '8870-0622-1501250',\n",
       " '77532771AEGF40CSA',\n",
       " 'PI_DD13',\n",
       " '63230013037F16EKO',\n",
       " '552101189ENUS3SID',\n",
       " 'ASSC09839RC67BC30--S------DES1',\n",
       " 'X60M_AMP-20C',\n",
       " 'NEQ1 S275J2+N',\n",
       " 'NASTVERDE0,X1250',\n",
       " 'GRANITE STORM 817SC',\n",
       " '8100-0100-3001500',\n",
       " 'S235JR+AR-CL1_NON CIS_NON/H',\n",
       " 'DC04RB_SB_ARANIA',\n",
       " 'SWI DX51D+Z',\n",
       " 'WILA07707CA32AF10---------DES1',\n",
       " 'Tesko',\n",
       " 'S355J2WP+AR',\n",
       " 'NASTLAM0,61013',\n",
       " 'DD11 DKP 1500X2.00 CVLT',\n",
       " 'S355MC-CAT.A_NON CIS_3.1 CVLT',\n",
       " 'DD11 DKP 1250X3.00 CVLT',\n",
       " '06950150499F42SID',\n",
       " 'X70M_S500M_AMP-20C',\n",
       " 'S355MC DKP 1500X6.00 CCPUCVLT',\n",
       " 'DX51D+Z275 MAC PW',\n",
       " 'M13770310 NORMALLY OILED',\n",
       " '65940150128F16EKO',\n",
       " 'ASSC14537LA32AQ30---------DES1',\n",
       " '14310002067F16EKO',\n",
       " '370201289U6F14SID',\n",
       " '02900128087F46ATL',\n",
       " 'KRA DX51D+Z',\n",
       " 'ASSC13906LC67AW30-CR------DES1',\n",
       " '135900029GSF16EKO',\n",
       " '64710128087F46BRE',\n",
       " '73200128A91F46BRE',\n",
       " 'ASSC02261CA32AB10---------DES1',\n",
       " '02310128087F46SID',\n",
       " '44230002067F16SID',\n",
       " 'ASSC14431LC67BC30-CR------DES1',\n",
       " 'S235JR+AR',\n",
       " 'S220GDZ ASTD25 AM FRED BF5',\n",
       " 'NADS3JRGS',\n",
       " 'ACCESS STANDARD AM',\n",
       " 'P3016',\n",
       " 'DC01+ZE25/25',\n",
       " 'ACC101020001042V',\n",
       " 'QBR03',\n",
       " 'DAIKIN DX53D+ZM MBO',\n",
       " 'H29005TX150',\n",
       " '31710150311US3LOR',\n",
       " 'AMSTRONGS355MC',\n",
       " 'C001010100000',\n",
       " 'SUB6GRANITE.STD.4 20-49T.SA',\n",
       " 'SUB4GRANITE.STD.4 20-49T.PB',\n",
       " 'NEQ1 SA516G60-LOWSI',\n",
       " 'DX51D+Z275 MAC',\n",
       " 'BM001278',\n",
       " 'DEQ1 S275JR+N',\n",
       " 'SH S355J2+N-CL1',\n",
       " 'P9003',\n",
       " 'P311A',\n",
       " 'FZPA001130007231000',\n",
       " 'S355J2+AR-CL1',\n",
       " 'NEQ1 S420MC',\n",
       " 'NASTLAMRSG0,6X1250',\n",
       " 'S235JR+N-CL1 TD',\n",
       " 'HRPOS355 1.50',\n",
       " 'BP001385',\n",
       " 'S355 MC',\n",
       " 'DX51D+Z100',\n",
       " '14990161363F42GAL',\n",
       " 'NASTLAMVEMU61250',\n",
       " 'S350GD+ZM310 MAC',\n",
       " '06960840311F60SAG',\n",
       " 'D311U',\n",
       " '0208A990Z6',\n",
       " 'D905U',\n",
       " '890AN6020',\n",
       " 'A6G110751250',\n",
       " 'DX51D+Z M',\n",
       " 'S235JR',\n",
       " '81420161ABAF42CSA',\n",
       " 'S360MC LASER PREMIUM',\n",
       " '14990161363F42CSA',\n",
       " 'G8004',\n",
       " 'LADECO1/000015',\n",
       " 'DX51D EST MAT MT G20 B5 AM',\n",
       " 'CLS05/000025',\n",
       " 'DX51D ESTC ACC MT B5 AM ROHS',\n",
       " '9667 DX51D+Z A',\n",
       " 'CLS05/000508',\n",
       " '14990161102F16GAL',\n",
       " 'PRCV60052F0,8X1250',\n",
       " 'DEQ1 S315MC',\n",
       " '06950840311F60SAG',\n",
       " 'DC03EK',\n",
       " 'GCHX420LAD 2.50',\n",
       " 'HC260LA SHELVE REDFLAT EKO 3.1',\n",
       " 'ML',\n",
       " '551817909NNF45BRE',\n",
       " '290AN7362',\n",
       " 'ELCL-ZE 25/25_DC01_2.2',\n",
       " 'FKPA000470007231000',\n",
       " 'N7954 N 0.48X1220 GOOSEW',\n",
       " 'NASTLAMTDM0,6X1250',\n",
       " 'NASTLAMRS61250',\n",
       " '15230007932US3CSA',\n",
       " 'DX51D+Z A SURF',\n",
       " 'MA0083F',\n",
       " '0.63X1248 N N6115 JUNIPERGREEN',\n",
       " 'S220GD+ZM MAE',\n",
       " 'S S280GD+Z',\n",
       " 'S235JR+AR-CL1_NON CIS_3.1 CVLT',\n",
       " 'SSC-MR-0039-V',\n",
       " 'BL_S420MC',\n",
       " '46860433351F60HEA',\n",
       " 'BL_S700MC-CAT_A',\n",
       " 'NASTLAMBP81250',\n",
       " 'CMN A VENIR',\n",
       " 'CCE 7016E',\n",
       " '04010128466FI7KRA',\n",
       " '72590002A5QF14SID',\n",
       " 'INDATEN HC315WP',\n",
       " 'DC03 ( RE MIN 170 MPA)',\n",
       " 'G6005',\n",
       " 'HC180CA',\n",
       " 'HX260LAD+Z100 MB',\n",
       " 'N8711 N 0.65X1220 VANDYKE',\n",
       " 'CONE00160S0311000',\n",
       " 'G9010 + FOIL',\n",
       " '629022999JDF60BRE',\n",
       " 'BM001218',\n",
       " '724DC',\n",
       " 'CM09125',\n",
       " '2_S355J0WP+AR',\n",
       " '371508459FCF21LOR',\n",
       " 'HC180CS AMFCE EKO 3.1',\n",
       " '1049 HC180CS',\n",
       " 'DC03 EKO 3.1',\n",
       " 'DC01 RED.FLAT EKO 2.2',\n",
       " 'Serwistal',\n",
       " '910 HC300LA NORM ROUGHN',\n",
       " '1AMS355NTL34B',\n",
       " '1022 HC300LA NORM ROUGHN',\n",
       " '1222 HC300LA NORM ROUGHN',\n",
       " 'P1021',\n",
       " 'NASTLAMSILV06X1250',\n",
       " 'KRA S220GD+Z',\n",
       " 'HRPOS235 1.75',\n",
       " 'S250GD+Z275 EKO 3.1',\n",
       " '1234 HC300LA NORM ROUGHN',\n",
       " '43760145AFHF73BRE',\n",
       " '890AN6021',\n",
       " '0551BG1040',\n",
       " 'FZPA000970003230000',\n",
       " 'G9010/G9010',\n",
       " 'AMSTRONG420MC',\n",
       " 'DC01 3.1',\n",
       " 'DX51D+ZM175 0,50X1250',\n",
       " 'QGY01',\n",
       " '1249 HC180CS',\n",
       " '15230007351US3CSA',\n",
       " 'zapytanie KK 06.11.19',\n",
       " '66990433932US3ATL',\n",
       " 'S235JR+AR-CL1_PROF.A FROID',\n",
       " '2_S275J2+N-CL1',\n",
       " 'DX54D+ZA',\n",
       " '8000-0100-1501250',\n",
       " '1S220A310PFSB',\n",
       " '29070150311US3SID',\n",
       " '850 HC180CS',\n",
       " '1S220A275P6FSL',\n",
       " '1422 HC300LA NORM ROUGHN',\n",
       " 'S420MC_ARANIA',\n",
       " 'GCS350GD 2.00',\n",
       " '0551GN1100',\n",
       " '2_S275JR+AR-CL1',\n",
       " 'D804U',\n",
       " '8000-0100-1501500',\n",
       " 'BL_S235JR+AR-CL1 TEAR DIN SES',\n",
       " '8000-0100-2001250',\n",
       " '8000-0100-3001500',\n",
       " 'MA0481N',\n",
       " '8000-0100-2001500',\n",
       " 'NADS5J3GS',\n",
       " 'G7016 HDX',\n",
       " '8000-0100-3001250',\n",
       " '8200-0100-1001500',\n",
       " '727717909NNF45BRE',\n",
       " '202006080002.IO.1.1',\n",
       " 'DC04-1020 X 2.00 CCPU',\n",
       " 'NEQ P355NL1/S355J2+N',\n",
       " 'DX51D+Z_YS220',\n",
       " '-',\n",
       " '8100-0100-1251000',\n",
       " '8200-0100-1001250',\n",
       " 'NEQ1 S355MC',\n",
       " 'DX51D EST.FLEX GRAINE 25/5',\n",
       " 'CL-R7037-00001',\n",
       " 'S220GD+ZM',\n",
       " '412325659B2F60PIO',\n",
       " 'K DX51D+Z KRK1',\n",
       " '0321PI1045',\n",
       " 'CP/2/TIM/2019',\n",
       " 'DX52D+Z MBC',\n",
       " 'B CZ03202745946',\n",
       " 'S275J2+N-CL1 3/4 EN + 3.1',\n",
       " 'Typical basket',\n",
       " 'DEQ1 P355NH-CAT_A',\n",
       " '9006/35/1220/0.75',\n",
       " 'PRCBG1F1,0X1250',\n",
       " 'AMSTRONG 315MC',\n",
       " 'LADECO1/000017',\n",
       " '8200-0100-1501500',\n",
       " 'G9005',\n",
       " 'U10109E',\n",
       " 'BL_C45E LAYDE',\n",
       " 'S355MC-CAT.A_3/4_NONCIS3.1CVLT',\n",
       " 'CONE00651S0311001',\n",
       " 'S235JR+AR DKP CCPU HUIL',\n",
       " 'G9002/G9002',\n",
       " 'ARCELORMITTAL16',\n",
       " 'DD11 DKP 1000X2.00 CVLT',\n",
       " 'CLS07/000433',\n",
       " '1264 S350GD A W',\n",
       " 'CONE00132S0310000',\n",
       " '801300029Q8F42SID',\n",
       " 'CODE00239S0310001',\n",
       " 'DD11 DKP 1250X2.00 CVLT',\n",
       " 'S235JR+ARCL1SOLCL+-0.29CISCVLT',\n",
       " 'G9007/G9002',\n",
       " 'U20033I',\n",
       " 'U70234D',\n",
       " 'S320GD+Z Z200',\n",
       " '8012/25/1220/0.63',\n",
       " 'GR. 160 / 3.1 / (-)',\n",
       " 'U10234Z',\n",
       " '85700128AFOFI7BRE',\n",
       " 'HDX G7016',\n",
       " 'S355MC-CAT_A LOIL EKO',\n",
       " 'G1002',\n",
       " 'RAL7024',\n",
       " '0451GN1100',\n",
       " 'PI_AMSTRONG315MC',\n",
       " 'CP/7/TIM/2019',\n",
       " 'C67S',\n",
       " 'NASTLAMTMTM61250',\n",
       " 'NASTLAMRSRS61250',\n",
       " '74970002A5QF14SID',\n",
       " 'S275JR+AR-CL1_PROF.A FROID',\n",
       " 'S220GD+Z275_PROF.A FROID',\n",
       " 'HC260LA',\n",
       " 'DD 13',\n",
       " 'S355J2C+N-CL1',\n",
       " '15230007351F43CSA',\n",
       " 'GCS350GD 3.00',\n",
       " 'CS0611180',\n",
       " '1180LFSE',\n",
       " 'DX51D+Z100 2,00X1250 M',\n",
       " 'DD 11-CAT A FM',\n",
       " 'ACC101020002042S',\n",
       " 'NASTLAMSILV08X1250',\n",
       " 'NASTLAMBGG0,6X1250',\n",
       " '640514549NNUS3BRE',\n",
       " '07280150128US3LOR',\n",
       " 'DD13 EKO',\n",
       " 'BL_C22E',\n",
       " '16180UFSB',\n",
       " '15230007351F42CSA',\n",
       " 'BM001123',\n",
       " 'P7040',\n",
       " 'HC340LA',\n",
       " 'FTPA000189',\n",
       " 'DX53D+AS120',\n",
       " 'G9006 HDX',\n",
       " 'FRS1 DC01',\n",
       " 'D817U',\n",
       " 'ZPBAVNA11960070001',\n",
       " 'JETSKIN',\n",
       " 'D724X',\n",
       " '80323111AEGF40CSA',\n",
       " 'ZPMGDNA12160180001',\n",
       " '859107269BUF35CSA',\n",
       " 'DES1 S235JR+N',\n",
       " 'BN001375',\n",
       " 'S420MC-CAT_A',\n",
       " 'SS2350050CBPK',\n",
       " '8300-0100-1251000',\n",
       " '202011050014.IO.1.1',\n",
       " '06950150311F42SID',\n",
       " '58550128087F43BRE',\n",
       " '02570128087FE1ATL',\n",
       " '18380007746F42',\n",
       " '32490013846F42ATL',\n",
       " '47620150128F42SID',\n",
       " '517913989JDUS3BRE',\n",
       " '39240002067US3MED',\n",
       " '04260002067US3ATL',\n",
       " '33380118349US3ATL',\n",
       " '0551GX1100NUOVO',\n",
       " '61181173067US3MED',\n",
       " '33380118349US3MED',\n",
       " '33090128320US3MED',\n",
       " 'HC420LA',\n",
       " '04200128089US3ATL',\n",
       " '30140128085US1MED',\n",
       " '03560128466US3ATL',\n",
       " 'BM001273',\n",
       " '74830161363US3CSA',\n",
       " '14990161363US3GAL',\n",
       " '14990161363US3CSA',\n",
       " 'RAL9005',\n",
       " '1180LFSG',\n",
       " '496914429XEF68SID',\n",
       " 'T35 B7 D6',\n",
       " '817DC',\n",
       " 'G1015',\n",
       " 'G9006/G9002',\n",
       " '02570128466FE1ATL',\n",
       " 'ACCESS STD AM',\n",
       " '1_S420MC-CAT_A',\n",
       " '02110002349FE1SID',\n",
       " '1S240DNTL34B',\n",
       " 'HRCL_C40E AM FCE 4.51X1265',\n",
       " 'GCS350GD 1.75',\n",
       " '48180002349F42SID',\n",
       " '04140002A6PF43SID',\n",
       " '02110002067FE1',\n",
       " '70190128087F43BRE',\n",
       " '32930002349F42SID',\n",
       " '45990145730F43BRE',\n",
       " '1S240DNTL34G',\n",
       " 'S250GD+Z_BONNE PLANEITE',\n",
       " 'ACIPRL00158',\n",
       " '56285 DX51D+Z MAC',\n",
       " 'RAL9010',\n",
       " 'MAGASIN',\n",
       " 'S320/G9002',\n",
       " 'CD20125',\n",
       " 'RAL9002',\n",
       " 'FZPA001210014850000',\n",
       " 'DC01_RANO',\n",
       " 'DES.THICK.',\n",
       " 'S460M-CL1',\n",
       " '131231479B2F60HEA',\n",
       " '4.11056',\n",
       " '59972294AERF42CSA',\n",
       " '296607279BSF35LOR',\n",
       " '788101289TIF42BRE',\n",
       " 'SWI S220GD+Z',\n",
       " '8100-0100-1251250',\n",
       " 'BAS1165X465GHD',\n",
       " 'ZPBAVNA11200060001',\n",
       " 'PI_S275JR+AR-CL1',\n",
       " '17742891238F40SID',\n",
       " '8870-0626-1001250',\n",
       " 'GCS250GD 2.50',\n",
       " 'W H240D+Z',\n",
       " 'U20882V',\n",
       " 'DE 1501500Z000DD11',\n",
       " 'S355J0WP+AR',\n",
       " 'FZPA004600',\n",
       " 'DEPANNAGE',\n",
       " '57460840311F60SID',\n",
       " 'CB S275JR+AR',\n",
       " 'S235JR+AR-CL1 SKIN 1,65 X 1105',\n",
       " 'S240 CLAS',\n",
       " 'DC04-CAT_A',\n",
       " 'PRCBG2F0,6X1000',\n",
       " '24710204311US3SID',\n",
       " 'PRCTM2F0,6X1250',\n",
       " 'NERRO0104/50/7032/12/1220/0.63',\n",
       " 'Indication',\n",
       " '39AC05115057BG',\n",
       " 'SS2350040CBPK',\n",
       " 'HRCL_S-460-MC 6.55X1749',\n",
       " '06950204311US3SID',\n",
       " '1264 S220GD A W',\n",
       " '551817909JDF35BRE',\n",
       " '7006/25/1220/0.63',\n",
       " 'DX51D+ZM175 MAE',\n",
       " 'S185+AR',\n",
       " '59650128087FI7MED',\n",
       " 'NASTLAMBG0,6X1000',\n",
       " 'NASTLAMGAGA61250',\n",
       " 'SS2350120CBPK',\n",
       " '8100-0100-0801250',\n",
       " 'S220GD GR STD AM G30 B5 AM',\n",
       " 'WILA07708CA32AF10---------DES1',\n",
       " 'E7517',\n",
       " 'M13710130 NORMALLY OILED',\n",
       " '045HTG1100',\n",
       " 'PRCB90102F0,6X1000',\n",
       " 'BM001159',\n",
       " 'E4478',\n",
       " 'BG028953',\n",
       " 'DD 11',\n",
       " 'ACC101020002032V',\n",
       " 'DD11 KRA',\n",
       " 'FLPA001200007771321',\n",
       " 'S235JR+N',\n",
       " 'DX51D 1/2 ESTFLEX DB FACE MT',\n",
       " 'S235JR+AR-CL1 ASTM786',\n",
       " 'G7011=P7011',\n",
       " 'CLANL=CLOUDY ANTICATO LIGHT',\n",
       " 'GCHX380LAD 2.00',\n",
       " '905HC',\n",
       " '8100-0100-3001250',\n",
       " '8100-0100-3001000',\n",
       " 'GALEO 0103/50/0103/25',\n",
       " 'DX51D EST LIGHT MT EST ACC MT',\n",
       " 'S360MC LASER CLASSIC',\n",
       " 'KRA',\n",
       " '1246 HC180CA',\n",
       " 'N01-0011529',\n",
       " 'S220GD+Z MAC',\n",
       " 'S235JRC+AR-CL1',\n",
       " '1437 HC180CA',\n",
       " 'CLS05 S500MC/000004',\n",
       " 'SS35M006015BPK',\n",
       " 'DC01+ZV25/25 APC',\n",
       " 'CLS05/000019',\n",
       " '06870840311F60SAG',\n",
       " 'S350GD+Z600+A',\n",
       " 'S280GD+ZM MAE',\n",
       " '805 HC180CS',\n",
       " 'S235JR+AR ASTM A786',\n",
       " '1X54A100P6FSA',\n",
       " 'LADECO1/000006',\n",
       " '1S220A275P6FSB',\n",
       " '1S350A310PFSB',\n",
       " 'S355MC KRA',\n",
       " '104246 C67S A W',\n",
       " 'DC04 ( RE MIN 170 MPA)',\n",
       " '8870-0515-1251500',\n",
       " 'P7047',\n",
       " '910 HC180CA',\n",
       " '1222 HC180CA',\n",
       " 'VRT',\n",
       " '1234 HC180CA',\n",
       " 'PI_DD14',\n",
       " 'BM001201',\n",
       " 'DC05',\n",
       " '1422 HC180CA',\n",
       " 'STORM D724X',\n",
       " '1022 HC180CA',\n",
       " 'D8004',\n",
       " 'DX51D GR STD AM G30 B5 AM',\n",
       " 'CLS05/000507',\n",
       " 'HRCL_S355J2+AR CL3 8.75X1692',\n",
       " 'ZPBDWNA15000043001',\n",
       " '1.92X1250_NORM',\n",
       " 'S355K2C+N',\n",
       " 'G3011 PRU',\n",
       " '51470150992US3CSA',\n",
       " 'HRPOS355 2.00',\n",
       " 'BN001321',\n",
       " '05481/9002/35/35/1000/0,62',\n",
       " 'HRCL_S-235-Q1 2.5X1515',\n",
       " '8100-0100-0601000',\n",
       " 'HRCL_S-235-JR 2.75X1595',\n",
       " '5008/35/1220/0.75',\n",
       " 'DD11-CAT_A_LAGRIMADO',\n",
       " 'M13770100 NORMALLY OILED',\n",
       " '8100-0100-2001500',\n",
       " 'P310NB NOT EDGE TRIMMED',\n",
       " '8100-0100-1501250',\n",
       " '8100-0100-1001000',\n",
       " '88860840128FI7LOR',\n",
       " 'HC200',\n",
       " 'CO0401101AC',\n",
       " '8100-0100-1001250',\n",
       " '8100-0100-1001500',\n",
       " '8100-0100-1251500',\n",
       " '8100-0100-1501000',\n",
       " 'SS235015015BPK',\n",
       " 'NBP',\n",
       " '1300 HC180CS',\n",
       " '8870-0626-0601250',\n",
       " '64030096782F42SID',\n",
       " '8100-0100-2001000',\n",
       " 'PE90160701504A',\n",
       " '8100-0100-2001250',\n",
       " '8100-0100-0601250',\n",
       " '1124 HC300LA NORM ROUGHN',\n",
       " '8100-0100-1501500',\n",
       " 'G9002/G9010',\n",
       " 'S320GD+Z',\n",
       " 'U20034J',\n",
       " 'CONE00901S0310001',\n",
       " 'ZPBAVNA09510045001',\n",
       " 'ACIJET00001',\n",
       " '1DC04LFSG',\n",
       " 'G7024',\n",
       " 'S235JR+N KRA',\n",
       " '804HC',\n",
       " 'TD SH KRA',\n",
       " 'S460MC',\n",
       " '9010/35/692/1.5',\n",
       " 'BL_AMSTRONG355MC',\n",
       " 'S DX51D+Z PROFILES',\n",
       " 'kregi szerokie CK',\n",
       " 'FOR',\n",
       " '0719110199TF35LOR',\n",
       " '33121008ADRF40SID',\n",
       " '0431LG1040',\n",
       " '1S220A100P6FSA',\n",
       " 'DX51D+Z275 NOWELD',\n",
       " 'LADECO1/000001',\n",
       " 'U20603C',\n",
       " '8100-0100-0801500',\n",
       " 'SS42M008015BPK',\n",
       " 'BP001383',\n",
       " '06657 GSTD 0.45X1220 JUNIPER',\n",
       " 'A92000501160',\n",
       " '0751GN1065NUOVO',\n",
       " 'A80190451250',\n",
       " '8100-0100-0501000',\n",
       " '8100-0100-0801000',\n",
       " 'B GG102019',\n",
       " 'SS2350100CBPK',\n",
       " '8100-0100-0501250',\n",
       " 'A80190551250',\n",
       " 'ZPBLUNA15000150001',\n",
       " '837901289CEUS3MED',\n",
       " 'BN002101',\n",
       " 'DX51D+AS120',\n",
       " '47870128087FI7BRE',\n",
       " '70371239238F40ATL',\n",
       " 'GR. 170 / 3.1 / (-)',\n",
       " '202103040037.IO.1.1',\n",
       " '8000-0300-100905',\n",
       " 'NASTLAMTDM0,8X1250',\n",
       " 'ZPBLUNA12600045001',\n",
       " 'S235JR+N-CL1 KRA',\n",
       " 'PI_S235JR+N-CL1',\n",
       " '788501289TIF42BRE',\n",
       " '33120751238US3CSA',\n",
       " 'MA0727Z',\n",
       " '02570128466US3MED',\n",
       " 'B CZ03202745944',\n",
       " 'G9006 ,G9007',\n",
       " 'DX51D+ZM_YS220',\n",
       " 'S355MC-CAT.A_PROF.A FROID',\n",
       " 'DX51D+Z100 0,45X1250 N',\n",
       " 'DX51D+Z100 0,46X1250 N',\n",
       " 'DX51D+Z100 0,50X1250 N',\n",
       " '8100-0100-0901250',\n",
       " '0724228199NF16LOR',\n",
       " '8100-0100-0901000',\n",
       " 'MK-S240C-MEKA',\n",
       " '17780506238US3ATL',\n",
       " 'S235JR+AR-CL 1 FM',\n",
       " '78810128AFRF42BRE',\n",
       " 'DEQ1 P355NH-CAT_A/P355NH',\n",
       " '79000840311F60SAG',\n",
       " 'GRANITE STORM D309X',\n",
       " 'HRCL_DD 11 1.85X1250',\n",
       " '8100-0100-1501100',\n",
       " 'S420GD+ZM310',\n",
       " '8100-0100-0901500',\n",
       " 'CD18125',\n",
       " 'BL_S420MC-CAT_A',\n",
       " 'ACCESS HD AM GLOSS 15',\n",
       " 'M30103A',\n",
       " 'METAL 0207/35/METAL 0207/35',\n",
       " '72442958AFFF40CSA',\n",
       " 'G7035 HDX',\n",
       " 'U70039Q',\n",
       " '8870-0626-1501500',\n",
       " 'G6011',\n",
       " '14980726363F35CSA',\n",
       " 'ACC101020001032V',\n",
       " '131220779B2FI7SWI',\n",
       " '02280118067US3ATL',\n",
       " 'G6020',\n",
       " '8100-0100-1001100',\n",
       " 'S355MC-CAT A',\n",
       " 'BN002059',\n",
       " 'SUB4.GRAFHITE0087 GRANITE STD',\n",
       " '8000-0100-1761250',\n",
       " '2300-0845-4001500',\n",
       " 'GCHX380LADSP 4.00',\n",
       " '8000-0300-1251000',\n",
       " '1235JRCNTV34B',\n",
       " '52 0431350 977',\n",
       " '8000-0300-1001515',\n",
       " 'HRCL_S-235-JRGC 3.65X1250',\n",
       " '13092921AAOF40CSA',\n",
       " 'HRCL_S-235-JR 2.75X1260',\n",
       " '8000-0100-1251500',\n",
       " 'HC380LA',\n",
       " '8000-0100-1251100',\n",
       " '8000-0100-1251250',\n",
       " '7022/25/9002/35/1225/0.75',\n",
       " '8000-0100-0901450',\n",
       " '8000-0100-0901500',\n",
       " '8000-0100-1501000',\n",
       " 'N7964 N 0.65X1220 MERLIN',\n",
       " '8000-0100-1501100',\n",
       " '8000-0100-1501300',\n",
       " '8000-0100-1501400',\n",
       " '8000-0100-2501000',\n",
       " 'SH1AMS355NTL34B',\n",
       " '8000-0100-2501250',\n",
       " 'VTS SPT',\n",
       " '8000-0100-2501500',\n",
       " '8000-0300-1501000',\n",
       " '8000-0300-1501250',\n",
       " '8000-0300-1501500',\n",
       " '8000-0300-2501000',\n",
       " '8000-0300-2501250',\n",
       " '8000-0100-1251000',\n",
       " '8000-0100-1251150',\n",
       " '9010/35/1220/0.75',\n",
       " '1X51A310PFSL',\n",
       " 'N5408 N 0.48X1220 SLATE',\n",
       " 'N5408 N 0.65X1220 SLATE',\n",
       " 'BL_SH_S235JR+N-CL1',\n",
       " 'LF000NA16000080001',\n",
       " '35091353311F60LOR',\n",
       " '8870-0626-2001500',\n",
       " 'A90061001250',\n",
       " '4000002303/00020',\n",
       " '3003/25/1220/0.75',\n",
       " '27510002484F42SID',\n",
       " '8100-0100-125960',\n",
       " 'WEST_S320GD+Z MAC',\n",
       " 'DUMMY',\n",
       " 'SWI_DX52D+Z MAC',\n",
       " '1X54B200P6FSA',\n",
       " '23892914634US3CSA',\n",
       " 'CONE00132S0310001',\n",
       " 'DX51D+Z100 0,46X1250 M',\n",
       " 'BM001305',\n",
       " '6021/25/1220/0.75',\n",
       " '35370630890US3ATL',\n",
       " 'WILA06839CA32AF10---------DES1',\n",
       " 'D7024',\n",
       " 'A90060401420',\n",
       " 'S235JR 4X1246',\n",
       " 'S500MC',\n",
       " 'ACIPRL00152',\n",
       " 'CD15150',\n",
       " 'BL_S355MC',\n",
       " 'E4479/E8555',\n",
       " 'RAL7016FLEX',\n",
       " 'ACIPRL00156',\n",
       " 'N9801 N 0.48X1220 BLACK',\n",
       " '8000-0100-0901350',\n",
       " 'CLE 7016E',\n",
       " 'LTG1065X32POLB',\n",
       " '6005/17/996/0.50',\n",
       " 'G9010 +F',\n",
       " 'U70233C',\n",
       " 'MA0425J',\n",
       " 'DX51D+Z ACCESS A',\n",
       " 'C75S/CCM/DURS/433 REV.4',\n",
       " 'AMSTRONG500MC',\n",
       " 'AB 9010',\n",
       " '8000-0300-1251250',\n",
       " '1AMS355NTL34G',\n",
       " '8000-0100-0901250',\n",
       " '8000-0100-300900',\n",
       " '220500079CMUS3LOR',\n",
       " 'NASTLAM0,51150',\n",
       " 'DX51D+Z275 GS25µ 9010',\n",
       " '694517909NNF45BRE',\n",
       " 'ZPBAVNA11000100001',\n",
       " 'E1106 PRIMER',\n",
       " 'HRCL_PI_TUBE355-SES 3.01X1305',\n",
       " 'SS2350080CBPK',\n",
       " '8000-0100-200900',\n",
       " '8000-0100-2001000',\n",
       " 'S220GDZ EA15 AVI FRED BF5',\n",
       " '8000-0100-2001150',\n",
       " '8000-0300-2001000',\n",
       " '8000-0100-1001300',\n",
       " '820AN8350',\n",
       " 'NASTLAMRC51250',\n",
       " '8000-0100-1001000',\n",
       " '8000-0100-1001050',\n",
       " 'S235JR-CL1-MASC',\n",
       " '8000-0100-1001100',\n",
       " 'DX51D GR STD MT G40 B5 AM',\n",
       " 'zapytanie TL',\n",
       " 'MSS145110000094',\n",
       " 'TRS35501200Z06',\n",
       " '8000-0100-1001200',\n",
       " '8000-0100-1001250',\n",
       " '07633/03431/35/35/1000/062',\n",
       " 'SSC-MR-0036-V',\n",
       " 'NASTLAMRS0,5X1250',\n",
       " 'G0038064',\n",
       " 'CODE00239S0310101',\n",
       " '18370748351F60AST',\n",
       " '8300-0100-2001250',\n",
       " '8000-0100-0901100',\n",
       " '853217909JDF35BRE',\n",
       " '0.63X1250 N 19617 HAMLET',\n",
       " '0.63X1250 N N8711 VANDYKEBROWN',\n",
       " 'L4158895483503',\n",
       " 'HC380LA-CL1_RASEBR',\n",
       " 'U70239I',\n",
       " '0.63X1248 N N7964 MERLIN',\n",
       " 'DEQ1 DD15',\n",
       " '19617 NX 0.595 X 1164 GREYWHI',\n",
       " '055X1060S250GDZ100BG BF7',\n",
       " 'ZPAMSNA08400080001',\n",
       " 'LIN1065X32B',\n",
       " 'LIN1065X32AA',\n",
       " '0.63X1248 N 07641 ANTHRACITE',\n",
       " '39AC05112078BG',\n",
       " 'NASTLAM0,6X10009010',\n",
       " '2_AMSTRONG_700MCT',\n",
       " 'G9007 HDX',\n",
       " 'ZPBAVNA15000070001',\n",
       " 'HDX G9010',\n",
       " 'LOT 3',\n",
       " 'DD14 TI 4.55X1471',\n",
       " '8000-0100-100900',\n",
       " '8000-0100-1001350',\n",
       " '8000-0300-1001000',\n",
       " '05481/9002/35/35/1240/074',\n",
       " '8000-0300-1001250',\n",
       " '8000-0300-1001500',\n",
       " '8000-0300-2001250',\n",
       " '03425/9002/35/35/1240/0.74',\n",
       " '8000-0300-2001500',\n",
       " '8000-0300-3001000',\n",
       " '52 040900 80D8',\n",
       " 'ZPB02NA15000100001',\n",
       " '8000-0300-3001250',\n",
       " '8000-0300-3001500',\n",
       " '8000-0100-0501000',\n",
       " '8000-0100-0501250',\n",
       " 'B CZ02202745751',\n",
       " '8000-0100-0601000',\n",
       " '8000-0100-0601250',\n",
       " '5340LALFSG',\n",
       " '1S220A100P6FSB',\n",
       " '8000-0100-0801000',\n",
       " '8000-0100-0801050',\n",
       " '8000-0100-0801100',\n",
       " '8000-0100-0801150',\n",
       " '8000-0100-0801250',\n",
       " '8000-0100-0801300',\n",
       " '8000-0100-0801500',\n",
       " '8000-0100-0901000',\n",
       " '8000-0100-0901050',\n",
       " 'A9010/A9010',\n",
       " 'NASTLAMRS0,6X1000',\n",
       " '8000-0100-3001000',\n",
       " '8000-0100-150900',\n",
       " '8000-0100-1001400',\n",
       " '8000-0100-1001500',\n",
       " 'RBB',\n",
       " 'BP001472',\n",
       " '45092827238F40SID',\n",
       " '49090128087F60MED',\n",
       " '43960118349F60MED',\n",
       " 'S235JR+AR-CL1_DKP_SOLCLEAN_CIS',\n",
       " '437601459ZXF60SES',\n",
       " 'OPY1230/0.50SG',\n",
       " '6751 DX51D B W',\n",
       " 'HRCL_S-235-JRGC 5.5X1345',\n",
       " ...]"
      ]
     },
     "execution_count": 594,
     "metadata": {},
     "output_type": "execute_result"
    }
   ],
   "source": [
    "value_counts = df['material_ref'].value_counts()\n",
    "freq = (value_counts[value_counts<100]).index\n",
    "\n",
    "unique_once_list = list(freq)\n",
    "unique_once_list"
   ]
  },
  {
   "cell_type": "code",
   "execution_count": 595,
   "id": "7bc75c43-d4cd-4407-b9a2-6f18e83e537f",
   "metadata": {},
   "outputs": [],
   "source": [
    "df['material_ref'] = df['material_ref'].replace(unique_once_list, 'other')"
   ]
  },
  {
   "cell_type": "code",
   "execution_count": 596,
   "id": "6d877d41-da33-4533-b0ec-6b6c5fe045bb",
   "metadata": {},
   "outputs": [
    {
     "data": {
      "text/plain": [
       "material_ref\n",
       "NULL                             79567\n",
       "other                            57322\n",
       "others                            2855\n",
       "DX51D+Z                            851\n",
       "DC01 RED.FLAT KUCHNIA EKO 2.2      776\n",
       "G9010                              623\n",
       "DC01                               600\n",
       "G9006                              520\n",
       "G9002                              481\n",
       "G7016                              371\n",
       "NEQ1 S355J2+N                      364\n",
       "K DX51D+Z PROFILES                 363\n",
       "DX51D+Z275 EKO 2.2                 356\n",
       "S235JR+AR-CL1                      352\n",
       "CLS05S700MC/000094                 315\n",
       "S220GD+Z                           286\n",
       "S235JR+N-CL1                       285\n",
       "DES1 DD11-CL1AMFCE                 280\n",
       "S355MC-CAT_A 3.1                   274\n",
       "A9010                              252\n",
       "typical item                       230\n",
       "DX51D+Z275                         214\n",
       "DX51D+Z_A                          183\n",
       "S235JR+AR_CL1                      181\n",
       "PI_S235JR-CL1                      170\n",
       "CONSIGNMENT STOCK                  157\n",
       "DC01-CAT_A                         155\n",
       "S355J2+N-CL1                       149\n",
       "S220GD+Z275 MAC_GALV EDGES         146\n",
       "S235JR+AR LARG SUP 1500 CVLT       140\n",
       "81420726363F35CSA                  138\n",
       "NANS3JRGS                          133\n",
       "DC04 EKO 3.1                       132\n",
       "002-06-2017/US/Serwistal           120\n",
       "DX51D+ZM                           119\n",
       "NES1 S235JR                        118\n",
       "DEQ1 P295GH                        116\n",
       "2_S235JR+AR-CL1                    112\n",
       "DC01+ZV25/25                       111\n",
       "DC01+ZE                            109\n",
       "DC04                               107\n",
       "DD11 EKO                           105\n",
       "DC01 EKO 2.2                       103\n",
       "DX51D+Z100 EKO 2.2                 101\n",
       "Name: count, dtype: int64"
      ]
     },
     "execution_count": 596,
     "metadata": {},
     "output_type": "execute_result"
    }
   ],
   "source": [
    "df['material_ref'].value_counts()"
   ]
  },
  {
   "cell_type": "code",
   "execution_count": 597,
   "id": "f3bc16f0-b82e-4d5a-80e1-b43c54d0a11d",
   "metadata": {},
   "outputs": [
    {
     "data": {
      "text/plain": [
       "product_ref\n",
       "611993        36094\n",
       "164141591     24399\n",
       "640665        23195\n",
       "1670798778    16539\n",
       "628377        15909\n",
       "1668701718    11392\n",
       "640405         8331\n",
       "1671863738     4463\n",
       "1332077137     3907\n",
       "1693867550     1540\n",
       "1668701376      977\n",
       "1671876026      805\n",
       "628117          555\n",
       "164337175       450\n",
       "1668701698      290\n",
       "1693867563      264\n",
       "1721130331      230\n",
       "1282007633      203\n",
       "628112          168\n",
       "1665572374      149\n",
       "1690738206      131\n",
       "1722207579      125\n",
       "611728           84\n",
       "640400           81\n",
       "611733           44\n",
       "1668701725       44\n",
       "164336407        37\n",
       "1690738219       17\n",
       "1665584320       12\n",
       "1665572032        4\n",
       "1665584642        2\n",
       "929423819         1\n",
       "Name: count, dtype: int64"
      ]
     },
     "execution_count": 597,
     "metadata": {},
     "output_type": "execute_result"
    }
   ],
   "source": [
    "df['product_ref'].value_counts()"
   ]
  },
  {
   "cell_type": "code",
   "execution_count": 598,
   "id": "7df2bd0a-d3a5-40c9-9a9a-a89ac9e3018e",
   "metadata": {},
   "outputs": [],
   "source": [
    "#Feature engineering: Introducing new features\n",
    "df['item_date'] = pd.to_datetime(df['item_date'], format='%Y%m%d', errors='coerce').dt.date\n",
    "df['delivery date'] = pd.to_datetime(df['delivery date'], format='%Y%m%d', errors='coerce').dt.date\n",
    "\n",
    "df['Delivery_time'] = df['delivery date'] - df['item_date']\n",
    "df['Delivery_time'] = df['Delivery_time'].astype(str)\n",
    "##lot of incorrect values..ignor\n",
    "df['Delivery_time'] = df['Delivery_time'].fillna(0).astype(str)\n",
    "\n",
    "df['Delivery_time'] = (df['Delivery_time'].str.extract('(\\d+)'))\n",
    "df['Delivery_time'] = pd.to_numeric(df['Delivery_time'], errors='coerce')"
   ]
  },
  {
   "cell_type": "code",
   "execution_count": 599,
   "id": "62f9a295-c9fc-4a78-b4eb-1b77a620ae20",
   "metadata": {},
   "outputs": [
    {
     "data": {
      "text/plain": [
       "3"
      ]
     },
     "execution_count": 599,
     "metadata": {},
     "output_type": "execute_result"
    }
   ],
   "source": [
    "df['Delivery_time'].isnull().sum()"
   ]
  },
  {
   "cell_type": "code",
   "execution_count": 600,
   "id": "dfc5878d-33a5-4916-866b-cba34576499e",
   "metadata": {},
   "outputs": [],
   "source": [
    "df = df.dropna()"
   ]
  },
  {
   "cell_type": "code",
   "execution_count": 601,
   "id": "6d657d59-29fe-4d27-8cbe-3f4a1e5a791e",
   "metadata": {},
   "outputs": [
    {
     "name": "stdout",
     "output_type": "stream",
     "text": [
      "                                          id   item_date  quantity tons  \\\n",
      "0       EC06F063-9DF0-440C-8764-0B0C05A4F6AE  2021-04-01      54.151139   \n",
      "1       4E5F4B3D-DDDF-499D-AFDE-A3227EC49425  2021-04-01     768.024839   \n",
      "2       E140FF1B-2407-4C02-A0DD-780A093B1158  2021-04-01     386.127949   \n",
      "3       F8D507A0-9C62-4EFE-831E-33E1DA53BB50  2021-04-01     202.411065   \n",
      "4       4E1C4E78-152B-430A-8094-ADD889C9D0AD  2021-04-01     785.526262   \n",
      "...                                      ...         ...            ...   \n",
      "181668  DE633116-D1DF-4846-982E-55EFC3658A76  2020-07-02     102.482422   \n",
      "181669  A48374B1-E6DB-45F2-889A-1F9C27C099EB  2020-07-02     208.086469   \n",
      "181670  91643238-5C7B-4237-9A5F-63AE3D35F320  2020-07-02       4.235594   \n",
      "181671  7AFFD323-01D9-4E15-B80D-7D1B03498FC8  2020-07-02   -2000.000000   \n",
      "181672  AD0CA853-AE3C-4B2F-9FBB-8B0B965F84BC  2020-07-02     406.686538   \n",
      "\n",
      "          customer  country  status item type  application  thickness   width  \\\n",
      "0       30156308.0     28.0     1.0         W         10.0       2.00  1500.0   \n",
      "1       30202938.0     25.0     1.0         W         41.0       0.80  1210.0   \n",
      "2       30153963.0     30.0     1.0        WI         28.0       0.38   952.0   \n",
      "3       30349574.0     32.0     1.0         S         59.0       2.30  1317.0   \n",
      "4       30211560.0     28.0     1.0         W         10.0       4.00  2000.0   \n",
      "...            ...      ...     ...       ...          ...        ...     ...   \n",
      "181668  30200854.0     25.0     1.0         W         41.0       0.96  1220.0   \n",
      "181669  30200854.0     25.0     1.0         W         41.0       0.95  1500.0   \n",
      "181670  30200854.0     25.0     1.0         W         41.0       0.71  1250.0   \n",
      "181671  30200854.0     25.0     1.0         W         41.0       0.85  1250.0   \n",
      "181672  30200854.0     25.0     1.0         W         41.0       0.71  1240.0   \n",
      "\n",
      "       material_ref  product_ref delivery date  selling_price  Delivery_time  \n",
      "0             other   1670798778    2021-07-01         854.00           91.0  \n",
      "1              NULL   1668701718    2021-04-01        1047.00            0.0  \n",
      "2             other       628377    2021-01-01         644.33           90.0  \n",
      "3             other   1668701718    2021-01-01         768.00           90.0  \n",
      "4             other       640665    2021-03-01         577.00           31.0  \n",
      "...             ...          ...           ...            ...            ...  \n",
      "181668         NULL    164141591    2020-07-01         591.00            1.0  \n",
      "181669         NULL    164141591    2020-07-01         589.00            1.0  \n",
      "181670         NULL    164141591    2020-07-01         619.00            1.0  \n",
      "181671         NULL    164141591    2020-07-01         601.00            1.0  \n",
      "181672         NULL    164141591    2020-07-01         607.00            1.0  \n",
      "\n",
      "[150439 rows x 15 columns]\n"
     ]
    }
   ],
   "source": [
    "#use ordinal encoder to convert categorical data into numerical data.\n",
    "from sklearn.preprocessing import OrdinalEncoder\n",
    "OE = OrdinalEncoder()\n",
    "\n",
    "OE = OrdinalEncoder(handle_unknown='use_encoded_value', unknown_value=-1)\n",
    "df['status'] = OE.fit_transform(df[['status']])\n",
    "print(df)\n",
    "OE1 = OrdinalEncoder(handle_unknown='use_encoded_value', unknown_value=-1)\n",
    "df['item type'] = OE1.fit_transform(df[['item type']])\n",
    "\n",
    "OE2 = OrdinalEncoder(handle_unknown='use_encoded_value', unknown_value=-1)\n",
    "df['material_ref'] = OE2.fit_transform(df[['material_ref']])\n",
    "\n",
    "OE3 = OrdinalEncoder()\n",
    "df['product_ref'] = OE3.fit_transform(df[['product_ref']])"
   ]
  },
  {
   "cell_type": "code",
   "execution_count": 602,
   "id": "2afeb584-3bba-4444-9144-1ded9e2b5663",
   "metadata": {},
   "outputs": [
    {
     "data": {
      "text/plain": [
       "status\n",
       "1.0    116004\n",
       "0.0     34435\n",
       "Name: count, dtype: int64"
      ]
     },
     "execution_count": 602,
     "metadata": {},
     "output_type": "execute_result"
    }
   ],
   "source": [
    "df['status'].value_counts()"
   ]
  },
  {
   "cell_type": "code",
   "execution_count": 603,
   "id": "d94ed3ce-fc0b-46b5-bf7c-625ab66cb459",
   "metadata": {},
   "outputs": [
    {
     "data": {
      "text/plain": [
       "item type\n",
       "5.0    91953\n",
       "3.0    52459\n",
       "2.0     5032\n",
       "6.0      504\n",
       "1.0      463\n",
       "0.0       27\n",
       "4.0        1\n",
       "Name: count, dtype: int64"
      ]
     },
     "execution_count": 603,
     "metadata": {},
     "output_type": "execute_result"
    }
   ],
   "source": [
    "df['item type'].value_counts()"
   ]
  },
  {
   "cell_type": "code",
   "execution_count": 604,
   "id": "ba00dd77-8669-4180-8b3a-f961cca7d13c",
   "metadata": {},
   "outputs": [
    {
     "data": {
      "text/plain": [
       "material_ref\n",
       "31.0    79565\n",
       "41.0    57321\n",
       "42.0     2855\n",
       "17.0      851\n",
       "8.0       776\n",
       "26.0      623\n",
       "6.0       600\n",
       "25.0      520\n",
       "24.0      481\n",
       "23.0      371\n",
       "29.0      364\n",
       "27.0      363\n",
       "20.0      356\n",
       "36.0      352\n",
       "4.0       315\n",
       "33.0      286\n",
       "38.0      285\n",
       "16.0      280\n",
       "40.0      274\n",
       "3.0       252\n",
       "43.0      230\n",
       "19.0      214\n",
       "22.0      183\n",
       "37.0      181\n",
       "32.0      170\n",
       "5.0       157\n",
       "11.0      155\n",
       "39.0      149\n",
       "34.0      146\n",
       "35.0      140\n",
       "2.0       138\n",
       "28.0      133\n",
       "13.0      132\n",
       "0.0       120\n",
       "21.0      119\n",
       "30.0      118\n",
       "15.0      116\n",
       "1.0       112\n",
       "10.0      111\n",
       "9.0       109\n",
       "12.0      107\n",
       "14.0      105\n",
       "7.0       103\n",
       "18.0      101\n",
       "Name: count, dtype: int64"
      ]
     },
     "execution_count": 604,
     "metadata": {},
     "output_type": "execute_result"
    }
   ],
   "source": [
    "df['material_ref'].value_counts()"
   ]
  },
  {
   "cell_type": "code",
   "execution_count": 605,
   "id": "8f34669b-22ea-4dc6-a7f9-d7dc37c15ae9",
   "metadata": {},
   "outputs": [
    {
     "data": {
      "text/html": [
       "<div>\n",
       "<style scoped>\n",
       "    .dataframe tbody tr th:only-of-type {\n",
       "        vertical-align: middle;\n",
       "    }\n",
       "\n",
       "    .dataframe tbody tr th {\n",
       "        vertical-align: top;\n",
       "    }\n",
       "\n",
       "    .dataframe thead th {\n",
       "        text-align: right;\n",
       "    }\n",
       "</style>\n",
       "<table border=\"1\" class=\"dataframe\">\n",
       "  <thead>\n",
       "    <tr style=\"text-align: right;\">\n",
       "      <th></th>\n",
       "      <th>id</th>\n",
       "      <th>item_date</th>\n",
       "      <th>quantity tons</th>\n",
       "      <th>customer</th>\n",
       "      <th>country</th>\n",
       "      <th>status</th>\n",
       "      <th>item type</th>\n",
       "      <th>application</th>\n",
       "      <th>thickness</th>\n",
       "      <th>width</th>\n",
       "      <th>material_ref</th>\n",
       "      <th>product_ref</th>\n",
       "      <th>delivery date</th>\n",
       "      <th>selling_price</th>\n",
       "      <th>Delivery_time</th>\n",
       "    </tr>\n",
       "  </thead>\n",
       "  <tbody>\n",
       "    <tr>\n",
       "      <th>0</th>\n",
       "      <td>EC06F063-9DF0-440C-8764-0B0C05A4F6AE</td>\n",
       "      <td>2021-04-01</td>\n",
       "      <td>54.151139</td>\n",
       "      <td>30156308.0</td>\n",
       "      <td>28.0</td>\n",
       "      <td>1.0</td>\n",
       "      <td>5.0</td>\n",
       "      <td>10.0</td>\n",
       "      <td>2.00</td>\n",
       "      <td>1500.0</td>\n",
       "      <td>41.0</td>\n",
       "      <td>23.0</td>\n",
       "      <td>2021-07-01</td>\n",
       "      <td>854.00</td>\n",
       "      <td>91.0</td>\n",
       "    </tr>\n",
       "    <tr>\n",
       "      <th>1</th>\n",
       "      <td>4E5F4B3D-DDDF-499D-AFDE-A3227EC49425</td>\n",
       "      <td>2021-04-01</td>\n",
       "      <td>768.024839</td>\n",
       "      <td>30202938.0</td>\n",
       "      <td>25.0</td>\n",
       "      <td>1.0</td>\n",
       "      <td>5.0</td>\n",
       "      <td>41.0</td>\n",
       "      <td>0.80</td>\n",
       "      <td>1210.0</td>\n",
       "      <td>31.0</td>\n",
       "      <td>21.0</td>\n",
       "      <td>2021-04-01</td>\n",
       "      <td>1047.00</td>\n",
       "      <td>0.0</td>\n",
       "    </tr>\n",
       "    <tr>\n",
       "      <th>2</th>\n",
       "      <td>E140FF1B-2407-4C02-A0DD-780A093B1158</td>\n",
       "      <td>2021-04-01</td>\n",
       "      <td>386.127949</td>\n",
       "      <td>30153963.0</td>\n",
       "      <td>30.0</td>\n",
       "      <td>1.0</td>\n",
       "      <td>6.0</td>\n",
       "      <td>28.0</td>\n",
       "      <td>0.38</td>\n",
       "      <td>952.0</td>\n",
       "      <td>41.0</td>\n",
       "      <td>5.0</td>\n",
       "      <td>2021-01-01</td>\n",
       "      <td>644.33</td>\n",
       "      <td>90.0</td>\n",
       "    </tr>\n",
       "    <tr>\n",
       "      <th>3</th>\n",
       "      <td>F8D507A0-9C62-4EFE-831E-33E1DA53BB50</td>\n",
       "      <td>2021-04-01</td>\n",
       "      <td>202.411065</td>\n",
       "      <td>30349574.0</td>\n",
       "      <td>32.0</td>\n",
       "      <td>1.0</td>\n",
       "      <td>3.0</td>\n",
       "      <td>59.0</td>\n",
       "      <td>2.30</td>\n",
       "      <td>1317.0</td>\n",
       "      <td>41.0</td>\n",
       "      <td>21.0</td>\n",
       "      <td>2021-01-01</td>\n",
       "      <td>768.00</td>\n",
       "      <td>90.0</td>\n",
       "    </tr>\n",
       "    <tr>\n",
       "      <th>4</th>\n",
       "      <td>4E1C4E78-152B-430A-8094-ADD889C9D0AD</td>\n",
       "      <td>2021-04-01</td>\n",
       "      <td>785.526262</td>\n",
       "      <td>30211560.0</td>\n",
       "      <td>28.0</td>\n",
       "      <td>1.0</td>\n",
       "      <td>5.0</td>\n",
       "      <td>10.0</td>\n",
       "      <td>4.00</td>\n",
       "      <td>2000.0</td>\n",
       "      <td>41.0</td>\n",
       "      <td>8.0</td>\n",
       "      <td>2021-03-01</td>\n",
       "      <td>577.00</td>\n",
       "      <td>31.0</td>\n",
       "    </tr>\n",
       "  </tbody>\n",
       "</table>\n",
       "</div>"
      ],
      "text/plain": [
       "                                     id   item_date  quantity tons  \\\n",
       "0  EC06F063-9DF0-440C-8764-0B0C05A4F6AE  2021-04-01      54.151139   \n",
       "1  4E5F4B3D-DDDF-499D-AFDE-A3227EC49425  2021-04-01     768.024839   \n",
       "2  E140FF1B-2407-4C02-A0DD-780A093B1158  2021-04-01     386.127949   \n",
       "3  F8D507A0-9C62-4EFE-831E-33E1DA53BB50  2021-04-01     202.411065   \n",
       "4  4E1C4E78-152B-430A-8094-ADD889C9D0AD  2021-04-01     785.526262   \n",
       "\n",
       "     customer  country  status  item type  application  thickness   width  \\\n",
       "0  30156308.0     28.0     1.0        5.0         10.0       2.00  1500.0   \n",
       "1  30202938.0     25.0     1.0        5.0         41.0       0.80  1210.0   \n",
       "2  30153963.0     30.0     1.0        6.0         28.0       0.38   952.0   \n",
       "3  30349574.0     32.0     1.0        3.0         59.0       2.30  1317.0   \n",
       "4  30211560.0     28.0     1.0        5.0         10.0       4.00  2000.0   \n",
       "\n",
       "   material_ref  product_ref delivery date  selling_price  Delivery_time  \n",
       "0          41.0         23.0    2021-07-01         854.00           91.0  \n",
       "1          31.0         21.0    2021-04-01        1047.00            0.0  \n",
       "2          41.0          5.0    2021-01-01         644.33           90.0  \n",
       "3          41.0         21.0    2021-01-01         768.00           90.0  \n",
       "4          41.0          8.0    2021-03-01         577.00           31.0  "
      ]
     },
     "execution_count": 605,
     "metadata": {},
     "output_type": "execute_result"
    }
   ],
   "source": [
    "df.head()"
   ]
  },
  {
   "cell_type": "code",
   "execution_count": 606,
   "id": "ffcc1e13-cb39-43f5-ae93-562dd00e1966",
   "metadata": {},
   "outputs": [],
   "source": [
    "df['quantity tons'] = pd.to_numeric(df['quantity tons'], errors='coerce')\n",
    "df['selling_price'] = pd.to_numeric(df['selling_price'], errors='coerce')"
   ]
  },
  {
   "cell_type": "code",
   "execution_count": 607,
   "id": "34dc3100-baab-46f9-ae89-a71e87e6f2e2",
   "metadata": {},
   "outputs": [
    {
     "data": {
      "text/plain": [
       "(150439, 15)"
      ]
     },
     "execution_count": 607,
     "metadata": {},
     "output_type": "execute_result"
    }
   ],
   "source": [
    "df.shape"
   ]
  },
  {
   "cell_type": "code",
   "execution_count": 608,
   "id": "c08755f9-a00f-4cab-8c64-7cdfa834acff",
   "metadata": {},
   "outputs": [
    {
     "data": {
      "image/png": "[encoded data removed]",
      "text/plain": [
       "<Figure size 640x480 with 1 Axes>"
      ]
     },
     "metadata": {},
     "output_type": "display_data"
    }
   ],
   "source": [
    "#Data distribution after processing using boxplot\n",
    "sns.boxplot(df['application'])\n",
    "plt.show()"
   ]
  },
  {
   "cell_type": "code",
   "execution_count": 609,
   "id": "4fecaefc-6293-4ad8-8c4c-0459c73cb7f1",
   "metadata": {},
   "outputs": [
    {
     "data": {
      "image/png": "[encoded data removed]",
      "text/plain": [
       "<Figure size 640x480 with 1 Axes>"
      ]
     },
     "metadata": {},
     "output_type": "display_data"
    }
   ],
   "source": [
    "sns.boxplot(df['width'])\n",
    "plt.show()"
   ]
  },
  {
   "cell_type": "code",
   "execution_count": 610,
   "id": "468e411c-53e8-49da-8903-b67847c48df0",
   "metadata": {},
   "outputs": [
    {
     "data": {
      "image/png": "[encoded data removed]",
      "text/plain": [
       "<Figure size 640x480 with 1 Axes>"
      ]
     },
     "metadata": {},
     "output_type": "display_data"
    }
   ],
   "source": [
    "sns.boxplot(df['thickness'])\n",
    "plt.show()"
   ]
  },
  {
   "cell_type": "code",
   "execution_count": 611,
   "id": "404623c6-869c-4cb7-b1c7-b2537701c41e",
   "metadata": {},
   "outputs": [
    {
     "data": {
      "image/png": "[encoded data removed]",
      "text/plain": [
       "<Figure size 640x480 with 1 Axes>"
      ]
     },
     "metadata": {},
     "output_type": "display_data"
    }
   ],
   "source": [
    "sns.boxplot(df['selling_price'])\n",
    "plt.show()"
   ]
  },
  {
   "cell_type": "code",
   "execution_count": 612,
   "id": "ab3b559d-1153-40ce-9cf4-a8614a069528",
   "metadata": {},
   "outputs": [
    {
     "name": "stderr",
     "output_type": "stream",
     "text": [
      "C:\\ProgramData\\anaconda3\\Lib\\site-packages\\sklearn\\base.py:439: UserWarning: X does not have valid feature names, but IsolationForest was fitted with feature names\n",
      "  warnings.warn(\n"
     ]
    },
    {
     "name": "stdout",
     "output_type": "stream",
     "text": [
      "                                          id   item_date  quantity tons  \\\n",
      "0       EC06F063-9DF0-440C-8764-0B0C05A4F6AE  2021-04-01      54.151139   \n",
      "1       4E5F4B3D-DDDF-499D-AFDE-A3227EC49425  2021-04-01     768.024839   \n",
      "2       E140FF1B-2407-4C02-A0DD-780A093B1158  2021-04-01     386.127949   \n",
      "3       F8D507A0-9C62-4EFE-831E-33E1DA53BB50  2021-04-01     202.411065   \n",
      "4       4E1C4E78-152B-430A-8094-ADD889C9D0AD  2021-04-01     785.526262   \n",
      "...                                      ...         ...            ...   \n",
      "181668  DE633116-D1DF-4846-982E-55EFC3658A76  2020-07-02     102.482422   \n",
      "181669  A48374B1-E6DB-45F2-889A-1F9C27C099EB  2020-07-02     208.086469   \n",
      "181670  91643238-5C7B-4237-9A5F-63AE3D35F320  2020-07-02       4.235594   \n",
      "181671  7AFFD323-01D9-4E15-B80D-7D1B03498FC8  2020-07-02   -2000.000000   \n",
      "181672  AD0CA853-AE3C-4B2F-9FBB-8B0B965F84BC  2020-07-02     406.686538   \n",
      "\n",
      "          customer  country  status  item type  application  thickness  \\\n",
      "0       30156308.0     28.0     1.0        5.0         10.0       2.00   \n",
      "1       30202938.0     25.0     1.0        5.0         41.0       0.80   \n",
      "2       30153963.0     30.0     1.0        6.0         28.0       0.38   \n",
      "3       30349574.0     32.0     1.0        3.0         59.0       2.30   \n",
      "4       30211560.0     28.0     1.0        5.0         10.0       4.00   \n",
      "...            ...      ...     ...        ...          ...        ...   \n",
      "181668  30200854.0     25.0     1.0        5.0         41.0       0.96   \n",
      "181669  30200854.0     25.0     1.0        5.0         41.0       0.95   \n",
      "181670  30200854.0     25.0     1.0        5.0         41.0       0.71   \n",
      "181671  30200854.0     25.0     1.0        5.0         41.0       0.85   \n",
      "181672  30200854.0     25.0     1.0        5.0         41.0       0.71   \n",
      "\n",
      "         width  material_ref  product_ref delivery date  selling_price  \\\n",
      "0       1500.0          41.0         23.0    2021-07-01         854.00   \n",
      "1       1210.0          31.0         21.0    2021-04-01        1047.00   \n",
      "2        952.0          41.0          5.0    2021-01-01         644.33   \n",
      "3       1317.0          41.0         21.0    2021-01-01         768.00   \n",
      "4       2000.0          41.0          8.0    2021-03-01         577.00   \n",
      "...        ...           ...          ...           ...            ...   \n",
      "181668  1220.0          31.0          9.0    2020-07-01         591.00   \n",
      "181669  1500.0          31.0          9.0    2020-07-01         589.00   \n",
      "181670  1250.0          31.0          9.0    2020-07-01         619.00   \n",
      "181671  1250.0          31.0          9.0    2020-07-01         601.00   \n",
      "181672  1240.0          31.0          9.0    2020-07-01         607.00   \n",
      "\n",
      "        Delivery_time  anomaly  \n",
      "0                91.0        1  \n",
      "1                 0.0       -1  \n",
      "2                90.0       -1  \n",
      "3                90.0        1  \n",
      "4                31.0       -1  \n",
      "...               ...      ...  \n",
      "181668            1.0        1  \n",
      "181669            1.0        1  \n",
      "181670            1.0        1  \n",
      "181671            1.0        1  \n",
      "181672            1.0        1  \n",
      "\n",
      "[150439 rows x 16 columns]\n"
     ]
    }
   ],
   "source": [
    "\n",
    "\n",
    "# Select the columns for anomaly detection\n",
    "features = df[['width', 'selling_price', 'thickness', 'application', 'quantity tons', 'Delivery_time']]\n",
    "\n",
    "# Initialize the Isolation Forest model\n",
    "iso_forest = IsolationForest(contamination=0.1, random_state=4)\n",
    "\n",
    "# Fit the model\n",
    "iso_forest.fit(features)\n",
    "\n",
    "# Predict anomalies (-1 for anomalies, 1 for normal points)\n",
    "df['anomaly'] = iso_forest.predict(features)\n",
    "\n",
    "print(df)\n"
   ]
  },
  {
   "cell_type": "code",
   "execution_count": 613,
   "id": "80275881-a1b0-40c6-8346-274a5020fe89",
   "metadata": {},
   "outputs": [
    {
     "name": "stdout",
     "output_type": "stream",
     "text": [
      "                                          id   item_date  quantity tons  \\\n",
      "0       EC06F063-9DF0-440C-8764-0B0C05A4F6AE  2021-04-01      54.151139   \n",
      "3       F8D507A0-9C62-4EFE-831E-33E1DA53BB50  2021-04-01     202.411065   \n",
      "5       FE372230-29B1-4A29-BB73-CB9D3078C286  2021-04-01     225.790676   \n",
      "7       AA3F18A2-A7D6-43DE-8644-F0632AE2CB68  2021-04-01     113.387124   \n",
      "8       2851F48B-DA32-4DF3-884B-17A3100DD65A  2021-04-01      69.071853   \n",
      "...                                      ...         ...            ...   \n",
      "181668  DE633116-D1DF-4846-982E-55EFC3658A76  2020-07-02     102.482422   \n",
      "181669  A48374B1-E6DB-45F2-889A-1F9C27C099EB  2020-07-02     208.086469   \n",
      "181670  91643238-5C7B-4237-9A5F-63AE3D35F320  2020-07-02       4.235594   \n",
      "181671  7AFFD323-01D9-4E15-B80D-7D1B03498FC8  2020-07-02   -2000.000000   \n",
      "181672  AD0CA853-AE3C-4B2F-9FBB-8B0B965F84BC  2020-07-02     406.686538   \n",
      "\n",
      "          customer  country  status  item type  application  thickness  \\\n",
      "0       30156308.0     28.0     1.0        5.0         10.0       2.00   \n",
      "3       30349574.0     32.0     1.0        3.0         59.0       2.30   \n",
      "5       30202938.0     25.0     1.0        5.0         41.0       1.50   \n",
      "7       30342192.0     32.0     1.0        5.0         41.0       0.68   \n",
      "8       30341428.0     38.0     1.0        3.0         10.0       0.60   \n",
      "...            ...      ...     ...        ...          ...        ...   \n",
      "181668  30200854.0     25.0     1.0        5.0         41.0       0.96   \n",
      "181669  30200854.0     25.0     1.0        5.0         41.0       0.95   \n",
      "181670  30200854.0     25.0     1.0        5.0         41.0       0.71   \n",
      "181671  30200854.0     25.0     1.0        5.0         41.0       0.85   \n",
      "181672  30200854.0     25.0     1.0        5.0         41.0       0.71   \n",
      "\n",
      "         width  material_ref  product_ref delivery date  selling_price  \\\n",
      "0       1500.0          41.0         23.0    2021-07-01          854.0   \n",
      "3       1317.0          41.0         21.0    2021-01-01          768.0   \n",
      "5       1265.0          31.0         21.0    2021-04-01          983.0   \n",
      "7       1220.0          31.0          2.0    2021-01-01          931.0   \n",
      "8       1275.0          31.0         19.0    2021-07-01         1363.0   \n",
      "...        ...           ...          ...           ...            ...   \n",
      "181668  1220.0          31.0          9.0    2020-07-01          591.0   \n",
      "181669  1500.0          31.0          9.0    2020-07-01          589.0   \n",
      "181670  1250.0          31.0          9.0    2020-07-01          619.0   \n",
      "181671  1250.0          31.0          9.0    2020-07-01          601.0   \n",
      "181672  1240.0          31.0          9.0    2020-07-01          607.0   \n",
      "\n",
      "        Delivery_time  anomaly  \n",
      "0                91.0        1  \n",
      "3                90.0        1  \n",
      "5                 0.0        1  \n",
      "7                90.0        1  \n",
      "8                91.0        1  \n",
      "...               ...      ...  \n",
      "181668            1.0        1  \n",
      "181669            1.0        1  \n",
      "181670            1.0        1  \n",
      "181671            1.0        1  \n",
      "181672            1.0        1  \n",
      "\n",
      "[135395 rows x 16 columns]\n"
     ]
    }
   ],
   "source": [
    "cleaned_data_ = df[df['anomaly'] != -1]\n",
    "print(cleaned_data_)"
   ]
  },
  {
   "cell_type": "code",
   "execution_count": 614,
   "id": "9e03fff0-784a-4d1f-a626-f72d0f721d39",
   "metadata": {},
   "outputs": [
    {
     "name": "stdout",
     "output_type": "stream",
     "text": [
      "4\n",
      "3\n",
      "0\n",
      "0\n",
      "345\n"
     ]
    }
   ],
   "source": [
    "##removing values less than or equal to zero\n",
    "a = cleaned_data_['selling_price'] <= 0\n",
    "print(a.sum())\n",
    "#cleaned_data.loc[a, 'selling_price'] = np.nan\n",
    "\n",
    "a = cleaned_data_['quantity tons'] <= 0\n",
    "print(a.sum())\n",
    "\n",
    "#cleaned_data_if.loc[a, 'quantity tons'] = np.nan\n",
    "\n",
    "a = cleaned_data_['thickness'] <= 0\n",
    "print(a.sum())\n",
    "\n",
    "a = cleaned_data_['width'] <= 0\n",
    "print(a.sum())\n",
    "\n",
    "\n",
    "a = cleaned_data_['Delivery_time'] <= 0\n",
    "print(a.sum())"
   ]
  },
  {
   "cell_type": "code",
   "execution_count": 615,
   "id": "2368e5a5-ffef-4cfe-b938-9ca217d71ec8",
   "metadata": {},
   "outputs": [],
   "source": [
    "cleaned_data_ = cleaned_data_[cleaned_data_['selling_price'] > 0]\n",
    "cleaned_data_ = cleaned_data_[cleaned_data_['quantity tons'] > 0]\n",
    "cleaned_data_ = cleaned_data_[cleaned_data_['thickness'] > 0]\n",
    "cleaned_data_ = cleaned_data_[cleaned_data_['width'] > 0]\n",
    "cleaned_data_ = cleaned_data_[cleaned_data_['Delivery_time'] > 0]"
   ]
  },
  {
   "cell_type": "code",
   "execution_count": 616,
   "id": "19d9579d-1f4f-4849-829d-9997a98fe966",
   "metadata": {},
   "outputs": [
    {
     "name": "stdout",
     "output_type": "stream",
     "text": [
      "0\n",
      "0\n",
      "0\n",
      "0\n",
      "0\n"
     ]
    }
   ],
   "source": [
    "a = cleaned_data_['selling_price'] <= 0\n",
    "print(a.sum())\n",
    "#cleaned_data.loc[a, 'selling_price'] = np.nan\n",
    "\n",
    "a = cleaned_data_['quantity tons'] <= 0\n",
    "print(a.sum())\n",
    "\n",
    "#cleaned_data_if.loc[a, 'quantity tons'] = np.nan\n",
    "\n",
    "a = cleaned_data_['thickness'] <= 0\n",
    "print(a.sum())\n",
    "\n",
    "a = cleaned_data_['width'] <= 0\n",
    "print(a.sum())\n",
    "\n",
    "a = cleaned_data_['Delivery_time'] <= 0\n",
    "print(a.sum())"
   ]
  },
  {
   "cell_type": "code",
   "execution_count": 617,
   "id": "decb4f7d-afe0-41bc-a853-054eea63efe2",
   "metadata": {},
   "outputs": [
    {
     "name": "stderr",
     "output_type": "stream",
     "text": [
      "C:\\Users\\rajij\\AppData\\Local\\Temp\\ipykernel_13280\\3221454288.py:3: UserWarning: \n",
      "\n",
      "`distplot` is a deprecated function and will be removed in seaborn v0.14.0.\n",
      "\n",
      "Please adapt your code to use either `displot` (a figure-level function with\n",
      "similar flexibility) or `histplot` (an axes-level function for histograms).\n",
      "\n",
      "For a guide to updating your code to use the new functions, please see\n",
      "https://gist.github.com/mwaskom/de44147ed2974457ad6372750bbe5751\n",
      "\n",
      "  sns.distplot(cleaned_data_['quantity tons_log'])\n",
      "C:\\ProgramData\\anaconda3\\Lib\\site-packages\\seaborn\\_oldcore.py:1119: FutureWarning: use_inf_as_na option is deprecated and will be removed in a future version. Convert inf values to NaN before operating instead.\n",
      "  with pd.option_context('mode.use_inf_as_na', True):\n"
     ]
    },
    {
     "data": {
      "image/png": "[encoded data removed]",
      "text/plain": [
       "<Figure size 640x480 with 1 Axes>"
      ]
     },
     "metadata": {},
     "output_type": "display_data"
    },
    {
     "name": "stderr",
     "output_type": "stream",
     "text": [
      "C:\\Users\\rajij\\AppData\\Local\\Temp\\ipykernel_13280\\3221454288.py:7: UserWarning: \n",
      "\n",
      "`distplot` is a deprecated function and will be removed in seaborn v0.14.0.\n",
      "\n",
      "Please adapt your code to use either `displot` (a figure-level function with\n",
      "similar flexibility) or `histplot` (an axes-level function for histograms).\n",
      "\n",
      "For a guide to updating your code to use the new functions, please see\n",
      "https://gist.github.com/mwaskom/de44147ed2974457ad6372750bbe5751\n",
      "\n",
      "  sns.distplot(cleaned_data_['selling_price_log'])\n",
      "C:\\ProgramData\\anaconda3\\Lib\\site-packages\\seaborn\\_oldcore.py:1119: FutureWarning: use_inf_as_na option is deprecated and will be removed in a future version. Convert inf values to NaN before operating instead.\n",
      "  with pd.option_context('mode.use_inf_as_na', True):\n"
     ]
    },
    {
     "data": {
      "image/png": "[encoded data removed]",
      "text/plain": [
       "<Figure size 640x480 with 1 Axes>"
      ]
     },
     "metadata": {},
     "output_type": "display_data"
    },
    {
     "name": "stderr",
     "output_type": "stream",
     "text": [
      "C:\\Users\\rajij\\AppData\\Local\\Temp\\ipykernel_13280\\3221454288.py:11: UserWarning: \n",
      "\n",
      "`distplot` is a deprecated function and will be removed in seaborn v0.14.0.\n",
      "\n",
      "Please adapt your code to use either `displot` (a figure-level function with\n",
      "similar flexibility) or `histplot` (an axes-level function for histograms).\n",
      "\n",
      "For a guide to updating your code to use the new functions, please see\n",
      "https://gist.github.com/mwaskom/de44147ed2974457ad6372750bbe5751\n",
      "\n",
      "  sns.distplot(cleaned_data_['thickness_log'])\n",
      "C:\\ProgramData\\anaconda3\\Lib\\site-packages\\seaborn\\_oldcore.py:1119: FutureWarning: use_inf_as_na option is deprecated and will be removed in a future version. Convert inf values to NaN before operating instead.\n",
      "  with pd.option_context('mode.use_inf_as_na', True):\n"
     ]
    },
    {
     "data": {
      "image/png": "[encoded data removed]",
      "text/plain": [
       "<Figure size 640x480 with 1 Axes>"
      ]
     },
     "metadata": {},
     "output_type": "display_data"
    },
    {
     "name": "stderr",
     "output_type": "stream",
     "text": [
      "C:\\Users\\rajij\\AppData\\Local\\Temp\\ipykernel_13280\\3221454288.py:15: UserWarning: \n",
      "\n",
      "`distplot` is a deprecated function and will be removed in seaborn v0.14.0.\n",
      "\n",
      "Please adapt your code to use either `displot` (a figure-level function with\n",
      "similar flexibility) or `histplot` (an axes-level function for histograms).\n",
      "\n",
      "For a guide to updating your code to use the new functions, please see\n",
      "https://gist.github.com/mwaskom/de44147ed2974457ad6372750bbe5751\n",
      "\n",
      "  sns.distplot(cleaned_data_['width_log'])\n",
      "C:\\ProgramData\\anaconda3\\Lib\\site-packages\\seaborn\\_oldcore.py:1119: FutureWarning: use_inf_as_na option is deprecated and will be removed in a future version. Convert inf values to NaN before operating instead.\n",
      "  with pd.option_context('mode.use_inf_as_na', True):\n"
     ]
    },
    {
     "data": {
      "image/png": "[encoded data removed]",
      "text/plain": [
       "<Figure size 640x480 with 1 Axes>"
      ]
     },
     "metadata": {},
     "output_type": "display_data"
    },
    {
     "name": "stderr",
     "output_type": "stream",
     "text": [
      "C:\\Users\\rajij\\AppData\\Local\\Temp\\ipykernel_13280\\3221454288.py:19: UserWarning: \n",
      "\n",
      "`distplot` is a deprecated function and will be removed in seaborn v0.14.0.\n",
      "\n",
      "Please adapt your code to use either `displot` (a figure-level function with\n",
      "similar flexibility) or `histplot` (an axes-level function for histograms).\n",
      "\n",
      "For a guide to updating your code to use the new functions, please see\n",
      "https://gist.github.com/mwaskom/de44147ed2974457ad6372750bbe5751\n",
      "\n",
      "  sns.distplot(cleaned_data_['Delivery_time_log'])\n",
      "C:\\ProgramData\\anaconda3\\Lib\\site-packages\\seaborn\\_oldcore.py:1119: FutureWarning: use_inf_as_na option is deprecated and will be removed in a future version. Convert inf values to NaN before operating instead.\n",
      "  with pd.option_context('mode.use_inf_as_na', True):\n"
     ]
    },
    {
     "data": {
      "image/png": "[encoded data removed]",
      "text/plain": [
       "<Figure size 640x480 with 1 Axes>"
      ]
     },
     "metadata": {},
     "output_type": "display_data"
    }
   ],
   "source": [
    "##data transformation using log function\n",
    "cleaned_data_['quantity tons_log'] = np.log(cleaned_data_['quantity tons'])\n",
    "sns.distplot(cleaned_data_['quantity tons_log'])\n",
    "plt.show()\n",
    "\n",
    "cleaned_data_['selling_price_log'] = np.log(cleaned_data_['selling_price'])\n",
    "sns.distplot(cleaned_data_['selling_price_log'])\n",
    "plt.show()\n",
    "\n",
    "cleaned_data_['thickness_log'] = np.log(cleaned_data_['thickness'])\n",
    "sns.distplot(cleaned_data_['thickness_log'])\n",
    "plt.show()\n",
    "\n",
    "cleaned_data_['width_log'] = np.log(cleaned_data_['width'])\n",
    "sns.distplot(cleaned_data_['width_log'])\n",
    "plt.show()\n",
    "\n",
    "cleaned_data_['Delivery_time_log'] = np.log(cleaned_data_['Delivery_time'])\n",
    "sns.distplot(cleaned_data_['Delivery_time_log'])\n",
    "plt.show()"
   ]
  },
  {
   "cell_type": "code",
   "execution_count": 618,
   "id": "f9cce159-981f-4e27-b724-f7a0454f1245",
   "metadata": {},
   "outputs": [
    {
     "data": {
      "text/plain": [
       "(135044, 21)"
      ]
     },
     "execution_count": 618,
     "metadata": {},
     "output_type": "execute_result"
    }
   ],
   "source": [
    "cleaned_data_.shape"
   ]
  },
  {
   "cell_type": "code",
   "execution_count": 619,
   "id": "dc1225e9-3f8e-44ed-a8c4-0a504ec04bc9",
   "metadata": {},
   "outputs": [
    {
     "data": {
      "image/png": "[encoded data removed]",
      "text/plain": [
       "<Figure size 640x480 with 1 Axes>"
      ]
     },
     "metadata": {},
     "output_type": "display_data"
    }
   ],
   "source": [
    "sns.boxplot(cleaned_data_['Delivery_time_log'])\n",
    "plt.show()"
   ]
  },
  {
   "cell_type": "code",
   "execution_count": 620,
   "id": "851756e9-3e5f-4203-a7ad-4e408396bc79",
   "metadata": {},
   "outputs": [
    {
     "data": {
      "image/png": "[encoded data removed]",
      "text/plain": [
       "<Figure size 640x480 with 1 Axes>"
      ]
     },
     "metadata": {},
     "output_type": "display_data"
    }
   ],
   "source": [
    "sns.boxplot(cleaned_data_['width'])\n",
    "plt.show()"
   ]
  },
  {
   "cell_type": "code",
   "execution_count": 621,
   "id": "a630629a-deaa-4008-bd70-1011e5903682",
   "metadata": {},
   "outputs": [
    {
     "data": {
      "image/png": "[encoded data removed]",
      "text/plain": [
       "<Figure size 640x480 with 1 Axes>"
      ]
     },
     "metadata": {},
     "output_type": "display_data"
    }
   ],
   "source": [
    "sns.boxplot(cleaned_data_['thickness'])\n",
    "plt.show()"
   ]
  },
  {
   "cell_type": "code",
   "execution_count": 622,
   "id": "92ae1659-5214-41ac-a337-22e32391e5a0",
   "metadata": {},
   "outputs": [
    {
     "data": {
      "image/png": "[encoded data removed]",
      "text/plain": [
       "<Figure size 640x480 with 1 Axes>"
      ]
     },
     "metadata": {},
     "output_type": "display_data"
    }
   ],
   "source": [
    "sns.boxplot(cleaned_data_['selling_price'])\n",
    "plt.show()"
   ]
  },
  {
   "cell_type": "code",
   "execution_count": 623,
   "id": "2ffe8d06-8a28-46b0-9bbb-de4bccd13dd3",
   "metadata": {},
   "outputs": [
    {
     "data": {
      "image/png": "[encoded data removed]",
      "text/plain": [
       "<Figure size 640x480 with 1 Axes>"
      ]
     },
     "metadata": {},
     "output_type": "display_data"
    }
   ],
   "source": [
    "sns.boxplot(cleaned_data_['selling_price_log'])\n",
    "plt.show()"
   ]
  },
  {
   "cell_type": "code",
   "execution_count": 624,
   "id": "27cb19ff-b259-4a93-84d6-7ce7dce6ff33",
   "metadata": {},
   "outputs": [
    {
     "data": {
      "image/png": "[encoded data removed]",
      "text/plain": [
       "<Figure size 640x480 with 1 Axes>"
      ]
     },
     "metadata": {},
     "output_type": "display_data"
    }
   ],
   "source": [
    "sns.boxplot(cleaned_data_['quantity tons_log'])\n",
    "plt.show()"
   ]
  },
  {
   "cell_type": "code",
   "execution_count": 625,
   "id": "ace61297-d22f-440d-9f16-b1a0c00f367a",
   "metadata": {},
   "outputs": [
    {
     "data": {
      "text/plain": [
       "status\n",
       "1.0    104140\n",
       "0.0     30904\n",
       "Name: count, dtype: int64"
      ]
     },
     "execution_count": 625,
     "metadata": {},
     "output_type": "execute_result"
    }
   ],
   "source": [
    "cleaned_data_['status'].value_counts()"
   ]
  },
  {
   "cell_type": "code",
   "execution_count": 626,
   "id": "ed3c7bca-7f77-40a6-b7cc-76c1c568aebf",
   "metadata": {},
   "outputs": [
    {
     "data": {
      "text/plain": [
       "0"
      ]
     },
     "execution_count": 626,
     "metadata": {},
     "output_type": "execute_result"
    }
   ],
   "source": [
    "cleaned_data_['selling_price_log'].isna().sum()"
   ]
  },
  {
   "cell_type": "code",
   "execution_count": 627,
   "id": "b8e9c1e2-8590-42b6-a320-b247f9e1d466",
   "metadata": {},
   "outputs": [
    {
     "data": {
      "text/plain": [
       "0"
      ]
     },
     "execution_count": 627,
     "metadata": {},
     "output_type": "execute_result"
    }
   ],
   "source": [
    "cleaned_data_['Delivery_time_log'].isna().sum()"
   ]
  },
  {
   "cell_type": "code",
   "execution_count": 628,
   "id": "36b03679-514a-46df-aec3-609cad05ff21",
   "metadata": {},
   "outputs": [],
   "source": [
    "cleaned_data_ = cleaned_data_.dropna(subset=['selling_price_log'])"
   ]
  },
  {
   "cell_type": "code",
   "execution_count": 629,
   "id": "1d37c7ee-0864-4c2b-a58c-16a3454d3c26",
   "metadata": {},
   "outputs": [
    {
     "data": {
      "text/plain": [
       "status\n",
       "1.0    104140\n",
       "0.0     30904\n",
       "Name: count, dtype: int64"
      ]
     },
     "execution_count": 629,
     "metadata": {},
     "output_type": "execute_result"
    }
   ],
   "source": [
    "cleaned_data_['status'].value_counts()"
   ]
  },
  {
   "cell_type": "code",
   "execution_count": 630,
   "id": "744e59fb-61fb-43ca-90d4-0eef17091a1a",
   "metadata": {},
   "outputs": [
    {
     "data": {
      "text/plain": [
       "status\n",
       "1.0    104140\n",
       "0.0     30904\n",
       "Name: count, dtype: int64"
      ]
     },
     "execution_count": 630,
     "metadata": {},
     "output_type": "execute_result"
    }
   ],
   "source": [
    "cleaned_data_['status'].value_counts()"
   ]
  },
  {
   "cell_type": "code",
   "execution_count": 631,
   "id": "836110f4-0a05-48d9-986e-26e7c4ba0e55",
   "metadata": {},
   "outputs": [
    {
     "data": {
      "text/plain": [
       "item type\n",
       "5.0    83332\n",
       "3.0    47269\n",
       "2.0     3840\n",
       "1.0      337\n",
       "6.0      239\n",
       "0.0       26\n",
       "4.0        1\n",
       "Name: count, dtype: int64"
      ]
     },
     "execution_count": 631,
     "metadata": {},
     "output_type": "execute_result"
    }
   ],
   "source": [
    "cleaned_data_['item type'].value_counts()"
   ]
  },
  {
   "cell_type": "code",
   "execution_count": 632,
   "id": "a1aaff21-7fcd-48e5-ad6b-f4bb4af6ff54",
   "metadata": {},
   "outputs": [
    {
     "data": {
      "text/plain": [
       "country\n",
       "78.0     26239\n",
       "26.0     19043\n",
       "25.0     18357\n",
       "32.0     15097\n",
       "27.0     12424\n",
       "28.0     12218\n",
       "84.0      8716\n",
       "77.0      8155\n",
       "30.0      7341\n",
       "39.0      2420\n",
       "79.0      1470\n",
       "38.0      1169\n",
       "40.0      1077\n",
       "80.0       721\n",
       "113.0      512\n",
       "89.0        85\n",
       "Name: count, dtype: int64"
      ]
     },
     "execution_count": 632,
     "metadata": {},
     "output_type": "execute_result"
    }
   ],
   "source": [
    "cleaned_data_['country'].value_counts()"
   ]
  },
  {
   "cell_type": "code",
   "execution_count": 633,
   "id": "be2158e4-ab4f-4ddf-a129-295058be01ee",
   "metadata": {},
   "outputs": [
    {
     "data": {
      "text/html": [
       "<div>\n",
       "<style scoped>\n",
       "    .dataframe tbody tr th:only-of-type {\n",
       "        vertical-align: middle;\n",
       "    }\n",
       "\n",
       "    .dataframe tbody tr th {\n",
       "        vertical-align: top;\n",
       "    }\n",
       "\n",
       "    .dataframe thead th {\n",
       "        text-align: right;\n",
       "    }\n",
       "</style>\n",
       "<table border=\"1\" class=\"dataframe\">\n",
       "  <thead>\n",
       "    <tr style=\"text-align: right;\">\n",
       "      <th></th>\n",
       "      <th>id</th>\n",
       "      <th>item_date</th>\n",
       "      <th>quantity tons</th>\n",
       "      <th>customer</th>\n",
       "      <th>country</th>\n",
       "      <th>status</th>\n",
       "      <th>item type</th>\n",
       "      <th>application</th>\n",
       "      <th>thickness</th>\n",
       "      <th>width</th>\n",
       "      <th>...</th>\n",
       "      <th>product_ref</th>\n",
       "      <th>delivery date</th>\n",
       "      <th>selling_price</th>\n",
       "      <th>Delivery_time</th>\n",
       "      <th>anomaly</th>\n",
       "      <th>quantity tons_log</th>\n",
       "      <th>selling_price_log</th>\n",
       "      <th>thickness_log</th>\n",
       "      <th>width_log</th>\n",
       "      <th>Delivery_time_log</th>\n",
       "    </tr>\n",
       "  </thead>\n",
       "  <tbody>\n",
       "    <tr>\n",
       "      <th>0</th>\n",
       "      <td>EC06F063-9DF0-440C-8764-0B0C05A4F6AE</td>\n",
       "      <td>2021-04-01</td>\n",
       "      <td>54.151139</td>\n",
       "      <td>30156308.0</td>\n",
       "      <td>28.0</td>\n",
       "      <td>1.0</td>\n",
       "      <td>5.0</td>\n",
       "      <td>10.0</td>\n",
       "      <td>2.00</td>\n",
       "      <td>1500.0</td>\n",
       "      <td>...</td>\n",
       "      <td>23.0</td>\n",
       "      <td>2021-07-01</td>\n",
       "      <td>854.0</td>\n",
       "      <td>91.0</td>\n",
       "      <td>1</td>\n",
       "      <td>3.991779</td>\n",
       "      <td>6.749931</td>\n",
       "      <td>0.693147</td>\n",
       "      <td>7.313220</td>\n",
       "      <td>4.51086</td>\n",
       "    </tr>\n",
       "    <tr>\n",
       "      <th>3</th>\n",
       "      <td>F8D507A0-9C62-4EFE-831E-33E1DA53BB50</td>\n",
       "      <td>2021-04-01</td>\n",
       "      <td>202.411065</td>\n",
       "      <td>30349574.0</td>\n",
       "      <td>32.0</td>\n",
       "      <td>1.0</td>\n",
       "      <td>3.0</td>\n",
       "      <td>59.0</td>\n",
       "      <td>2.30</td>\n",
       "      <td>1317.0</td>\n",
       "      <td>...</td>\n",
       "      <td>21.0</td>\n",
       "      <td>2021-01-01</td>\n",
       "      <td>768.0</td>\n",
       "      <td>90.0</td>\n",
       "      <td>1</td>\n",
       "      <td>5.310301</td>\n",
       "      <td>6.643790</td>\n",
       "      <td>0.832909</td>\n",
       "      <td>7.183112</td>\n",
       "      <td>4.49981</td>\n",
       "    </tr>\n",
       "    <tr>\n",
       "      <th>7</th>\n",
       "      <td>AA3F18A2-A7D6-43DE-8644-F0632AE2CB68</td>\n",
       "      <td>2021-04-01</td>\n",
       "      <td>113.387124</td>\n",
       "      <td>30342192.0</td>\n",
       "      <td>32.0</td>\n",
       "      <td>1.0</td>\n",
       "      <td>5.0</td>\n",
       "      <td>41.0</td>\n",
       "      <td>0.68</td>\n",
       "      <td>1220.0</td>\n",
       "      <td>...</td>\n",
       "      <td>2.0</td>\n",
       "      <td>2021-01-01</td>\n",
       "      <td>931.0</td>\n",
       "      <td>90.0</td>\n",
       "      <td>1</td>\n",
       "      <td>4.730808</td>\n",
       "      <td>6.836259</td>\n",
       "      <td>-0.385662</td>\n",
       "      <td>7.106606</td>\n",
       "      <td>4.49981</td>\n",
       "    </tr>\n",
       "    <tr>\n",
       "      <th>8</th>\n",
       "      <td>2851F48B-DA32-4DF3-884B-17A3100DD65A</td>\n",
       "      <td>2021-04-01</td>\n",
       "      <td>69.071853</td>\n",
       "      <td>30341428.0</td>\n",
       "      <td>38.0</td>\n",
       "      <td>1.0</td>\n",
       "      <td>3.0</td>\n",
       "      <td>10.0</td>\n",
       "      <td>0.60</td>\n",
       "      <td>1275.0</td>\n",
       "      <td>...</td>\n",
       "      <td>19.0</td>\n",
       "      <td>2021-07-01</td>\n",
       "      <td>1363.0</td>\n",
       "      <td>91.0</td>\n",
       "      <td>1</td>\n",
       "      <td>4.235147</td>\n",
       "      <td>7.217443</td>\n",
       "      <td>-0.510826</td>\n",
       "      <td>7.150701</td>\n",
       "      <td>4.51086</td>\n",
       "    </tr>\n",
       "    <tr>\n",
       "      <th>11</th>\n",
       "      <td>CA076845-2EDE-4C02-95BE-6C7B842026E8</td>\n",
       "      <td>2021-04-01</td>\n",
       "      <td>113.995666</td>\n",
       "      <td>30342192.0</td>\n",
       "      <td>32.0</td>\n",
       "      <td>1.0</td>\n",
       "      <td>5.0</td>\n",
       "      <td>41.0</td>\n",
       "      <td>0.55</td>\n",
       "      <td>1220.0</td>\n",
       "      <td>...</td>\n",
       "      <td>2.0</td>\n",
       "      <td>2021-01-01</td>\n",
       "      <td>954.0</td>\n",
       "      <td>90.0</td>\n",
       "      <td>1</td>\n",
       "      <td>4.736160</td>\n",
       "      <td>6.860664</td>\n",
       "      <td>-0.597837</td>\n",
       "      <td>7.106606</td>\n",
       "      <td>4.49981</td>\n",
       "    </tr>\n",
       "  </tbody>\n",
       "</table>\n",
       "<p>5 rows × 21 columns</p>\n",
       "</div>"
      ],
      "text/plain": [
       "                                      id   item_date  quantity tons  \\\n",
       "0   EC06F063-9DF0-440C-8764-0B0C05A4F6AE  2021-04-01      54.151139   \n",
       "3   F8D507A0-9C62-4EFE-831E-33E1DA53BB50  2021-04-01     202.411065   \n",
       "7   AA3F18A2-A7D6-43DE-8644-F0632AE2CB68  2021-04-01     113.387124   \n",
       "8   2851F48B-DA32-4DF3-884B-17A3100DD65A  2021-04-01      69.071853   \n",
       "11  CA076845-2EDE-4C02-95BE-6C7B842026E8  2021-04-01     113.995666   \n",
       "\n",
       "      customer  country  status  item type  application  thickness   width  \\\n",
       "0   30156308.0     28.0     1.0        5.0         10.0       2.00  1500.0   \n",
       "3   30349574.0     32.0     1.0        3.0         59.0       2.30  1317.0   \n",
       "7   30342192.0     32.0     1.0        5.0         41.0       0.68  1220.0   \n",
       "8   30341428.0     38.0     1.0        3.0         10.0       0.60  1275.0   \n",
       "11  30342192.0     32.0     1.0        5.0         41.0       0.55  1220.0   \n",
       "\n",
       "    ...  product_ref  delivery date selling_price  Delivery_time  anomaly  \\\n",
       "0   ...         23.0     2021-07-01         854.0           91.0        1   \n",
       "3   ...         21.0     2021-01-01         768.0           90.0        1   \n",
       "7   ...          2.0     2021-01-01         931.0           90.0        1   \n",
       "8   ...         19.0     2021-07-01        1363.0           91.0        1   \n",
       "11  ...          2.0     2021-01-01         954.0           90.0        1   \n",
       "\n",
       "    quantity tons_log  selling_price_log  thickness_log  width_log  \\\n",
       "0            3.991779           6.749931       0.693147   7.313220   \n",
       "3            5.310301           6.643790       0.832909   7.183112   \n",
       "7            4.730808           6.836259      -0.385662   7.106606   \n",
       "8            4.235147           7.217443      -0.510826   7.150701   \n",
       "11           4.736160           6.860664      -0.597837   7.106606   \n",
       "\n",
       "    Delivery_time_log  \n",
       "0             4.51086  \n",
       "3             4.49981  \n",
       "7             4.49981  \n",
       "8             4.51086  \n",
       "11            4.49981  \n",
       "\n",
       "[5 rows x 21 columns]"
      ]
     },
     "execution_count": 633,
     "metadata": {},
     "output_type": "execute_result"
    }
   ],
   "source": [
    "cleaned_data_.head()"
   ]
  },
  {
   "cell_type": "code",
   "execution_count": 634,
   "id": "e3b6d9dd-74b1-4610-88dc-ea1a8d8cd24a",
   "metadata": {},
   "outputs": [
    {
     "data": {
      "image/png": "[encoded data removed]",
      "text/plain": [
       "<Figure size 640x480 with 2 Axes>"
      ]
     },
     "metadata": {},
     "output_type": "display_data"
    }
   ],
   "source": [
    "sns.heatmap(cleaned_data_.drop(['id','item_date','delivery date','anomaly','selling_price','thickness','quantity tons', 'width', 'Delivery_time_log'], axis=1).corr(), cmap='coolwarm', annot=True)\n",
    "plt.show()"
   ]
  },
  {
   "cell_type": "code",
   "execution_count": 635,
   "id": "d1766d36-802d-43ca-8664-cf6d20f6c6f6",
   "metadata": {},
   "outputs": [],
   "source": [
    "## Regression modelling"
   ]
  },
  {
   "cell_type": "code",
   "execution_count": 636,
   "id": "a8c74917-0ba7-4da0-973b-835856f75677",
   "metadata": {},
   "outputs": [],
   "source": [
    "#split data into X, y\n",
    "x=cleaned_data_[['application','thickness_log','width_log','country','product_ref', 'quantity tons_log','customer','status','item type', 'material_ref', 'Delivery_time_log']]\n",
    "y=cleaned_data_['selling_price_log']"
   ]
  },
  {
   "cell_type": "code",
   "execution_count": 637,
   "id": "7840af65-86b4-444d-bea4-26c204861867",
   "metadata": {},
   "outputs": [
    {
     "data": {
      "text/plain": [
       "array([[-0.85490254,  0.31063892,  0.87919901, ...,  0.767665  ,\n",
       "         0.97738724,  0.7198115 ],\n",
       "       [ 2.13557813,  0.47286301,  0.16833401, ..., -1.16468327,\n",
       "         0.97738724,  0.70891967],\n",
       "       [ 1.03703421, -0.94155396, -0.24966366, ...,  0.767665  ,\n",
       "        -0.46483476,  0.70891967],\n",
       "       ...,\n",
       "       [ 1.03703421, -0.55344591,  0.87919901, ...,  0.767665  ,\n",
       "        -0.46483476, -3.7265468 ],\n",
       "       [ 1.03703421, -0.89144328, -0.11693751, ...,  0.767665  ,\n",
       "        -0.46483476, -3.7265468 ],\n",
       "       [ 1.03703421, -0.89144328, -0.16082228, ...,  0.767665  ,\n",
       "        -0.46483476, -3.7265468 ]])"
      ]
     },
     "execution_count": 637,
     "metadata": {},
     "output_type": "execute_result"
    }
   ],
   "source": [
    "from sklearn.preprocessing import StandardScaler\n",
    "scaler = StandardScaler()\n",
    "scaler.fit(x)\r",
    "scaler.transform(x)\n"
   ]
  },
  {
   "cell_type": "code",
   "execution_count": 638,
   "id": "2e013936-4d0d-42a1-b98b-dda166f00f11",
   "metadata": {},
   "outputs": [
    {
     "data": {
      "text/plain": [
       "(135044, 21)"
      ]
     },
     "execution_count": 638,
     "metadata": {},
     "output_type": "execute_result"
    }
   ],
   "source": [
    "cleaned_data_.shape"
   ]
  },
  {
   "cell_type": "code",
   "execution_count": 639,
   "id": "d0214099-8a99-4b02-83a9-64363883d55a",
   "metadata": {},
   "outputs": [],
   "source": [
    "from sklearn.model_selection import train_test_split\n",
    "x_train, x_test, y_train, y_test = train_test_split(x,y, test_size = 0.2, random_state=44)\n",
    "\n",
    "from sklearn.metrics import accuracy_score, precision_score, recall_score, f1_score, confusion_matrix"
   ]
  },
  {
   "cell_type": "code",
   "execution_count": 640,
   "id": "cafba4fe-e40c-4503-9461-4d8ef7ce3fde",
   "metadata": {},
   "outputs": [
    {
     "data": {
      "text/plain": [
       "(108035, 11)"
      ]
     },
     "execution_count": 640,
     "metadata": {},
     "output_type": "execute_result"
    }
   ],
   "source": [
    "x_train.shape"
   ]
  },
  {
   "cell_type": "code",
   "execution_count": 641,
   "id": "32c6aa41-04c3-4d65-8c3d-634d4b5a7da1",
   "metadata": {},
   "outputs": [
    {
     "data": {
      "text/html": [
       "<div>\n",
       "<style scoped>\n",
       "    .dataframe tbody tr th:only-of-type {\n",
       "        vertical-align: middle;\n",
       "    }\n",
       "\n",
       "    .dataframe tbody tr th {\n",
       "        vertical-align: top;\n",
       "    }\n",
       "\n",
       "    .dataframe thead th {\n",
       "        text-align: right;\n",
       "    }\n",
       "</style>\n",
       "<table border=\"1\" class=\"dataframe\">\n",
       "  <thead>\n",
       "    <tr style=\"text-align: right;\">\n",
       "      <th></th>\n",
       "      <th>application</th>\n",
       "      <th>thickness_log</th>\n",
       "      <th>width_log</th>\n",
       "      <th>country</th>\n",
       "      <th>product_ref</th>\n",
       "      <th>quantity tons_log</th>\n",
       "      <th>customer</th>\n",
       "      <th>status</th>\n",
       "      <th>item type</th>\n",
       "      <th>material_ref</th>\n",
       "      <th>Delivery_time_log</th>\n",
       "    </tr>\n",
       "  </thead>\n",
       "  <tbody>\n",
       "    <tr>\n",
       "      <th>176866</th>\n",
       "      <td>10.0</td>\n",
       "      <td>0.182322</td>\n",
       "      <td>6.572283</td>\n",
       "      <td>84.0</td>\n",
       "      <td>5.0</td>\n",
       "      <td>3.409862</td>\n",
       "      <td>30267349.0</td>\n",
       "      <td>1.0</td>\n",
       "      <td>5.0</td>\n",
       "      <td>41.0</td>\n",
       "      <td>1.945910</td>\n",
       "    </tr>\n",
       "    <tr>\n",
       "      <th>162089</th>\n",
       "      <td>56.0</td>\n",
       "      <td>-0.579818</td>\n",
       "      <td>7.114769</td>\n",
       "      <td>77.0</td>\n",
       "      <td>9.0</td>\n",
       "      <td>5.708136</td>\n",
       "      <td>30329913.0</td>\n",
       "      <td>1.0</td>\n",
       "      <td>3.0</td>\n",
       "      <td>41.0</td>\n",
       "      <td>3.367296</td>\n",
       "    </tr>\n",
       "    <tr>\n",
       "      <th>106597</th>\n",
       "      <td>10.0</td>\n",
       "      <td>1.098612</td>\n",
       "      <td>7.212294</td>\n",
       "      <td>78.0</td>\n",
       "      <td>21.0</td>\n",
       "      <td>6.405814</td>\n",
       "      <td>30223403.0</td>\n",
       "      <td>0.0</td>\n",
       "      <td>3.0</td>\n",
       "      <td>41.0</td>\n",
       "      <td>3.951244</td>\n",
       "    </tr>\n",
       "    <tr>\n",
       "      <th>60951</th>\n",
       "      <td>10.0</td>\n",
       "      <td>-0.223144</td>\n",
       "      <td>7.130899</td>\n",
       "      <td>28.0</td>\n",
       "      <td>2.0</td>\n",
       "      <td>3.092819</td>\n",
       "      <td>30272262.0</td>\n",
       "      <td>0.0</td>\n",
       "      <td>5.0</td>\n",
       "      <td>41.0</td>\n",
       "      <td>4.330733</td>\n",
       "    </tr>\n",
       "    <tr>\n",
       "      <th>155967</th>\n",
       "      <td>41.0</td>\n",
       "      <td>0.559616</td>\n",
       "      <td>6.966024</td>\n",
       "      <td>25.0</td>\n",
       "      <td>9.0</td>\n",
       "      <td>2.122699</td>\n",
       "      <td>30153920.0</td>\n",
       "      <td>1.0</td>\n",
       "      <td>5.0</td>\n",
       "      <td>31.0</td>\n",
       "      <td>2.079442</td>\n",
       "    </tr>\n",
       "  </tbody>\n",
       "</table>\n",
       "</div>"
      ],
      "text/plain": [
       "        application  thickness_log  width_log  country  product_ref  \\\n",
       "176866         10.0       0.182322   6.572283     84.0          5.0   \n",
       "162089         56.0      -0.579818   7.114769     77.0          9.0   \n",
       "106597         10.0       1.098612   7.212294     78.0         21.0   \n",
       "60951          10.0      -0.223144   7.130899     28.0          2.0   \n",
       "155967         41.0       0.559616   6.966024     25.0          9.0   \n",
       "\n",
       "        quantity tons_log    customer  status  item type  material_ref  \\\n",
       "176866           3.409862  30267349.0     1.0        5.0          41.0   \n",
       "162089           5.708136  30329913.0     1.0        3.0          41.0   \n",
       "106597           6.405814  30223403.0     0.0        3.0          41.0   \n",
       "60951            3.092819  30272262.0     0.0        5.0          41.0   \n",
       "155967           2.122699  30153920.0     1.0        5.0          31.0   \n",
       "\n",
       "        Delivery_time_log  \n",
       "176866           1.945910  \n",
       "162089           3.367296  \n",
       "106597           3.951244  \n",
       "60951            4.330733  \n",
       "155967           2.079442  "
      ]
     },
     "execution_count": 641,
     "metadata": {},
     "output_type": "execute_result"
    }
   ],
   "source": [
    "x_train.head()"
   ]
  },
  {
   "cell_type": "code",
   "execution_count": 642,
   "id": "9d918fd9-496e-42d8-93b1-19761d4278e0",
   "metadata": {},
   "outputs": [
    {
     "data": {
      "text/plain": [
       "(108035,)"
      ]
     },
     "execution_count": 642,
     "metadata": {},
     "output_type": "execute_result"
    }
   ],
   "source": [
    "y_train.shape"
   ]
  },
  {
   "cell_type": "code",
   "execution_count": 643,
   "id": "5afd0944-d607-45a7-841a-6926be212903",
   "metadata": {},
   "outputs": [
    {
     "data": {
      "text/plain": [
       "(27009, 11)"
      ]
     },
     "execution_count": 643,
     "metadata": {},
     "output_type": "execute_result"
    }
   ],
   "source": [
    "x_test.shape"
   ]
  },
  {
   "cell_type": "code",
   "execution_count": 644,
   "id": "305e5be6-efbf-4fbf-865f-df6afa09b801",
   "metadata": {},
   "outputs": [
    {
     "data": {
      "text/plain": [
       "(27009,)"
      ]
     },
     "execution_count": 644,
     "metadata": {},
     "output_type": "execute_result"
    }
   ],
   "source": [
    "y_test.shape"
   ]
  },
  {
   "cell_type": "code",
   "execution_count": 645,
   "id": "fc0c51ce-36a9-4301-8907-39790908f341",
   "metadata": {},
   "outputs": [
    {
     "data": {
      "text/html": [
       "<style>#sk-container-id-7 {color: black;background-color: white;}#sk-container-id-7 pre{padding: 0;}#sk-container-id-7 div.sk-toggleable {background-color: white;}#sk-container-id-7 label.sk-toggleable__label {cursor: pointer;display: block;width: 100%;margin-bottom: 0;padding: 0.3em;box-sizing: border-box;text-align: center;}#sk-container-id-7 label.sk-toggleable__label-arrow:before {content: \"▸\";float: left;margin-right: 0.25em;color: #696969;}#sk-container-id-7 label.sk-toggleable__label-arrow:hover:before {color: black;}#sk-container-id-7 div.sk-estimator:hover label.sk-toggleable__label-arrow:before {color: black;}#sk-container-id-7 div.sk-toggleable__content {max-height: 0;max-width: 0;overflow: hidden;text-align: left;background-color: #f0f8ff;}#sk-container-id-7 div.sk-toggleable__content pre {margin: 0.2em;color: black;border-radius: 0.25em;background-color: #f0f8ff;}#sk-container-id-7 input.sk-toggleable__control:checked~div.sk-toggleable__content {max-height: 200px;max-width: 100%;overflow: auto;}#sk-container-id-7 input.sk-toggleable__control:checked~label.sk-toggleable__label-arrow:before {content: \"▾\";}#sk-container-id-7 div.sk-estimator input.sk-toggleable__control:checked~label.sk-toggleable__label {background-color: #d4ebff;}#sk-container-id-7 div.sk-label input.sk-toggleable__control:checked~label.sk-toggleable__label {background-color: #d4ebff;}#sk-container-id-7 input.sk-hidden--visually {border: 0;clip: rect(1px 1px 1px 1px);clip: rect(1px, 1px, 1px, 1px);height: 1px;margin: -1px;overflow: hidden;padding: 0;position: absolute;width: 1px;}#sk-container-id-7 div.sk-estimator {font-family: monospace;background-color: #f0f8ff;border: 1px dotted black;border-radius: 0.25em;box-sizing: border-box;margin-bottom: 0.5em;}#sk-container-id-7 div.sk-estimator:hover {background-color: #d4ebff;}#sk-container-id-7 div.sk-parallel-item::after {content: \"\";width: 100%;border-bottom: 1px solid gray;flex-grow: 1;}#sk-container-id-7 div.sk-label:hover label.sk-toggleable__label {background-color: #d4ebff;}#sk-container-id-7 div.sk-serial::before {content: \"\";position: absolute;border-left: 1px solid gray;box-sizing: border-box;top: 0;bottom: 0;left: 50%;z-index: 0;}#sk-container-id-7 div.sk-serial {display: flex;flex-direction: column;align-items: center;background-color: white;padding-right: 0.2em;padding-left: 0.2em;position: relative;}#sk-container-id-7 div.sk-item {position: relative;z-index: 1;}#sk-container-id-7 div.sk-parallel {display: flex;align-items: stretch;justify-content: center;background-color: white;position: relative;}#sk-container-id-7 div.sk-item::before, #sk-container-id-7 div.sk-parallel-item::before {content: \"\";position: absolute;border-left: 1px solid gray;box-sizing: border-box;top: 0;bottom: 0;left: 50%;z-index: -1;}#sk-container-id-7 div.sk-parallel-item {display: flex;flex-direction: column;z-index: 1;position: relative;background-color: white;}#sk-container-id-7 div.sk-parallel-item:first-child::after {align-self: flex-end;width: 50%;}#sk-container-id-7 div.sk-parallel-item:last-child::after {align-self: flex-start;width: 50%;}#sk-container-id-7 div.sk-parallel-item:only-child::after {width: 0;}#sk-container-id-7 div.sk-dashed-wrapped {border: 1px dashed gray;margin: 0 0.4em 0.5em 0.4em;box-sizing: border-box;padding-bottom: 0.4em;background-color: white;}#sk-container-id-7 div.sk-label label {font-family: monospace;font-weight: bold;display: inline-block;line-height: 1.2em;}#sk-container-id-7 div.sk-label-container {text-align: center;}#sk-container-id-7 div.sk-container {/* jupyter's `normalize.less` sets `[hidden] { display: none; }` but bootstrap.min.css set `[hidden] { display: none !important; }` so we also need the `!important` here to be able to override the default hidden behavior on the sphinx rendered scikit-learn.org. See: https://github.com/scikit-learn/scikit-learn/issues/21755 */display: inline-block !important;position: relative;}#sk-container-id-7 div.sk-text-repr-fallback {display: none;}</style><div id=\"sk-container-id-7\" class=\"sk-top-container\"><div class=\"sk-text-repr-fallback\"><pre>LinearRegression()</pre><b>In a Jupyter environment, please rerun this cell to show the HTML representation or trust the notebook. <br />On GitHub, the HTML representation is unable to render, please try loading this page with nbviewer.org.</b></div><div class=\"sk-container\" hidden><div class=\"sk-item\"><div class=\"sk-estimator sk-toggleable\"><input class=\"sk-toggleable__control sk-hidden--visually\" id=\"sk-estimator-id-7\" type=\"checkbox\" checked><label for=\"sk-estimator-id-7\" class=\"sk-toggleable__label sk-toggleable__label-arrow\">LinearRegression</label><div class=\"sk-toggleable__content\"><pre>LinearRegression()</pre></div></div></div></div></div>"
      ],
      "text/plain": [
       "LinearRegression()"
      ]
     },
     "execution_count": 645,
     "metadata": {},
     "output_type": "execute_result"
    }
   ],
   "source": [
    "from sklearn.linear_model import LinearRegression\n",
    "linearR = LinearRegression()\n",
    "linearR.fit(x_train, y_train)\n"
   ]
  },
  {
   "cell_type": "code",
   "execution_count": 646,
   "id": "cd908254-e9a7-4e77-89a4-b6dfc665ea11",
   "metadata": {},
   "outputs": [
    {
     "data": {
      "text/plain": [
       "array([ 1.86393860e-03, -1.15693910e-01,  2.96603987e-02, -3.04427445e-04,\n",
       "       -1.97869042e-03, -1.02298798e-02,  6.57841131e-11,  4.11793721e-03,\n",
       "        1.76316838e-02,  9.07785851e-04,  7.12171845e-02])"
      ]
     },
     "execution_count": 646,
     "metadata": {},
     "output_type": "execute_result"
    }
   ],
   "source": [
    "linearR.coef_"
   ]
  },
  {
   "cell_type": "code",
   "execution_count": 647,
   "id": "d6878c57-d037-440f-ba59-7bddb4399dcb",
   "metadata": {},
   "outputs": [
    {
     "data": {
      "text/plain": [
       "6.174761010136444"
      ]
     },
     "execution_count": 647,
     "metadata": {},
     "output_type": "execute_result"
    }
   ],
   "source": [
    "linearR.intercept_"
   ]
  },
  {
   "cell_type": "code",
   "execution_count": 648,
   "id": "80bb03ef-5a9a-4171-8518-cf9006725298",
   "metadata": {},
   "outputs": [],
   "source": [
    "Prediction_x_Test = linearR.predict(x_test)"
   ]
  },
  {
   "cell_type": "code",
   "execution_count": 649,
   "id": "fd9a9640-1285-4128-8bc8-0ee3064ccb00",
   "metadata": {},
   "outputs": [
    {
     "data": {
      "text/plain": [
       "(27009,)"
      ]
     },
     "execution_count": 649,
     "metadata": {},
     "output_type": "execute_result"
    }
   ],
   "source": [
    "Prediction_x_Test.shape"
   ]
  },
  {
   "cell_type": "code",
   "execution_count": 650,
   "id": "66b55e5d-683c-471f-8c01-5507a02bc226",
   "metadata": {},
   "outputs": [
    {
     "data": {
      "text/plain": [
       "array([6.85366352, 6.65533588, 6.53146202, ..., 6.82337856, 6.71437365,\n",
       "       6.96637428])"
      ]
     },
     "execution_count": 650,
     "metadata": {},
     "output_type": "execute_result"
    }
   ],
   "source": [
    "Prediction_x_Test"
   ]
  },
  {
   "cell_type": "code",
   "execution_count": 651,
   "id": "5cde7058-3e6b-4288-8c33-80a5e8c89b52",
   "metadata": {},
   "outputs": [
    {
     "data": {
      "text/plain": [
       "array([6.76849321, 6.89442685, 6.30627529, ..., 6.94312242, 6.7787849 ,\n",
       "       6.94697599])"
      ]
     },
     "execution_count": 651,
     "metadata": {},
     "output_type": "execute_result"
    }
   ],
   "source": [
    "y_test.values"
   ]
  },
  {
   "cell_type": "code",
   "execution_count": 652,
   "id": "1be3d711-3290-436c-b316-b84e19b3d24a",
   "metadata": {},
   "outputs": [],
   "source": [
    "##Evaluation using MSE, RMSE, R2"
   ]
  },
  {
   "cell_type": "code",
   "execution_count": 653,
   "id": "08a984f0-e4a1-47b0-a539-804cad0dea68",
   "metadata": {},
   "outputs": [],
   "source": [
    "from sklearn.metrics import mean_squared_error, r2_score\n",
    "import math\n"
   ]
  },
  {
   "cell_type": "code",
   "execution_count": 654,
   "id": "b6c45a23-ef8d-487e-b5fc-fce3a0b8a7e7",
   "metadata": {},
   "outputs": [
    {
     "name": "stdout",
     "output_type": "stream",
     "text": [
      "MSE: 0.035048698060367055\n",
      "RMSE: 0.18721297513892315\n",
      " R2: 0.31780173784048515\n"
     ]
    }
   ],
   "source": [
    "#Evalution of Test set\n",
    "print(f'MSE: {mean_squared_error(y_test, Prediction_x_Test)}')\n",
    "print(f'RMSE: {math.sqrt(mean_squared_error(y_test, Prediction_x_Test))}')\n",
    "print(f' R2: {r2_score(y_test, Prediction_x_Test)}')"
   ]
  },
  {
   "cell_type": "code",
   "execution_count": 655,
   "id": "9fab4ef5-dc99-4942-bf12-74602337dc6c",
   "metadata": {},
   "outputs": [
    {
     "data": {
      "text/plain": [
       "count    135044.000000\n",
       "mean          6.694737\n",
       "std           0.228275\n",
       "min          -2.302585\n",
       "25%           6.522093\n",
       "50%           6.705639\n",
       "75%           6.860664\n",
       "max           7.479864\n",
       "Name: selling_price_log, dtype: float64"
      ]
     },
     "execution_count": 655,
     "metadata": {},
     "output_type": "execute_result"
    }
   ],
   "source": [
    "cleaned_data_['selling_price_log'].describe()"
   ]
  },
  {
   "cell_type": "code",
   "execution_count": 656,
   "id": "66418676-fa32-4aca-a724-22996e9afca1",
   "metadata": {},
   "outputs": [],
   "source": [
    "###train set"
   ]
  },
  {
   "cell_type": "code",
   "execution_count": 657,
   "id": "fd640507-2795-43ee-9f23-7bfcaed24f01",
   "metadata": {},
   "outputs": [],
   "source": [
    "Prediction_x_train = linearR.predict(x_train)"
   ]
  },
  {
   "cell_type": "code",
   "execution_count": 658,
   "id": "b3022518-c960-4526-98a5-aa2a2eb3ed51",
   "metadata": {},
   "outputs": [
    {
     "name": "stdout",
     "output_type": "stream",
     "text": [
      "MSE: 0.03603374413426385\n",
      "RMSE: 0.18982556238363643\n",
      " R2: 0.31091026240196906\n"
     ]
    }
   ],
   "source": [
    "\n",
    "#Evalution of train set\n",
    "print(f'MSE: {mean_squared_error(y_train, Prediction_x_train)}')\n",
    "print(f'RMSE: {math.sqrt(mean_squared_error(y_train, Prediction_x_train))}')\n",
    "print(f' R2: {r2_score(y_train, Prediction_x_train)}')"
   ]
  },
  {
   "cell_type": "code",
   "execution_count": 659,
   "id": "8c6c7c42-b6db-4f90-b9cd-2e983cb70da1",
   "metadata": {},
   "outputs": [],
   "source": [
    "#Accessing performance using Cross Validation\n",
    "from sklearn.model_selection import cross_validate"
   ]
  },
  {
   "cell_type": "code",
   "execution_count": 660,
   "id": "2f410475-47c5-49a7-a5a3-a23c7e8cefe1",
   "metadata": {},
   "outputs": [
    {
     "data": {
      "text/plain": [
       "array([-2.20870638e+00, -1.01509819e+00, -1.61691960e-01,  8.75622703e-03,\n",
       "        4.86481777e-01,  6.99506921e-02, -1.05078234e-02, -4.54437675e+01,\n",
       "       -5.19837737e-01, -5.25226261e-01])"
      ]
     },
     "execution_count": 660,
     "metadata": {},
     "output_type": "execute_result"
    }
   ],
   "source": [
    "#CV thro' R2\n",
    "crossval = cross_validate(linearR,x,y,scoring = 'r2', cv=10, return_train_score= False)\n",
    "crossval['test_score']"
   ]
  },
  {
   "cell_type": "code",
   "execution_count": 661,
   "id": "f7da9713-8676-40e4-8d50-ad079d5b3547",
   "metadata": {},
   "outputs": [
    {
     "data": {
      "text/plain": [
       "-4.931964711820312"
      ]
     },
     "execution_count": 661,
     "metadata": {},
     "output_type": "execute_result"
    }
   ],
   "source": [
    "crossval['test_score'].mean()"
   ]
  },
  {
   "cell_type": "code",
   "execution_count": 662,
   "id": "22105a71-1712-44c6-a88a-691a06da6ad3",
   "metadata": {},
   "outputs": [],
   "source": [
    "#CV thro' neg RMSE\n",
    "\n",
    "crossval_mse = cross_validate(linearR,x,y,scoring = 'neg_root_mean_squared_error', cv=5, return_train_score= False)"
   ]
  },
  {
   "cell_type": "code",
   "execution_count": 663,
   "id": "4b02c2ea-0c4f-4b96-aeed-fa1e5f6d772a",
   "metadata": {},
   "outputs": [
    {
     "data": {
      "text/plain": [
       "0.3730679649306096"
      ]
     },
     "execution_count": 663,
     "metadata": {},
     "output_type": "execute_result"
    }
   ],
   "source": [
    "(crossval_mse['test_score'].mean())*-1"
   ]
  },
  {
   "cell_type": "code",
   "execution_count": 664,
   "id": "bccf284b-452c-45a4-9c5b-3cef767bf273",
   "metadata": {},
   "outputs": [],
   "source": [
    "##Regularization"
   ]
  },
  {
   "cell_type": "code",
   "execution_count": 665,
   "id": "ddcd1fa4-7cf3-454f-abed-888a69fba0fc",
   "metadata": {},
   "outputs": [],
   "source": [
    "from sklearn.linear_model import Lasso, Ridge"
   ]
  },
  {
   "cell_type": "code",
   "execution_count": 666,
   "id": "a9eb4f4d-6747-4600-99b3-1477de544c6d",
   "metadata": {},
   "outputs": [
    {
     "data": {
      "text/html": [
       "<style>#sk-container-id-8 {color: black;background-color: white;}#sk-container-id-8 pre{padding: 0;}#sk-container-id-8 div.sk-toggleable {background-color: white;}#sk-container-id-8 label.sk-toggleable__label {cursor: pointer;display: block;width: 100%;margin-bottom: 0;padding: 0.3em;box-sizing: border-box;text-align: center;}#sk-container-id-8 label.sk-toggleable__label-arrow:before {content: \"▸\";float: left;margin-right: 0.25em;color: #696969;}#sk-container-id-8 label.sk-toggleable__label-arrow:hover:before {color: black;}#sk-container-id-8 div.sk-estimator:hover label.sk-toggleable__label-arrow:before {color: black;}#sk-container-id-8 div.sk-toggleable__content {max-height: 0;max-width: 0;overflow: hidden;text-align: left;background-color: #f0f8ff;}#sk-container-id-8 div.sk-toggleable__content pre {margin: 0.2em;color: black;border-radius: 0.25em;background-color: #f0f8ff;}#sk-container-id-8 input.sk-toggleable__control:checked~div.sk-toggleable__content {max-height: 200px;max-width: 100%;overflow: auto;}#sk-container-id-8 input.sk-toggleable__control:checked~label.sk-toggleable__label-arrow:before {content: \"▾\";}#sk-container-id-8 div.sk-estimator input.sk-toggleable__control:checked~label.sk-toggleable__label {background-color: #d4ebff;}#sk-container-id-8 div.sk-label input.sk-toggleable__control:checked~label.sk-toggleable__label {background-color: #d4ebff;}#sk-container-id-8 input.sk-hidden--visually {border: 0;clip: rect(1px 1px 1px 1px);clip: rect(1px, 1px, 1px, 1px);height: 1px;margin: -1px;overflow: hidden;padding: 0;position: absolute;width: 1px;}#sk-container-id-8 div.sk-estimator {font-family: monospace;background-color: #f0f8ff;border: 1px dotted black;border-radius: 0.25em;box-sizing: border-box;margin-bottom: 0.5em;}#sk-container-id-8 div.sk-estimator:hover {background-color: #d4ebff;}#sk-container-id-8 div.sk-parallel-item::after {content: \"\";width: 100%;border-bottom: 1px solid gray;flex-grow: 1;}#sk-container-id-8 div.sk-label:hover label.sk-toggleable__label {background-color: #d4ebff;}#sk-container-id-8 div.sk-serial::before {content: \"\";position: absolute;border-left: 1px solid gray;box-sizing: border-box;top: 0;bottom: 0;left: 50%;z-index: 0;}#sk-container-id-8 div.sk-serial {display: flex;flex-direction: column;align-items: center;background-color: white;padding-right: 0.2em;padding-left: 0.2em;position: relative;}#sk-container-id-8 div.sk-item {position: relative;z-index: 1;}#sk-container-id-8 div.sk-parallel {display: flex;align-items: stretch;justify-content: center;background-color: white;position: relative;}#sk-container-id-8 div.sk-item::before, #sk-container-id-8 div.sk-parallel-item::before {content: \"\";position: absolute;border-left: 1px solid gray;box-sizing: border-box;top: 0;bottom: 0;left: 50%;z-index: -1;}#sk-container-id-8 div.sk-parallel-item {display: flex;flex-direction: column;z-index: 1;position: relative;background-color: white;}#sk-container-id-8 div.sk-parallel-item:first-child::after {align-self: flex-end;width: 50%;}#sk-container-id-8 div.sk-parallel-item:last-child::after {align-self: flex-start;width: 50%;}#sk-container-id-8 div.sk-parallel-item:only-child::after {width: 0;}#sk-container-id-8 div.sk-dashed-wrapped {border: 1px dashed gray;margin: 0 0.4em 0.5em 0.4em;box-sizing: border-box;padding-bottom: 0.4em;background-color: white;}#sk-container-id-8 div.sk-label label {font-family: monospace;font-weight: bold;display: inline-block;line-height: 1.2em;}#sk-container-id-8 div.sk-label-container {text-align: center;}#sk-container-id-8 div.sk-container {/* jupyter's `normalize.less` sets `[hidden] { display: none; }` but bootstrap.min.css set `[hidden] { display: none !important; }` so we also need the `!important` here to be able to override the default hidden behavior on the sphinx rendered scikit-learn.org. See: https://github.com/scikit-learn/scikit-learn/issues/21755 */display: inline-block !important;position: relative;}#sk-container-id-8 div.sk-text-repr-fallback {display: none;}</style><div id=\"sk-container-id-8\" class=\"sk-top-container\"><div class=\"sk-text-repr-fallback\"><pre>Ridge(alpha=5)</pre><b>In a Jupyter environment, please rerun this cell to show the HTML representation or trust the notebook. <br />On GitHub, the HTML representation is unable to render, please try loading this page with nbviewer.org.</b></div><div class=\"sk-container\" hidden><div class=\"sk-item\"><div class=\"sk-estimator sk-toggleable\"><input class=\"sk-toggleable__control sk-hidden--visually\" id=\"sk-estimator-id-8\" type=\"checkbox\" checked><label for=\"sk-estimator-id-8\" class=\"sk-toggleable__label sk-toggleable__label-arrow\">Ridge</label><div class=\"sk-toggleable__content\"><pre>Ridge(alpha=5)</pre></div></div></div></div></div>"
      ],
      "text/plain": [
       "Ridge(alpha=5)"
      ]
     },
     "execution_count": 666,
     "metadata": {},
     "output_type": "execute_result"
    }
   ],
   "source": [
    "rid = Ridge(alpha = 5)\n",
    "rid.fit(x_train, y_train)"
   ]
  },
  {
   "cell_type": "code",
   "execution_count": 667,
   "id": "ce829225-525b-402b-a344-02e027be602d",
   "metadata": {},
   "outputs": [
    {
     "data": {
      "text/plain": [
       "array([ 1.86392418e-03, -1.15678991e-01,  2.95967379e-02, -3.04410672e-04,\n",
       "       -1.97926731e-03, -1.02290304e-02,  6.57804039e-11,  4.11639359e-03,\n",
       "        1.76305614e-02,  9.07780391e-04,  7.12130169e-02])"
      ]
     },
     "execution_count": 667,
     "metadata": {},
     "output_type": "execute_result"
    }
   ],
   "source": [
    "rid.coef_"
   ]
  },
  {
   "cell_type": "code",
   "execution_count": 668,
   "id": "f614c154-adad-43cc-b1c6-09f1a9302029",
   "metadata": {},
   "outputs": [],
   "source": [
    "rid_list = rid.coef_"
   ]
  },
  {
   "cell_type": "code",
   "execution_count": 669,
   "id": "3b6f2972-80a9-43a5-b13d-11efe624ba76",
   "metadata": {},
   "outputs": [
    {
     "data": {
      "image/png": "[encoded data removed]",
      "text/plain": [
       "<Figure size 640x480 with 1 Axes>"
      ]
     },
     "metadata": {},
     "output_type": "display_data"
    }
   ],
   "source": [
    "sns.barplot(x=x_train.columns, y= rid_list)\n",
    "plt.xticks(rotation = 90)\n",
    "plt.show()"
   ]
  },
  {
   "cell_type": "code",
   "execution_count": 670,
   "id": "6d881daf-e96f-40b1-bb2c-751264df9572",
   "metadata": {},
   "outputs": [
    {
     "name": "stdout",
     "output_type": "stream",
     "text": [
      "0.1872129711100369\n",
      "0.3178017672027573\n"
     ]
    }
   ],
   "source": [
    "rd_pd = rid.predict(x_test)\n",
    "print(math.sqrt(mean_squared_error(y_test,rd_pd)))\n",
    "print(r2_score(y_test, rd_pd))\n",
    "                "
   ]
  },
  {
   "cell_type": "code",
   "execution_count": 671,
   "id": "f599ceb2-d107-4d0c-983b-2bdd5304ea18",
   "metadata": {},
   "outputs": [
    {
     "name": "stdout",
     "output_type": "stream",
     "text": [
      "0.18982556286399438\n",
      "0.31091025891445423\n"
     ]
    }
   ],
   "source": [
    "rd_pd = rid.predict(x_train)\n",
    "print(math.sqrt(mean_squared_error(y_train,rd_pd)))\n",
    "print(r2_score(y_train, rd_pd))"
   ]
  },
  {
   "cell_type": "code",
   "execution_count": 672,
   "id": "7d06c276-aadf-4792-b0df-c596d0f251b1",
   "metadata": {},
   "outputs": [],
   "source": [
    "##Lasso"
   ]
  },
  {
   "cell_type": "code",
   "execution_count": 673,
   "id": "ac538f75-5f15-43c9-95ba-4ee9856985ff",
   "metadata": {},
   "outputs": [
    {
     "data": {
      "text/html": [
       "<style>#sk-container-id-9 {color: black;background-color: white;}#sk-container-id-9 pre{padding: 0;}#sk-container-id-9 div.sk-toggleable {background-color: white;}#sk-container-id-9 label.sk-toggleable__label {cursor: pointer;display: block;width: 100%;margin-bottom: 0;padding: 0.3em;box-sizing: border-box;text-align: center;}#sk-container-id-9 label.sk-toggleable__label-arrow:before {content: \"▸\";float: left;margin-right: 0.25em;color: #696969;}#sk-container-id-9 label.sk-toggleable__label-arrow:hover:before {color: black;}#sk-container-id-9 div.sk-estimator:hover label.sk-toggleable__label-arrow:before {color: black;}#sk-container-id-9 div.sk-toggleable__content {max-height: 0;max-width: 0;overflow: hidden;text-align: left;background-color: #f0f8ff;}#sk-container-id-9 div.sk-toggleable__content pre {margin: 0.2em;color: black;border-radius: 0.25em;background-color: #f0f8ff;}#sk-container-id-9 input.sk-toggleable__control:checked~div.sk-toggleable__content {max-height: 200px;max-width: 100%;overflow: auto;}#sk-container-id-9 input.sk-toggleable__control:checked~label.sk-toggleable__label-arrow:before {content: \"▾\";}#sk-container-id-9 div.sk-estimator input.sk-toggleable__control:checked~label.sk-toggleable__label {background-color: #d4ebff;}#sk-container-id-9 div.sk-label input.sk-toggleable__control:checked~label.sk-toggleable__label {background-color: #d4ebff;}#sk-container-id-9 input.sk-hidden--visually {border: 0;clip: rect(1px 1px 1px 1px);clip: rect(1px, 1px, 1px, 1px);height: 1px;margin: -1px;overflow: hidden;padding: 0;position: absolute;width: 1px;}#sk-container-id-9 div.sk-estimator {font-family: monospace;background-color: #f0f8ff;border: 1px dotted black;border-radius: 0.25em;box-sizing: border-box;margin-bottom: 0.5em;}#sk-container-id-9 div.sk-estimator:hover {background-color: #d4ebff;}#sk-container-id-9 div.sk-parallel-item::after {content: \"\";width: 100%;border-bottom: 1px solid gray;flex-grow: 1;}#sk-container-id-9 div.sk-label:hover label.sk-toggleable__label {background-color: #d4ebff;}#sk-container-id-9 div.sk-serial::before {content: \"\";position: absolute;border-left: 1px solid gray;box-sizing: border-box;top: 0;bottom: 0;left: 50%;z-index: 0;}#sk-container-id-9 div.sk-serial {display: flex;flex-direction: column;align-items: center;background-color: white;padding-right: 0.2em;padding-left: 0.2em;position: relative;}#sk-container-id-9 div.sk-item {position: relative;z-index: 1;}#sk-container-id-9 div.sk-parallel {display: flex;align-items: stretch;justify-content: center;background-color: white;position: relative;}#sk-container-id-9 div.sk-item::before, #sk-container-id-9 div.sk-parallel-item::before {content: \"\";position: absolute;border-left: 1px solid gray;box-sizing: border-box;top: 0;bottom: 0;left: 50%;z-index: -1;}#sk-container-id-9 div.sk-parallel-item {display: flex;flex-direction: column;z-index: 1;position: relative;background-color: white;}#sk-container-id-9 div.sk-parallel-item:first-child::after {align-self: flex-end;width: 50%;}#sk-container-id-9 div.sk-parallel-item:last-child::after {align-self: flex-start;width: 50%;}#sk-container-id-9 div.sk-parallel-item:only-child::after {width: 0;}#sk-container-id-9 div.sk-dashed-wrapped {border: 1px dashed gray;margin: 0 0.4em 0.5em 0.4em;box-sizing: border-box;padding-bottom: 0.4em;background-color: white;}#sk-container-id-9 div.sk-label label {font-family: monospace;font-weight: bold;display: inline-block;line-height: 1.2em;}#sk-container-id-9 div.sk-label-container {text-align: center;}#sk-container-id-9 div.sk-container {/* jupyter's `normalize.less` sets `[hidden] { display: none; }` but bootstrap.min.css set `[hidden] { display: none !important; }` so we also need the `!important` here to be able to override the default hidden behavior on the sphinx rendered scikit-learn.org. See: https://github.com/scikit-learn/scikit-learn/issues/21755 */display: inline-block !important;position: relative;}#sk-container-id-9 div.sk-text-repr-fallback {display: none;}</style><div id=\"sk-container-id-9\" class=\"sk-top-container\"><div class=\"sk-text-repr-fallback\"><pre>Lasso(alpha=1)</pre><b>In a Jupyter environment, please rerun this cell to show the HTML representation or trust the notebook. <br />On GitHub, the HTML representation is unable to render, please try loading this page with nbviewer.org.</b></div><div class=\"sk-container\" hidden><div class=\"sk-item\"><div class=\"sk-estimator sk-toggleable\"><input class=\"sk-toggleable__control sk-hidden--visually\" id=\"sk-estimator-id-9\" type=\"checkbox\" checked><label for=\"sk-estimator-id-9\" class=\"sk-toggleable__label sk-toggleable__label-arrow\">Lasso</label><div class=\"sk-toggleable__content\"><pre>Lasso(alpha=1)</pre></div></div></div></div></div>"
      ],
      "text/plain": [
       "Lasso(alpha=1)"
      ]
     },
     "execution_count": 673,
     "metadata": {},
     "output_type": "execute_result"
    }
   ],
   "source": [
    "rlass = Lasso(alpha = 1)\n",
    "rlass.fit(x_train, y_train)"
   ]
  },
  {
   "cell_type": "code",
   "execution_count": 674,
   "id": "8ec169c8-819d-413b-8a10-1bc59a873692",
   "metadata": {},
   "outputs": [
    {
     "data": {
      "text/plain": [
       "array([ 0.0000000e+00, -0.0000000e+00, -0.0000000e+00, -0.0000000e+00,\n",
       "       -0.0000000e+00, -0.0000000e+00,  1.8674856e-12,  0.0000000e+00,\n",
       "        0.0000000e+00,  0.0000000e+00,  0.0000000e+00])"
      ]
     },
     "execution_count": 674,
     "metadata": {},
     "output_type": "execute_result"
    }
   ],
   "source": [
    "rlass.coef_"
   ]
  },
  {
   "cell_type": "code",
   "execution_count": 675,
   "id": "014e89a8-218b-43a7-9c02-822a312036eb",
   "metadata": {},
   "outputs": [],
   "source": [
    "rlasso_list = rlass.coef_"
   ]
  },
  {
   "cell_type": "code",
   "execution_count": 676,
   "id": "4e2050b7-5083-4abf-a4b8-1a82a01d7535",
   "metadata": {},
   "outputs": [
    {
     "name": "stdout",
     "output_type": "stream",
     "text": [
      "0.22666596071484688\n",
      "-2.6087378813821616e-05\n"
     ]
    }
   ],
   "source": [
    "rlass_pd = rlass.predict(x_test)\n",
    "print(math.sqrt(mean_squared_error(y_test,rlass_pd)))\n",
    "print(r2_score(y_test, rlass_pd))\n",
    "                "
   ]
  },
  {
   "cell_type": "code",
   "execution_count": 677,
   "id": "3cf39b88-763e-452e-9ada-0437c54a3778",
   "metadata": {},
   "outputs": [
    {
     "name": "stdout",
     "output_type": "stream",
     "text": [
      "0.2286740078672795\n",
      "2.8396344164960396e-09\n"
     ]
    }
   ],
   "source": [
    "rlass_pd = rlass.predict(x_train)\n",
    "print(math.sqrt(mean_squared_error(y_train,rlass_pd)))\n",
    "print(r2_score(y_train, rlass_pd))\n",
    "                "
   ]
  },
  {
   "cell_type": "code",
   "execution_count": 678,
   "id": "23f149b1-d229-428a-a37b-d7d395a42514",
   "metadata": {},
   "outputs": [
    {
     "data": {
      "image/png": "[encoded data removed]",
      "text/plain": [
       "<Figure size 640x480 with 1 Axes>"
      ]
     },
     "metadata": {},
     "output_type": "display_data"
    }
   ],
   "source": [
    "sns.barplot(x=x_train.columns, y= rlasso_list)\n",
    "plt.xticks(rotation = 90)\n",
    "plt.show()"
   ]
  },
  {
   "cell_type": "code",
   "execution_count": 679,
   "id": "147b9064-8e4b-4ffd-a656-0f79eca91be4",
   "metadata": {},
   "outputs": [],
   "source": [
    "###Decision Tree, RandomForestRegressor, GradientBoostingRegressor"
   ]
  },
  {
   "cell_type": "code",
   "execution_count": 680,
   "id": "1f0e555f-7831-4b37-b2c7-ef6ee00aa617",
   "metadata": {},
   "outputs": [],
   "source": [
    "from sklearn.metrics import r2_score\n",
    "from sklearn.metrics import mean_squared_error\n",
    "import math"
   ]
  },
  {
   "cell_type": "code",
   "execution_count": 681,
   "id": "4fb93442-92d7-4ddd-9d79-a73788523c38",
   "metadata": {},
   "outputs": [
    {
     "data": {
      "text/html": [
       "<div>\n",
       "<style scoped>\n",
       "    .dataframe tbody tr th:only-of-type {\n",
       "        vertical-align: middle;\n",
       "    }\n",
       "\n",
       "    .dataframe tbody tr th {\n",
       "        vertical-align: top;\n",
       "    }\n",
       "\n",
       "    .dataframe thead th {\n",
       "        text-align: right;\n",
       "    }\n",
       "</style>\n",
       "<table border=\"1\" class=\"dataframe\">\n",
       "  <thead>\n",
       "    <tr style=\"text-align: right;\">\n",
       "      <th></th>\n",
       "      <th>application</th>\n",
       "      <th>thickness_log</th>\n",
       "      <th>width_log</th>\n",
       "      <th>country</th>\n",
       "      <th>product_ref</th>\n",
       "      <th>quantity tons_log</th>\n",
       "      <th>customer</th>\n",
       "      <th>status</th>\n",
       "      <th>item type</th>\n",
       "      <th>material_ref</th>\n",
       "      <th>Delivery_time_log</th>\n",
       "    </tr>\n",
       "  </thead>\n",
       "  <tbody>\n",
       "    <tr>\n",
       "      <th>176866</th>\n",
       "      <td>10.0</td>\n",
       "      <td>0.182322</td>\n",
       "      <td>6.572283</td>\n",
       "      <td>84.0</td>\n",
       "      <td>5.0</td>\n",
       "      <td>3.409862</td>\n",
       "      <td>30267349.0</td>\n",
       "      <td>1.0</td>\n",
       "      <td>5.0</td>\n",
       "      <td>41.0</td>\n",
       "      <td>1.945910</td>\n",
       "    </tr>\n",
       "    <tr>\n",
       "      <th>162089</th>\n",
       "      <td>56.0</td>\n",
       "      <td>-0.579818</td>\n",
       "      <td>7.114769</td>\n",
       "      <td>77.0</td>\n",
       "      <td>9.0</td>\n",
       "      <td>5.708136</td>\n",
       "      <td>30329913.0</td>\n",
       "      <td>1.0</td>\n",
       "      <td>3.0</td>\n",
       "      <td>41.0</td>\n",
       "      <td>3.367296</td>\n",
       "    </tr>\n",
       "    <tr>\n",
       "      <th>106597</th>\n",
       "      <td>10.0</td>\n",
       "      <td>1.098612</td>\n",
       "      <td>7.212294</td>\n",
       "      <td>78.0</td>\n",
       "      <td>21.0</td>\n",
       "      <td>6.405814</td>\n",
       "      <td>30223403.0</td>\n",
       "      <td>0.0</td>\n",
       "      <td>3.0</td>\n",
       "      <td>41.0</td>\n",
       "      <td>3.951244</td>\n",
       "    </tr>\n",
       "    <tr>\n",
       "      <th>60951</th>\n",
       "      <td>10.0</td>\n",
       "      <td>-0.223144</td>\n",
       "      <td>7.130899</td>\n",
       "      <td>28.0</td>\n",
       "      <td>2.0</td>\n",
       "      <td>3.092819</td>\n",
       "      <td>30272262.0</td>\n",
       "      <td>0.0</td>\n",
       "      <td>5.0</td>\n",
       "      <td>41.0</td>\n",
       "      <td>4.330733</td>\n",
       "    </tr>\n",
       "    <tr>\n",
       "      <th>155967</th>\n",
       "      <td>41.0</td>\n",
       "      <td>0.559616</td>\n",
       "      <td>6.966024</td>\n",
       "      <td>25.0</td>\n",
       "      <td>9.0</td>\n",
       "      <td>2.122699</td>\n",
       "      <td>30153920.0</td>\n",
       "      <td>1.0</td>\n",
       "      <td>5.0</td>\n",
       "      <td>31.0</td>\n",
       "      <td>2.079442</td>\n",
       "    </tr>\n",
       "  </tbody>\n",
       "</table>\n",
       "</div>"
      ],
      "text/plain": [
       "        application  thickness_log  width_log  country  product_ref  \\\n",
       "176866         10.0       0.182322   6.572283     84.0          5.0   \n",
       "162089         56.0      -0.579818   7.114769     77.0          9.0   \n",
       "106597         10.0       1.098612   7.212294     78.0         21.0   \n",
       "60951          10.0      -0.223144   7.130899     28.0          2.0   \n",
       "155967         41.0       0.559616   6.966024     25.0          9.0   \n",
       "\n",
       "        quantity tons_log    customer  status  item type  material_ref  \\\n",
       "176866           3.409862  30267349.0     1.0        5.0          41.0   \n",
       "162089           5.708136  30329913.0     1.0        3.0          41.0   \n",
       "106597           6.405814  30223403.0     0.0        3.0          41.0   \n",
       "60951            3.092819  30272262.0     0.0        5.0          41.0   \n",
       "155967           2.122699  30153920.0     1.0        5.0          31.0   \n",
       "\n",
       "        Delivery_time_log  \n",
       "176866           1.945910  \n",
       "162089           3.367296  \n",
       "106597           3.951244  \n",
       "60951            4.330733  \n",
       "155967           2.079442  "
      ]
     },
     "execution_count": 681,
     "metadata": {},
     "output_type": "execute_result"
    }
   ],
   "source": [
    "x_train.head()"
   ]
  },
  {
   "cell_type": "code",
   "execution_count": 682,
   "id": "211d251d-be63-450a-b55c-b84c1b621ea4",
   "metadata": {},
   "outputs": [
    {
     "name": "stdout",
     "output_type": "stream",
     "text": [
      "RMSE: (2.0401185582954446e-17, 0.09270047136994738)\n",
      "R2: (1.0, 0.8327359517620431)\n"
     ]
    }
   ],
   "source": [
    "from sklearn.tree import DecisionTreeRegressor\n",
    "import sklearn\n",
    "dc_r = DecisionTreeRegressor()\n",
    "dc_r.fit(x_train, y_train)\n",
    "train_pred = dc_r.predict(x_train)\n",
    "mse_train = math.sqrt(mean_squared_error(y_train, train_pred))\n",
    "pred = dc_r.predict(x_test)\n",
    "mse_test = math.sqrt(mean_squared_error(y_test, pred))\n",
    "r2_train = r2_score(y_train, train_pred)\n",
    "r2_test = r2_score(y_test, pred)\n",
    "print(f'RMSE: {mse_train, mse_test}')\n",
    "print(f'R2: {r2_train, r2_test}')"
   ]
  },
  {
   "cell_type": "code",
   "execution_count": 683,
   "id": "9dd08592-11e0-40de-af0a-c13ba784c159",
   "metadata": {},
   "outputs": [
    {
     "name": "stdout",
     "output_type": "stream",
     "text": [
      "RMSE: (0.033927990720169464, 0.08996083642512932)\n",
      "R2: (0.9779868256632086, 0.8424763783738931)\n"
     ]
    }
   ],
   "source": [
    "from sklearn.tree import DecisionTreeRegressor\n",
    "import sklearn\n",
    "dc_r = DecisionTreeRegressor(max_depth= 30, min_samples_split= 7)\n",
    "dc_r.fit(x_train, y_train)\n",
    "train_pred = dc_r.predict(x_train)\n",
    "mse_train = math.sqrt(mean_squared_error(y_train, train_pred))\n",
    "pred = dc_r.predict(x_test)\n",
    "mse_test = math.sqrt(mean_squared_error(y_test, pred))\n",
    "r2_train = r2_score(y_train, train_pred)\n",
    "r2_test = r2_score(y_test, pred)\n",
    "print(f'RMSE: {mse_train, mse_test}')\n",
    "print(f'R2: {r2_train, r2_test}')"
   ]
  },
  {
   "cell_type": "code",
   "execution_count": 684,
   "id": "7cfe63cb-8ebf-4d50-8af7-bf66b0a62e7d",
   "metadata": {},
   "outputs": [],
   "source": [
    "from sklearn.ensemble import RandomForestRegressor\n",
    "from sklearn.ensemble import GradientBoostingRegressor"
   ]
  },
  {
   "cell_type": "code",
   "execution_count": 685,
   "id": "117dea91-4d88-4c5e-b24a-5f7984943207",
   "metadata": {},
   "outputs": [
    {
     "name": "stdout",
     "output_type": "stream",
     "text": [
      "RMSE: (0.027904683755197363, 0.07061011575359315)\n",
      "R2: (0.9851091118423988, 0.9029551337969858)\n"
     ]
    }
   ],
   "source": [
    "rf = RandomForestRegressor()\n",
    "rf.fit(x_train, y_train)\n",
    "train_pred = rf.predict(x_train)\n",
    "mse_train = math.sqrt(mean_squared_error(y_train, train_pred))\n",
    "pred = rf.predict(x_test)\n",
    "mse_test = math.sqrt(mean_squared_error(y_test, pred))\n",
    "r2_train = r2_score(y_train, train_pred)\n",
    "r2_test = r2_score(y_test, pred)\n",
    "print(f'RMSE: {mse_train, mse_test}')\n",
    "print(f'R2: {r2_train, r2_test}')"
   ]
  },
  {
   "cell_type": "code",
   "execution_count": 686,
   "id": "960e325b-67cd-45f1-b2cd-eb683ba7365f",
   "metadata": {},
   "outputs": [
    {
     "name": "stdout",
     "output_type": "stream",
     "text": [
      "RMSE: (0.13928946653881072, 0.1364463169147374)\n",
      "R2: (0.6289751980570324, 0.6376215581613096)\n"
     ]
    }
   ],
   "source": [
    "gb = GradientBoostingRegressor()\n",
    "gb.fit(x_train, y_train)\n",
    "train_pred = gb.predict(x_train)\n",
    "mse_train = math.sqrt(mean_squared_error(y_train, train_pred))\n",
    "pred = gb.predict(x_test)\n",
    "mse_test = math.sqrt(mean_squared_error(y_test, pred))\n",
    "r2_train = r2_score(y_train, train_pred)\n",
    "r2_test = r2_score(y_test, pred)\n",
    "print(f'RMSE: {mse_train, mse_test}')\n",
    "print(f'R2: {r2_train, r2_test}')"
   ]
  },
  {
   "cell_type": "code",
   "execution_count": 687,
   "id": "f7fedf7e-ffeb-4fdb-a48e-ff051da69097",
   "metadata": {},
   "outputs": [],
   "source": [
    "## classification models"
   ]
  },
  {
   "cell_type": "code",
   "execution_count": 688,
   "id": "18197f03-4e9c-4bfe-a05a-cf4d7e9c13d7",
   "metadata": {},
   "outputs": [],
   "source": [
    "#split data into X, y\n",
    "a=cleaned_data_[['selling_price_log','item type','application','thickness_log','width_log','country','product_ref', 'material_ref', 'quantity tons_log','customer','Delivery_time_log' ]]\n",
    "b=cleaned_data_['status' ]"
   ]
  },
  {
   "cell_type": "code",
   "execution_count": 689,
   "id": "d1d13131-3bff-4f0d-85fa-54d0b3d70c25",
   "metadata": {},
   "outputs": [
    {
     "data": {
      "text/plain": [
       "status\n",
       "1.0    104140\n",
       "0.0     30904\n",
       "Name: count, dtype: int64"
      ]
     },
     "execution_count": 689,
     "metadata": {},
     "output_type": "execute_result"
    }
   ],
   "source": [
    "cleaned_data_['status'].value_counts()"
   ]
  },
  {
   "cell_type": "code",
   "execution_count": 690,
   "id": "fd564731-71c6-4e0c-8e0f-5e44cb2f449a",
   "metadata": {},
   "outputs": [
    {
     "data": {
      "text/plain": [
       "array([[ 0.24178904,  0.767665  , -0.85490254, ...,  0.55669391,\n",
       "        -0.0130188 ,  0.7198115 ],\n",
       "       [-0.22318553, -1.16468327,  2.13557813, ...,  1.553879  ,\n",
       "         0.01069877,  0.70891967],\n",
       "       [ 0.61996703,  0.767665  ,  1.03703421, ...,  1.11561424,\n",
       "         0.00979285,  0.70891967],\n",
       "       ...,\n",
       "       [-1.38566533,  0.767665  ,  1.03703421, ...,  1.57479277,\n",
       "        -0.00755212, -3.7265468 ],\n",
       "       [-1.16803582,  0.767665  ,  1.03703421, ..., -1.370527  ,\n",
       "        -0.00755212, -3.7265468 ],\n",
       "       [-1.25379464,  0.767665  ,  1.03703421, ...,  2.08157458,\n",
       "        -0.00755212, -3.7265468 ]])"
      ]
     },
     "execution_count": 690,
     "metadata": {},
     "output_type": "execute_result"
    }
   ],
   "source": [
    "scaler = StandardScaler()\n",
    "scaler.fit(a)\n",
    "scaler.transform(a)\n"
   ]
  },
  {
   "cell_type": "code",
   "execution_count": 691,
   "id": "f242f140-42e8-4589-9016-3e2a740a5712",
   "metadata": {},
   "outputs": [],
   "source": [
    "from sklearn.model_selection import train_test_split\n",
    "a_train, a_test, b_train, b_test = train_test_split(a,b, test_size = 0.2, random_state=125, stratify=b)\n"
   ]
  },
  {
   "cell_type": "code",
   "execution_count": 692,
   "id": "303c9b18-7270-49b5-ae40-bf384af4c209",
   "metadata": {},
   "outputs": [
    {
     "data": {
      "text/plain": [
       "(108035, 11)"
      ]
     },
     "execution_count": 692,
     "metadata": {},
     "output_type": "execute_result"
    }
   ],
   "source": [
    "a_train.shape"
   ]
  },
  {
   "cell_type": "code",
   "execution_count": 693,
   "id": "fb0c3872-c5d2-49f5-bb03-c8b43eaf045f",
   "metadata": {},
   "outputs": [
    {
     "data": {
      "text/html": [
       "<div>\n",
       "<style scoped>\n",
       "    .dataframe tbody tr th:only-of-type {\n",
       "        vertical-align: middle;\n",
       "    }\n",
       "\n",
       "    .dataframe tbody tr th {\n",
       "        vertical-align: top;\n",
       "    }\n",
       "\n",
       "    .dataframe thead th {\n",
       "        text-align: right;\n",
       "    }\n",
       "</style>\n",
       "<table border=\"1\" class=\"dataframe\">\n",
       "  <thead>\n",
       "    <tr style=\"text-align: right;\">\n",
       "      <th></th>\n",
       "      <th>selling_price_log</th>\n",
       "      <th>item type</th>\n",
       "      <th>application</th>\n",
       "      <th>thickness_log</th>\n",
       "      <th>width_log</th>\n",
       "      <th>country</th>\n",
       "      <th>product_ref</th>\n",
       "      <th>material_ref</th>\n",
       "      <th>quantity tons_log</th>\n",
       "      <th>customer</th>\n",
       "      <th>Delivery_time_log</th>\n",
       "    </tr>\n",
       "  </thead>\n",
       "  <tbody>\n",
       "    <tr>\n",
       "      <th>22435</th>\n",
       "      <td>7.014814</td>\n",
       "      <td>3.0</td>\n",
       "      <td>56.0</td>\n",
       "      <td>-0.916291</td>\n",
       "      <td>6.802395</td>\n",
       "      <td>77.0</td>\n",
       "      <td>9.0</td>\n",
       "      <td>31.0</td>\n",
       "      <td>3.492533</td>\n",
       "      <td>30329913.0</td>\n",
       "      <td>4.744932</td>\n",
       "    </tr>\n",
       "    <tr>\n",
       "      <th>55496</th>\n",
       "      <td>6.666957</td>\n",
       "      <td>5.0</td>\n",
       "      <td>10.0</td>\n",
       "      <td>1.704748</td>\n",
       "      <td>6.984716</td>\n",
       "      <td>78.0</td>\n",
       "      <td>8.0</td>\n",
       "      <td>40.0</td>\n",
       "      <td>1.837130</td>\n",
       "      <td>30165529.0</td>\n",
       "      <td>4.234107</td>\n",
       "    </tr>\n",
       "    <tr>\n",
       "      <th>166900</th>\n",
       "      <td>6.502790</td>\n",
       "      <td>3.0</td>\n",
       "      <td>10.0</td>\n",
       "      <td>-0.287682</td>\n",
       "      <td>7.313220</td>\n",
       "      <td>26.0</td>\n",
       "      <td>28.0</td>\n",
       "      <td>31.0</td>\n",
       "      <td>3.614582</td>\n",
       "      <td>30340120.0</td>\n",
       "      <td>4.248495</td>\n",
       "    </tr>\n",
       "    <tr>\n",
       "      <th>26720</th>\n",
       "      <td>6.697034</td>\n",
       "      <td>5.0</td>\n",
       "      <td>59.0</td>\n",
       "      <td>0.587787</td>\n",
       "      <td>7.130899</td>\n",
       "      <td>28.0</td>\n",
       "      <td>23.0</td>\n",
       "      <td>41.0</td>\n",
       "      <td>4.999547</td>\n",
       "      <td>30267173.0</td>\n",
       "      <td>4.077537</td>\n",
       "    </tr>\n",
       "    <tr>\n",
       "      <th>74613</th>\n",
       "      <td>6.721426</td>\n",
       "      <td>3.0</td>\n",
       "      <td>56.0</td>\n",
       "      <td>-0.733969</td>\n",
       "      <td>7.130899</td>\n",
       "      <td>32.0</td>\n",
       "      <td>5.0</td>\n",
       "      <td>31.0</td>\n",
       "      <td>5.039312</td>\n",
       "      <td>30207233.0</td>\n",
       "      <td>4.663439</td>\n",
       "    </tr>\n",
       "  </tbody>\n",
       "</table>\n",
       "</div>"
      ],
      "text/plain": [
       "        selling_price_log  item type  application  thickness_log  width_log  \\\n",
       "22435            7.014814        3.0         56.0      -0.916291   6.802395   \n",
       "55496            6.666957        5.0         10.0       1.704748   6.984716   \n",
       "166900           6.502790        3.0         10.0      -0.287682   7.313220   \n",
       "26720            6.697034        5.0         59.0       0.587787   7.130899   \n",
       "74613            6.721426        3.0         56.0      -0.733969   7.130899   \n",
       "\n",
       "        country  product_ref  material_ref  quantity tons_log    customer  \\\n",
       "22435      77.0          9.0          31.0           3.492533  30329913.0   \n",
       "55496      78.0          8.0          40.0           1.837130  30165529.0   \n",
       "166900     26.0         28.0          31.0           3.614582  30340120.0   \n",
       "26720      28.0         23.0          41.0           4.999547  30267173.0   \n",
       "74613      32.0          5.0          31.0           5.039312  30207233.0   \n",
       "\n",
       "        Delivery_time_log  \n",
       "22435            4.744932  \n",
       "55496            4.234107  \n",
       "166900           4.248495  \n",
       "26720            4.077537  \n",
       "74613            4.663439  "
      ]
     },
     "execution_count": 693,
     "metadata": {},
     "output_type": "execute_result"
    }
   ],
   "source": [
    "a_train.head()"
   ]
  },
  {
   "cell_type": "code",
   "execution_count": 694,
   "id": "4de891f9-3d2e-44aa-a27f-f1848f4f4672",
   "metadata": {},
   "outputs": [],
   "source": [
    "from sklearn.model_selection import train_test_split\n",
    "from sklearn.linear_model import LogisticRegression\n",
    "from sklearn.neighbors import KNeighborsClassifier\n",
    "from sklearn.metrics import accuracy_score, precision_score, recall_score, f1_score, confusion_matrix, roc_auc_score"
   ]
  },
  {
   "cell_type": "code",
   "execution_count": 695,
   "id": "61d54eaf-2735-42c3-a2fd-cc758f26082b",
   "metadata": {},
   "outputs": [
    {
     "name": "stdout",
     "output_type": "stream",
     "text": [
      "Accuracy: (0.771157495256167, 0.7711503572883113)\n",
      "Precision: (0.771157495256167, 0.7711503572883113)\n",
      "Recall: (1.0, 1.0)\n",
      "F1 Score: (0.8707949432183416, 0.8707903923741036)\n",
      "AUC: (0.5, 0.5)\n"
     ]
    }
   ],
   "source": [
    "logr = LogisticRegression(max_iter=1000)\n",
    "logr.fit(a_train, b_train)\n",
    "train_pred = logr.predict(a_train)\n",
    "train_accuracy = accuracy_score(b_train, train_pred)\n",
    "train_precision = precision_score(b_train, train_pred)\n",
    "train_recall = recall_score(b_train, train_pred)\n",
    "train_f1 = f1_score(b_train, train_pred)\n",
    "train_auc = roc_auc_score(b_train, train_pred)\n",
    "pred = logr.predict(a_test)\n",
    "accuracy = accuracy_score(b_test, pred)\n",
    "precision = precision_score(b_test, pred)\n",
    "recall = recall_score(b_test, pred)\n",
    "f1 = f1_score(b_test, pred)\n",
    "auc = roc_auc_score(b_test, pred)\n",
    "print(f'Accuracy: {train_accuracy, accuracy}')\n",
    "print(f'Precision: {train_precision, precision}')\n",
    "print(f'Recall: {train_recall, recall}')\n",
    "print(f'F1 Score: {train_f1, f1}')\n",
    "print(f'AUC: {train_auc, auc}')\n",
    "\n"
   ]
  },
  {
   "cell_type": "code",
   "execution_count": 696,
   "id": "f3aca72d-cbc1-4757-a01a-97483a3a721e",
   "metadata": {},
   "outputs": [
    {
     "name": "stdout",
     "output_type": "stream",
     "text": [
      "Accuracy: (0.9580043504419864, 0.9333555481506165)\n",
      "Precision: (0.9725611585022016, 0.9582410172430401)\n",
      "Recall: (0.9729930862300749, 0.9552045323602842)\n",
      "F1 Score: (0.9727770744205303, 0.9567203654724693)\n",
      "AUC: (0.9402440656648898, 0.9074679837015787)\n"
     ]
    }
   ],
   "source": [
    "klr = KNeighborsClassifier(n_neighbors=5)\n",
    "klr.fit(a_train, b_train)\n",
    "train_pred = klr.predict(a_train)\n",
    "train_accuracy = accuracy_score(b_train, train_pred)\n",
    "train_precision = precision_score(b_train, train_pred)\n",
    "train_recall = recall_score(b_train, train_pred)\n",
    "train_f1 = f1_score(b_train, train_pred)\n",
    "train_auc = roc_auc_score(b_train, train_pred)\n",
    "pred = klr.predict(a_test)\n",
    "accuracy = accuracy_score(b_test, pred)\n",
    "precision = precision_score(b_test, pred)\n",
    "recall = recall_score(b_test, pred)\n",
    "f1 = f1_score(b_test, pred)\n",
    "auc = roc_auc_score(b_test, pred)\n",
    "print(f'Accuracy: {train_accuracy, accuracy}')\n",
    "print(f'Precision: {train_precision, precision}')\n",
    "print(f'Recall: {train_recall, recall}')\n",
    "print(f'F1 Score: {train_f1, f1}')\n",
    "print(f'AUC: {train_auc, auc}')"
   ]
  },
  {
   "cell_type": "code",
   "execution_count": 697,
   "id": "8186e883-4091-4ca1-9905-8e47542ae9d4",
   "metadata": {},
   "outputs": [],
   "source": [
    "from sklearn.tree import DecisionTreeClassifier\n",
    "import sklearn"
   ]
  },
  {
   "cell_type": "code",
   "execution_count": 698,
   "id": "78ad5df6-91f6-4625-9b9e-3678394a9d29",
   "metadata": {},
   "outputs": [
    {
     "name": "stdout",
     "output_type": "stream",
     "text": [
      "Accuracy: (1.0, 0.9416120552408457)\n",
      "Precision: (1.0, 0.9638571635101922)\n",
      "Recall: (1.0, 0.9602938352218168)\n",
      "F1 Score: (1.0, 0.9620721999086077)\n",
      "AUC: (1.0, 0.9194771230792792)\n"
     ]
    }
   ],
   "source": [
    "dc = DecisionTreeClassifier()\n",
    "dc.fit(a_train, b_train)\n",
    "train_pred = dc.predict(a_train)\n",
    "train_accuracy = accuracy_score(b_train, train_pred)\n",
    "train_precision = precision_score(b_train, train_pred)\n",
    "train_recall = recall_score(b_train, train_pred)\n",
    "train_f1 = f1_score(b_train, train_pred)\n",
    "train_auc = roc_auc_score(b_train, train_pred)\n",
    "pred = dc.predict(a_test)\n",
    "accuracy = accuracy_score(b_test, pred)\n",
    "precision = precision_score(b_test, pred)\n",
    "recall = recall_score(b_test, pred)\n",
    "f1 = f1_score(b_test, pred)\n",
    "auc = roc_auc_score(b_test, pred)\n",
    "print(f'Accuracy: {train_accuracy, accuracy}')\n",
    "print(f'Precision: {train_precision, precision}')\n",
    "print(f'Recall: {train_recall, recall}')\n",
    "print(f'F1 Score: {train_f1, f1}')\n",
    "print(f'AUC: {train_auc, auc}')"
   ]
  },
  {
   "cell_type": "code",
   "execution_count": 699,
   "id": "9b8ac88f-c98f-4f44-8da2-b7dde2702416",
   "metadata": {},
   "outputs": [
    {
     "data": {
      "text/plain": [
       "array([1., 0., 0., ..., 0., 0., 1.])"
      ]
     },
     "execution_count": 699,
     "metadata": {},
     "output_type": "execute_result"
    }
   ],
   "source": [
    "train_pred"
   ]
  },
  {
   "cell_type": "code",
   "execution_count": 700,
   "id": "e22c3ca3-6300-4693-9dc2-e248cb7d384d",
   "metadata": {},
   "outputs": [
    {
     "data": {
      "text/plain": [
       "112407    0.0\n",
       "181538    1.0\n",
       "91773     1.0\n",
       "158970    0.0\n",
       "161603    1.0\n",
       "         ... \n",
       "62110     0.0\n",
       "107147    0.0\n",
       "153328    1.0\n",
       "76790     1.0\n",
       "2786      1.0\n",
       "Name: status, Length: 27009, dtype: float64"
      ]
     },
     "execution_count": 700,
     "metadata": {},
     "output_type": "execute_result"
    }
   ],
   "source": [
    "b_test"
   ]
  },
  {
   "cell_type": "code",
   "execution_count": 701,
   "id": "c8eef74e-3884-4cb5-b820-b903e885855a",
   "metadata": {},
   "outputs": [
    {
     "name": "stdout",
     "output_type": "stream",
     "text": [
      "Accuracy: (0.8303142500115703, 0.8270576474508498)\n",
      "Precision: (0.8427359804211149, 0.8411096567157877)\n",
      "Recall: (0.9589014787785674, 0.9564048396389476)\n",
      "F1 Score: (0.8970736856289442, 0.8950596481768552)\n",
      "AUC: (0.6779501124427157, 0.6738018373894463)\n"
     ]
    }
   ],
   "source": [
    "dc1 = DecisionTreeClassifier(criterion= 'entropy',max_depth= 7, min_samples_split= 14)\n",
    "dc1.fit(a_train, b_train)\n",
    "train_pred = dc1.predict(a_train)\n",
    "train_accuracy = accuracy_score(b_train, train_pred)\n",
    "train_precision = precision_score(b_train, train_pred)\n",
    "train_recall = recall_score(b_train, train_pred)\n",
    "train_f1 = f1_score(b_train, train_pred)\n",
    "train_auc = roc_auc_score(b_train, train_pred)\n",
    "pred = dc1.predict(a_test)\n",
    "accuracy = accuracy_score(b_test, pred)\n",
    "precision = precision_score(b_test, pred)\n",
    "recall = recall_score(b_test, pred)\n",
    "f1 = f1_score(b_test, pred)\n",
    "auc = roc_auc_score(b_test, pred)\n",
    "print(f'Accuracy: {train_accuracy, accuracy}')\n",
    "print(f'Precision: {train_precision, precision}')\n",
    "print(f'Recall: {train_recall, recall}')\n",
    "print(f'F1 Score: {train_f1, f1}')\n",
    "print(f'AUC: {train_auc, auc}')"
   ]
  },
  {
   "cell_type": "code",
   "execution_count": 702,
   "id": "f432021d-f81f-40e7-acf0-ccf4d3e075eb",
   "metadata": {},
   "outputs": [
    {
     "data": {
      "text/plain": [
       "array([1., 1., 0., ..., 1., 1., 1.])"
      ]
     },
     "execution_count": 702,
     "metadata": {},
     "output_type": "execute_result"
    }
   ],
   "source": [
    "train_pred"
   ]
  },
  {
   "cell_type": "code",
   "execution_count": 703,
   "id": "ac9e88bb-dcbf-4828-99c3-0d365e88f276",
   "metadata": {},
   "outputs": [
    {
     "data": {
      "text/plain": [
       "112407    0.0\n",
       "181538    1.0\n",
       "91773     1.0\n",
       "158970    0.0\n",
       "161603    1.0\n",
       "         ... \n",
       "62110     0.0\n",
       "107147    0.0\n",
       "153328    1.0\n",
       "76790     1.0\n",
       "2786      1.0\n",
       "Name: status, Length: 27009, dtype: float64"
      ]
     },
     "execution_count": 703,
     "metadata": {},
     "output_type": "execute_result"
    }
   ],
   "source": [
    "b_test"
   ]
  },
  {
   "cell_type": "code",
   "execution_count": 704,
   "id": "9559466c-f801-4e7e-8487-5c5eccb41d06",
   "metadata": {},
   "outputs": [],
   "source": [
    "from sklearn.ensemble import ExtraTreesClassifier"
   ]
  },
  {
   "cell_type": "code",
   "execution_count": 705,
   "id": "3b0156f7-f468-4b6b-8345-cd72d460a0ea",
   "metadata": {},
   "outputs": [
    {
     "name": "stdout",
     "output_type": "stream",
     "text": [
      "Accuracy: (1.0, 0.9646414158243548)\n",
      "Precision: (1.0, 0.9754988754366656)\n",
      "Recall: (1.0, 0.9787305550220856)\n",
      "F1 Score: (1.0, 0.9771120431396045)\n",
      "AUC: (1.0, 0.947948031110784)\n"
     ]
    }
   ],
   "source": [
    "ec = ExtraTreesClassifier()\n",
    "ec.fit(a_train, b_train)\n",
    "train_pred = ec.predict(a_train)\n",
    "train_accuracy = accuracy_score(b_train, train_pred)\n",
    "train_precision = precision_score(b_train, train_pred)\n",
    "train_recall = recall_score(b_train, train_pred)\n",
    "train_f1 = f1_score(b_train, train_pred)\n",
    "train_auc = roc_auc_score(b_train, train_pred)\n",
    "pred = ec.predict(a_test)\n",
    "accuracy = accuracy_score(b_test, pred)\n",
    "precision = precision_score(b_test, pred)\n",
    "recall = recall_score(b_test, pred)\n",
    "f1 = f1_score(b_test, pred)\n",
    "auc = roc_auc_score(b_test, pred)\n",
    "print(f'Accuracy: {train_accuracy, accuracy}')\n",
    "print(f'Precision: {train_precision, precision}')\n",
    "print(f'Recall: {train_recall, recall}')\n",
    "print(f'F1 Score: {train_f1, f1}')\n",
    "print(f'AUC: {train_auc, auc}')"
   ]
  },
  {
   "cell_type": "code",
   "execution_count": 706,
   "id": "af4784ad-2b5e-41cf-945f-ca64015fed8c",
   "metadata": {},
   "outputs": [],
   "source": [
    "from sklearn.ensemble import GradientBoostingClassifier\n",
    "from xgboost import XGBClassifier"
   ]
  },
  {
   "cell_type": "code",
   "execution_count": 707,
   "id": "977d5b84-2829-4d6f-ab79-d23a3fe49364",
   "metadata": {},
   "outputs": [
    {
     "name": "stdout",
     "output_type": "stream",
     "text": [
      "Accuracy: (1.0, 0.9644933170424673)\n",
      "Precision: (1.0, 0.975448671931084)\n",
      "Recall: (1.0, 0.9785865181486461)\n",
      "F1 Score: (1.0, 0.9770150756177649)\n",
      "AUC: (1.0, 0.9477951196146887)\n"
     ]
    }
   ],
   "source": [
    "xgb = ExtraTreesClassifier()\n",
    "xgb.fit(a_train, b_train)\n",
    "train_pred = xgb.predict(a_train)\n",
    "train_accuracy = accuracy_score(b_train, train_pred)\n",
    "train_precision = precision_score(b_train, train_pred)\n",
    "train_recall = recall_score(b_train, train_pred)\n",
    "train_f1 = f1_score(b_train, train_pred)\n",
    "train_auc = roc_auc_score(b_train, train_pred)\n",
    "pred = xgb.predict(a_test)\n",
    "accuracy = accuracy_score(b_test, pred)\n",
    "precision = precision_score(b_test, pred)\n",
    "recall = recall_score(b_test, pred)\n",
    "f1 = f1_score(b_test, pred)\n",
    "auc = roc_auc_score(b_test, pred)\n",
    "print(f'Accuracy: {train_accuracy, accuracy}')\n",
    "print(f'Precision: {train_precision, precision}')\n",
    "print(f'Recall: {train_recall, recall}')\n",
    "print(f'F1 Score: {train_f1, f1}')\n",
    "print(f'AUC: {train_auc, auc}')"
   ]
  },
  {
   "cell_type": "code",
   "execution_count": 708,
   "id": "a170fe9f-c4de-4f9e-b217-d20665edb67f",
   "metadata": {},
   "outputs": [
    {
     "name": "stdout",
     "output_type": "stream",
     "text": [
      "Accuracy: (0.8396167908548156, 0.8395349698248732)\n",
      "Precision: (0.8543427595613743, 0.8541917196358014)\n",
      "Recall: (0.9548084309583253, 0.954916458613405)\n",
      "F1 Score: (0.9017860685519298, 0.9017500906782735)\n",
      "AUC: (0.7031252040323318, 0.7028262927268609)\n"
     ]
    }
   ],
   "source": [
    "gb = GradientBoostingClassifier()\n",
    "gb.fit(a_train, b_train)\n",
    "train_pred = gb.predict(a_train)\n",
    "train_accuracy = accuracy_score(b_train, train_pred)\n",
    "train_precision = precision_score(b_train, train_pred)\n",
    "train_recall = recall_score(b_train, train_pred)\n",
    "train_f1 = f1_score(b_train, train_pred)\n",
    "train_auc = roc_auc_score(b_train, train_pred)\n",
    "pred = gb.predict(a_test)\n",
    "accuracy = accuracy_score(b_test, pred)\n",
    "precision = precision_score(b_test, pred)\n",
    "recall = recall_score(b_test, pred)\n",
    "f1 = f1_score(b_test, pred)\n",
    "auc = roc_auc_score(b_test, pred)\n",
    "print(f'Accuracy: {train_accuracy, accuracy}')\n",
    "print(f'Precision: {train_precision, precision}')\n",
    "print(f'Recall: {train_recall, recall}')\n",
    "print(f'F1 Score: {train_f1, f1}')\n",
    "print(f'AUC: {train_auc, auc}')"
   ]
  },
  {
   "cell_type": "code",
   "execution_count": 709,
   "id": "ee348c67-b00a-4760-8e32-c4e47bd28795",
   "metadata": {},
   "outputs": [],
   "source": [
    "from sklearn.ensemble import RandomForestClassifier"
   ]
  },
  {
   "cell_type": "code",
   "execution_count": 710,
   "id": "deb3ce66-0432-48f2-9220-57ae3297f365",
   "metadata": {},
   "outputs": [
    {
     "name": "stdout",
     "output_type": "stream",
     "text": [
      "Accuracy: (1.0, 0.9638268725239735)\n",
      "Precision: (1.0, 0.9745637102557972)\n",
      "Recall: (1.0, 0.9786345304397925)\n",
      "F1 Score: (1.0, 0.9765948781831685)\n",
      "AUC: (1.0, 0.9462821576321273)\n"
     ]
    }
   ],
   "source": [
    "rfc = RandomForestClassifier()\n",
    "rfc.fit(a_train, b_train)\n",
    "train_pred = rfc.predict(a_train)\n",
    "train_accuracy = accuracy_score(b_train, train_pred)\n",
    "train_precision = precision_score(b_train, train_pred)\n",
    "train_recall = recall_score(b_train, train_pred)\n",
    "train_f1 = f1_score(b_train, train_pred)\n",
    "train_auc = roc_auc_score(b_train, train_pred)\n",
    "pred = rfc.predict(a_test)\n",
    "accuracy = accuracy_score(b_test, pred)\n",
    "precision = precision_score(b_test, pred)\n",
    "recall = recall_score(b_test, pred)\n",
    "f1 = f1_score(b_test, pred)\n",
    "auc = roc_auc_score(b_test, pred)\n",
    "print(f'Accuracy: {train_accuracy, accuracy}')\n",
    "print(f'Precision: {train_precision, precision}')\n",
    "print(f'Recall: {train_recall, recall}')\n",
    "print(f'F1 Score: {train_f1, f1}')\n",
    "print(f'AUC: {train_auc, auc}')"
   ]
  },
  {
   "cell_type": "code",
   "execution_count": 711,
   "id": "bf0747f1-8bdd-4a7f-a7d2-694400c7a2f2",
   "metadata": {},
   "outputs": [
    {
     "name": "stdout",
     "output_type": "stream",
     "text": [
      "Accuracy: (0.8332299717684084, 0.832796475248991)\n",
      "Precision: (0.847835583161977, 0.8469752403641624)\n",
      "Recall: (0.9551685231419244, 0.9558767044363357)\n",
      "F1 Score: (0.8983072850522942, 0.8981368701222538)\n",
      "AUC: (0.6887439104808841, 0.6869660176444743)\n"
     ]
    }
   ],
   "source": [
    "rfc = RandomForestClassifier(criterion='gini',max_depth= 7)\n",
    "rfc.fit(a_train, b_train)\n",
    "train_pred = rfc.predict(a_train)\n",
    "train_accuracy = accuracy_score(b_train, train_pred)\n",
    "train_precision = precision_score(b_train, train_pred)\n",
    "train_recall = recall_score(b_train, train_pred)\n",
    "train_f1 = f1_score(b_train, train_pred)\n",
    "train_auc = roc_auc_score(b_train, train_pred)\n",
    "pred = rfc.predict(a_test)\n",
    "accuracy = accuracy_score(b_test, pred)\n",
    "precision = precision_score(b_test, pred)\n",
    "recall = recall_score(b_test, pred)\n",
    "f1 = f1_score(b_test, pred)\n",
    "auc = roc_auc_score(b_test, pred)\n",
    "print(f'Accuracy: {train_accuracy, accuracy}')\n",
    "print(f'Precision: {train_precision, precision}')\n",
    "print(f'Recall: {train_recall, recall}')\n",
    "print(f'F1 Score: {train_f1, f1}')\n",
    "print(f'AUC: {train_auc, auc}')"
   ]
  },
  {
   "cell_type": "code",
   "execution_count": 712,
   "id": "76163898-8a63-48e3-b617-ddfff07b07af",
   "metadata": {},
   "outputs": [],
   "source": [
    "from sklearn.model_selection import GridSearchCV\n",
    "from sklearn.model_selection import RandomizedSearchCV"
   ]
  },
  {
   "cell_type": "code",
   "execution_count": 713,
   "id": "b915a7a1-f62d-4ea6-a5ba-9dde2886c5c8",
   "metadata": {},
   "outputs": [
    {
     "name": "stdout",
     "output_type": "stream",
     "text": [
      "Fitting 5 folds for each of 80 candidates, totalling 400 fits\n"
     ]
    },
    {
     "name": "stderr",
     "output_type": "stream",
     "text": [
      "C:\\ProgramData\\anaconda3\\Lib\\site-packages\\sklearn\\model_selection\\_search.py:305: UserWarning: The total space of parameters 80 is smaller than n_iter=100. Running 80 iterations. For exhaustive searches, use GridSearchCV.\n",
      "  warnings.warn(\n"
     ]
    },
    {
     "name": "stdout",
     "output_type": "stream",
     "text": [
      "{'min_samples_split': 8, 'max_depth': 7, 'criterion': 'entropy'}\n",
      "0.8029679186716592\n"
     ]
    }
   ],
   "source": [
    "Search_speace = {'criterion': ['gini', 'entropy'],\n",
    "                'max_depth': [3,4,7,9,10,12,14,20],\n",
    "                'min_samples_split': [4,6,8,10,12]}\n",
    "grid = RandomizedSearchCV(dc, Search_speace, cv=5, n_iter= 100, scoring = 'accuracy', return_train_score=False, verbose=1)\n",
    "grid_search = grid.fit(a,b)\n",
    "print(grid_search.best_params_)\n",
    "print(grid_search.best_score_)"
   ]
  },
  {
   "cell_type": "code",
   "execution_count": 714,
   "id": "e084f4f2-2186-499f-9bac-7361b3cdb2f9",
   "metadata": {},
   "outputs": [
    {
     "name": "stdout",
     "output_type": "stream",
     "text": [
      "Fitting 5 folds for each of 32 candidates, totalling 160 fits\n",
      "{'criterion': 'entropy', 'max_depth': 7, 'min_samples_split': 14}\n",
      "0.8030197546161986\n"
     ]
    }
   ],
   "source": [
    "Search_speace = {'criterion': ['gini', 'entropy'],\n",
    "                'max_depth': [2,6,7,15],\n",
    "                'min_samples_split': [4,10,14,20]}\n",
    "grid = GridSearchCV(dc, Search_speace, cv=5, scoring = 'accuracy', return_train_score=False, verbose=1)\n",
    "grid_search = grid.fit(a,b)\n",
    "print(grid_search.best_params_)\n",
    "print(grid_search.best_score_)"
   ]
  },
  {
   "cell_type": "code",
   "execution_count": 715,
   "id": "175b8902-7d0c-4aee-8346-2bd5e63bbcca",
   "metadata": {},
   "outputs": [
    {
     "name": "stdout",
     "output_type": "stream",
     "text": [
      "{'max_depth': 7, 'min_samples_split': 10}\n"
     ]
    }
   ],
   "source": [
    "Ss = {'max_depth': [3,4,7,9,10,12,14,20,24,26], 'min_samples_split': [4,6,8,10,12]}\n",
    "grid = GridSearchCV(dc_r, param_grid=Ss, cv=5)\n",
    "grid_search = grid.fit(x,y)\n",
    "print(grid_search.best_params_)\n"
   ]
  },
  {
   "cell_type": "code",
   "execution_count": 716,
   "id": "f3e4779e-1852-471e-a7bb-2ad8e2fc560f",
   "metadata": {},
   "outputs": [],
   "source": [
    "from sklearn.metrics import roc_curve, auc\n",
    "# Predict probabilities\n"
   ]
  },
  {
   "cell_type": "code",
   "execution_count": 717,
   "id": "50c15e3c-f832-4fe7-b6e2-90111495d6f2",
   "metadata": {},
   "outputs": [
    {
     "data": {
      "image/png": "[encoded data removed]",
      "text/plain": [
       "<Figure size 640x480 with 1 Axes>"
      ]
     },
     "metadata": {},
     "output_type": "display_data"
    }
   ],
   "source": [
    "# ROC curve and AUC\n",
    "# Compute ROC curve and AUC\n",
    "fpr, tpr, thresholds = roc_curve(b_test, pred)\n",
    "roc_auc = auc(fpr, tpr)\n",
    "\n",
    "# Plot ROC curve\n",
    "plt.figure()\n",
    "plt.plot(fpr, tpr, color='blue', lw=2, label='ROC curve (area = {:.2f})'.format(roc_auc))\n",
    "plt.plot([0, 1], [0, 1], color='red', lw=2, linestyle='--')  # Diagonal line\n",
    "plt.xlim([0.0, 1.0])\n",
    "plt.ylim([0.0, 1.05])\n",
    "plt.xlabel('False Positive Rate')\n",
    "plt.ylabel('True Positive Rate')\n",
    "plt.title('Receiver Operating Characteristic (ROC) Curve')\n",
    "plt.legend(loc='lower right')\n",
    "plt.show()"
   ]
  },
  {
   "cell_type": "code",
   "execution_count": 718,
   "id": "38699438-5b7f-4ff2-ac24-6574e4d36762",
   "metadata": {},
   "outputs": [
    {
     "data": {
      "text/plain": [
       "product_ref\n",
       "2.0     34285\n",
       "9.0     23205\n",
       "8.0     17760\n",
       "23.0    15310\n",
       "5.0     15118\n",
       "21.0    10564\n",
       "7.0      6222\n",
       "24.0     3934\n",
       "14.0     3825\n",
       "28.0     1492\n",
       "19.0      946\n",
       "4.0       519\n",
       "11.0      446\n",
       "20.0      275\n",
       "29.0      260\n",
       "13.0      203\n",
       "16.0      144\n",
       "30.0      134\n",
       "26.0      131\n",
       "3.0        96\n",
       "25.0       51\n",
       "1.0        44\n",
       "22.0       41\n",
       "27.0       17\n",
       "10.0       13\n",
       "15.0        4\n",
       "0.0         2\n",
       "6.0         2\n",
       "12.0        1\n",
       "Name: count, dtype: int64"
      ]
     },
     "execution_count": 718,
     "metadata": {},
     "output_type": "execute_result"
    }
   ],
   "source": [
    "\n",
    "cleaned_data_['product_ref'].value_counts()"
   ]
  },
  {
   "cell_type": "code",
   "execution_count": 719,
   "id": "034e5515-b217-4650-9375-f77318208e73",
   "metadata": {},
   "outputs": [
    {
     "name": "stdout",
     "output_type": "stream",
     "text": [
      "[1.]\n",
      "The status is: Won\n"
     ]
    },
    {
     "name": "stderr",
     "output_type": "stream",
     "text": [
      "C:\\ProgramData\\anaconda3\\Lib\\site-packages\\sklearn\\base.py:439: UserWarning: X does not have valid feature names, but DecisionTreeClassifier was fitted with feature names\n",
      "  warnings.warn(\n"
     ]
    }
   ],
   "source": [
    "# Predict the status for a new sample\n",
    "\n",
    "\n",
    "\n",
    "input_data = {\n",
    "   'item type': ['W'],\n",
    "   'application': [10.0],\n",
    "   'country': [78.0],\n",
    "   'product_ref': [1668701718],\n",
    "   'selling_price_log': [1283.99],\n",
    "   'quantity tons_log': [1144.45],\n",
    "   'thickness_log': [4.0],\n",
    "   'width_log': [1500.00],\n",
    "   'customer': [30223403],\n",
    "   'material_ref': ['NaN'],\n",
    "   'Delivery_time_log': [22]       \n",
    "}\n",
    "input_data = pd.DataFrame(input_data)\n",
    "\n",
    "\n",
    "\n",
    "input_data['item type'] = OE1.transform(input_data[['item type']])\n",
    "input_data['material_ref'] = OE2.transform(input_data[['material_ref']])\n",
    "input_data['product_ref'] = OE3.transform(input_data[['product_ref']])\n",
    "input_data['width_log'] = np.log(input_data['width_log'])\n",
    "input_data['quantity tons_log'] = np.log(input_data['quantity tons_log'])\n",
    "input_data['thickness_log'] = np.log(input_data['thickness_log'])\n",
    "input_data['selling_price_log'] = np.log(input_data['selling_price_log']) \n",
    "input_data['Delivery_time_log'] = np.log(input_data['Delivery_time_log'])\n",
    "\n",
    "input_data=input_data[['selling_price_log','item type','application','thickness_log','width_log','country','product_ref', 'material_ref', 'quantity tons_log','customer', 'Delivery_time_log' ]]\n",
    "\n",
    "input_data_s = scaler.transform(input_data)     \n",
    "new_pred = dc1.predict(input_data_s)\n",
    "\n",
    "print(new_pred)\n",
    "if new_pred==1:\n",
    "    print('The status is: Won')\n",
    "else:\n",
    "    print('The status is: Lost')\n",
    "\n"
   ]
  },
  {
   "cell_type": "code",
   "execution_count": null,
   "id": "ba2a4bc5-05d1-4029-aa04-70ca92f951f7",
   "metadata": {},
   "outputs": [],
   "source": []
  },
  {
   "cell_type": "code",
   "execution_count": null,
   "id": "44532c08-be5d-42fd-99fe-bcd6fc46f212",
   "metadata": {},
   "outputs": [],
   "source": []
  },
  {
   "cell_type": "code",
   "execution_count": null,
   "id": "4f40639e-b86c-42d9-ba8e-9709f49f13d2",
   "metadata": {},
   "outputs": [],
   "source": []
  },
  {
   "cell_type": "code",
   "execution_count": null,
   "id": "aae264fd-ccbd-4b77-8f9f-439f72800adf",
   "metadata": {},
   "outputs": [],
   "source": []
  },
  {
   "cell_type": "code",
   "execution_count": null,
   "id": "12b891bf-48b6-489f-a75c-bfb272f9c3ac",
   "metadata": {},
   "outputs": [],
   "source": []
  },
  {
   "cell_type": "code",
   "execution_count": null,
   "id": "f9c2542e-c822-4623-9f76-c7ef254196cf",
   "metadata": {},
   "outputs": [],
   "source": []
  }
 ],
 "metadata": {
  "kernelspec": {
   "display_name": "Python 3 (ipykernel)",
   "language": "python",
   "name": "python3"
  },
  "language_info": {
   "codemirror_mode": {
    "name": "ipython",
    "version": 3
   },
   "file_extension": ".py",
   "mimetype": "text/x-python",
   "name": "python",
   "nbconvert_exporter": "python",
   "pygments_lexer": "ipython3",
   "version": "3.11.7"
  }
 },
 "nbformat": 4,
 "nbformat_minor": 5
}
